{
 "cells": [
  {
   "cell_type": "code",
   "execution_count": 593,
   "metadata": {
    "collapsed": true,
    "pycharm": {
     "name": "#%%\n"
    }
   },
   "outputs": [],
   "source": [
    "from IPython.core.display_functions import display\n",
    "from lusidtools.jupyter_tools import toggle_code\n",
    "\n",
    "\"\"\"Term Deposit Valuation\n",
    "\n",
    "Demonstrates pricing of a Term Deposit Investment.\n",
    "\n",
    "Attributes\n",
    "----------\n",
    "instruments\n",
    "valuation\n",
    "lifecycle events\n",
    "market data store\n",
    "results store\n",
    "quotes\n",
    "\"\"\"\n",
    "\n",
    "toggle_code(\"Hide docstring\")"
   ]
  },
  {
   "cell_type": "markdown",
   "source": [
    "# Valuing and Rolling Term Deposits\n",
    "In this notebook, we demonstrate how Term Deposits are handled in LUSID, as well as how to roll term deposits, represent cashflow payements and perform valuations.\n",
    "\n",
    "# Table of contents\n",
    "\n",
    "\n",
    "# !! Todo"
   ],
   "metadata": {
    "collapsed": false,
    "pycharm": {
     "name": "#%% md\n"
    }
   }
  },
  {
   "cell_type": "code",
   "execution_count": 594,
   "outputs": [
    {
     "name": "stdout",
     "output_type": "stream",
     "text": [
      "LUSID Environment Initialised\n",
      "LUSID SDK Version:  0.6.11167.0\n"
     ]
    }
   ],
   "source": [
    "# Import LUSID libraries\n",
    "import lusid as lu\n",
    "import lusid.models as lm\n",
    "from lusidtools.lpt.lpt import to_date\n",
    "\n",
    "from lusidtools.pandas_utils.lusid_pandas import lusid_response_to_data_frame\n",
    "from lusidjam.refreshing_token import RefreshingToken\n",
    "import lusid.models as models\n",
    "\n",
    "# Import Libraries\n",
    "from datetime import datetime, timedelta\n",
    "import pytz\n",
    "import pandas as pd\n",
    "import json\n",
    "import os\n",
    "\n",
    "# Settings and utility functions to display objects and responses more clearly.\n",
    "pd.set_option('float_format', '{:,.4f}'.format)\n",
    "\n",
    "# Set the secrets path\n",
    "secrets_path = os.getenv(\"FBN_SECRETS_PATH\")\n",
    "\n",
    "if secrets_path is None:\n",
    "    secrets_path = os.path.join(os.path.dirname(os.getcwd()), \"secrets.json\")\n",
    "\n",
    "api_factory = lu.utilities.ApiClientFactory(\n",
    "        token=RefreshingToken(),\n",
    "        api_secrets_filename = secrets_path,\n",
    "        app_name=\"LusidJupyterNotebook\")\n",
    "\n",
    "print ('LUSID Environment Initialised')\n",
    "print ('LUSID SDK Version: ', api_factory.build(lu.api.ApplicationMetadataApi).get_lusid_versions().build_version)"
   ],
   "metadata": {
    "collapsed": false,
    "pycharm": {
     "name": "#%%\n"
    }
   }
  },
  {
   "cell_type": "code",
   "execution_count": 595,
   "outputs": [],
   "source": [
    "# Initiate the LUSID APIs required for the notebook\n",
    "instruments_api = api_factory.build(lu.api.InstrumentsApi)\n",
    "transaction_portfolios_api = api_factory.build(lu.api.TransactionPortfoliosApi)\n",
    "configuration_recipe_api = api_factory.build(lu.api.ConfigurationRecipeApi)\n",
    "aggregation_api = api_factory.build(lu.AggregationApi)\n",
    "quotes_api = api_factory.build(lu.QuotesApi)"
   ],
   "metadata": {
    "collapsed": false,
    "pycharm": {
     "name": "#%%\n"
    }
   }
  },
  {
   "cell_type": "code",
   "execution_count": 596,
   "outputs": [],
   "source": [
    "# Define scopes\n",
    "scope = \"ibor\"\n",
    "portfolio_code = \"TermDepositExamplePortfolio\""
   ],
   "metadata": {
    "collapsed": false,
    "pycharm": {
     "name": "#%%\n"
    }
   }
  },
  {
   "cell_type": "markdown",
   "source": [
    "# 1. Create Portfolio\n",
    "We must first create portfolio to keep the term depoists in."
   ],
   "metadata": {
    "collapsed": false,
    "pycharm": {
     "name": "#%% md\n"
    }
   }
  },
  {
   "cell_type": "code",
   "execution_count": 597,
   "outputs": [
    {
     "name": "stdout",
     "output_type": "stream",
     "text": [
      "Could not create a portfolio with id 'TermDepositExamplePortfolio' because it already exists in scope 'ibor'.\n"
     ]
    }
   ],
   "source": [
    "try:\n",
    "    transaction_portfolios_api.create_portfolio(\n",
    "        scope=scope,\n",
    "        create_transaction_portfolio_request=lm.CreateTransactionPortfolioRequest(\n",
    "            display_name=portfolio_code,\n",
    "            code=portfolio_code,\n",
    "            base_currency=\"USD\",\n",
    "            created=\"2010-01-01\",\n",
    "            sub_holding_keys=[],\n",
    "        ),\n",
    "    )\n",
    "\n",
    "except lu.ApiException as e:\n",
    "    print(json.loads(e.body)[\"title\"])"
   ],
   "metadata": {
    "collapsed": false,
    "pycharm": {
     "name": "#%%\n"
    }
   }
  },
  {
   "cell_type": "markdown",
   "source": [
    "# 2. Create Term Deposit Instruments\n",
    "Next we must create an instrument to represent the Term Deposit. In LUSID the rate of the term deposit must be defined at creation and cannot be adjusted."
   ],
   "metadata": {
    "collapsed": false,
    "pycharm": {
     "name": "#%% md\n"
    }
   }
  },
  {
   "cell_type": "code",
   "execution_count": 598,
   "outputs": [],
   "source": [
    "# The flow convention defines the payment schedule for the term deposit. This example pays every 6 months.\n",
    "flow_conventions = lm.FlowConventions(\n",
    "    currency=\"USD\",\n",
    "    payment_frequency=\"6M\",\n",
    "    roll_convention=\"F\",\n",
    "    day_count_convention=\"Actual360\",\n",
    "    payment_calendars=[],\n",
    "    reset_calendars=[],\n",
    "    settle_days=0,\n",
    "    reset_days=0,\n",
    ")"
   ],
   "metadata": {
    "collapsed": false,
    "pycharm": {
     "name": "#%%\n"
    }
   }
  },
  {
   "cell_type": "code",
   "execution_count": 599,
   "outputs": [],
   "source": [
    "# Define key dates for the term deposits\n",
    "start_date = datetime(2020, 3, 18, 00, tzinfo=pytz.utc)\n",
    "maturity_date = datetime(2020, 9, 18, 00, tzinfo=pytz.utc)"
   ],
   "metadata": {
    "collapsed": false,
    "pycharm": {
     "name": "#%%\n"
    }
   }
  },
  {
   "cell_type": "code",
   "execution_count": 600,
   "outputs": [],
   "source": [
    "# Helper method to create term deposit instrument\n",
    "def create_td_instrument(\n",
    "    name,\n",
    "    identifier,\n",
    "    start_date,\n",
    "    maturity_date,\n",
    "    contract_size,\n",
    "    flow_convention,\n",
    "    rate,\n",
    "    dom_ccy\n",
    "):\n",
    "    td_instrument = lm.TermDeposit(\n",
    "        start_date=start_date,\n",
    "        maturity_date=maturity_date,\n",
    "        contract_size=contract_size,\n",
    "        flow_convention=flow_convention,\n",
    "        rate=rate,\n",
    "        dom_ccy=dom_ccy,\n",
    "        instrument_type=\"TermDeposit\",\n",
    "        local_vars_configuration=None)\n",
    "\n",
    "    td_definition = lm.InstrumentDefinition(\n",
    "        name=name,\n",
    "        identifiers={\"ClientInternal\": lm.InstrumentIdValue(identifier)},\n",
    "        definition=td_instrument\n",
    "    )\n",
    "\n",
    "    upsert_request = {identifier: td_definition}\n",
    "    upsert_response = instruments_api.upsert_instruments(request_body=upsert_request)\n",
    "    td_luid = upsert_response.values[identifier]\n",
    "    print(f\"Created instrument with LUID:{td_luid.lusid_instrument_id} and ClientInternal:{identifier}\")\n",
    "    return td_luid.lusid_instrument_id"
   ],
   "metadata": {
    "collapsed": false,
    "pycharm": {
     "name": "#%%\n"
    }
   }
  },
  {
   "cell_type": "code",
   "execution_count": 601,
   "outputs": [
    {
     "name": "stdout",
     "output_type": "stream",
     "text": [
      "Created instrument with LUID:LUID_00003DET and ClientInternal:TD_Inst_A\n"
     ]
    }
   ],
   "source": [
    "td_client_a = \"TD_Inst_A\"\n",
    "td_luid_a = create_td_instrument(\n",
    "    \"Term Deposit Instrument A\",\n",
    "    td_client_a,\n",
    "    start_date,\n",
    "    maturity_date,\n",
    "    1000,\n",
    "    flow_conventions,\n",
    "    0.03,\n",
    "    \"USD\"\n",
    ")"
   ],
   "metadata": {
    "collapsed": false,
    "pycharm": {
     "name": "#%%\n"
    }
   }
  },
  {
   "cell_type": "markdown",
   "source": [
    "# 3. Add Transactions\n",
    "We will first add an initial cash deposit of $1,000,000 into the portfolio."
   ],
   "metadata": {
    "collapsed": false,
    "pycharm": {
     "name": "#%% md\n"
    }
   }
  },
  {
   "cell_type": "code",
   "execution_count": 602,
   "outputs": [
    {
     "name": "stdout",
     "output_type": "stream",
     "text": [
      "Successfully upserted transaction: {'href': 'https://liberty.lusid.com/api/api/transactionportfolios/ibor/TermDepositExamplePortfolio/transactions?asAt=2023-04-24T07%3A37%3A16.1158760%2B00%3A00',\n",
      " 'links': [{'description': None,\n",
      "            'href': 'https://liberty.lusid.com/api/api/portfolios/ibor/TermDepositExamplePortfolio?effectiveAt=2010-01-01T00%3A00%3A00.0000000%2B00%3A00&asAt=2023-04-24T07%3A37%3A16.1158760%2B00%3A00',\n",
      "            'method': 'GET',\n",
      "            'relation': 'Root'},\n",
      "           {'description': None,\n",
      "            'href': 'https://liberty.lusid.com/api/api/schemas/entities/UpsertPortfolioTransactionsResponse',\n",
      "            'method': 'GET',\n",
      "            'relation': 'EntitySchema'},\n",
      "           {'description': 'A link to the LUSID Insights website showing all '\n",
      "                           'logs related to this request',\n",
      "            'href': 'http://liberty.lusid.com/app/insights/logs/0HMQ3SGAOL90B:00000004',\n",
      "            'method': 'GET',\n",
      "            'relation': 'RequestLogs'}],\n",
      " 'metadata': {},\n",
      " 'version': {'as_at_date': datetime.datetime(2023, 4, 24, 7, 37, 16, 115876, tzinfo=tzutc()),\n",
      "             'effective_from': datetime.datetime(2010, 1, 1, 0, 0, tzinfo=tzutc())}}\n"
     ]
    }
   ],
   "source": [
    "txn = lm.TransactionRequest(\n",
    "transaction_id=\"txn_000\",\n",
    "type=\"FundsIn\",\n",
    "instrument_identifiers={\"Instrument/default/Currency\": \"USD\"},\n",
    "transaction_date=(datetime(2020, 3, 10, 00, tzinfo=pytz.utc)).isoformat(),\n",
    "settlement_date=(datetime(2020, 3, 10, 00, tzinfo=pytz.utc)).isoformat(),\n",
    "units=1000,\n",
    "transaction_price=lm.TransactionPrice(price=1,type=\"Price\"),\n",
    "total_consideration=lm.CurrencyAndAmount(amount=1000000,currency=\"USD\")\n",
    ")\n",
    "\n",
    "resp = transaction_portfolios_api.upsert_transactions(\n",
    "    scope=scope, code=portfolio_code, transaction_request=[txn]\n",
    ")\n",
    "print(\"Successfully upserted transaction:\", resp)"
   ],
   "metadata": {
    "collapsed": false,
    "pycharm": {
     "name": "#%%\n"
    }
   }
  },
  {
   "cell_type": "code",
   "execution_count": 603,
   "outputs": [],
   "source": [
    "# Helper method to upsert transactions into LUSID\n",
    "def upsert_transaction(txn_id, type, luid, client_internal, txn_date, total_consideration):\n",
    "    txn = lm.TransactionRequest(\n",
    "    transaction_id=txn_id,\n",
    "    type=type,\n",
    "    instrument_identifiers={\"Instrument/default/LusidInstrumentId\": luid,\n",
    "                            \"Instrument/default/ClientInternal\": client_internal},\n",
    "    transaction_date=  txn_date.isoformat(),\n",
    "    settlement_date=(txn_date+timedelta(3)).isoformat(),\n",
    "    units=1000,\n",
    "    transaction_price=lm.TransactionPrice(price=1,type=\"Price\"),\n",
    "    total_consideration=lm.CurrencyAndAmount(amount=total_consideration,currency=\"USD\")\n",
    "    )\n",
    "\n",
    "    resp = transaction_portfolios_api.upsert_transactions(\n",
    "        scope=scope, code=portfolio_code, transaction_request=[txn]\n",
    "    )\n",
    "    print(\"Successfully upserted transaction:\", resp)"
   ],
   "metadata": {
    "collapsed": false,
    "pycharm": {
     "name": "#%%\n"
    }
   }
  },
  {
   "cell_type": "markdown",
   "source": [
    "The next transaction invests $\\$1,000,000 into Term Deposit A.\n",
    "In LUSID this is represented by buying the Term Deposit A Instrument for $\\$1,000,000"
   ],
   "metadata": {
    "collapsed": false,
    "pycharm": {
     "name": "#%% md\n"
    }
   }
  },
  {
   "cell_type": "code",
   "execution_count": 604,
   "outputs": [
    {
     "name": "stdout",
     "output_type": "stream",
     "text": [
      "Successfully upserted transaction: {'href': 'https://liberty.lusid.com/api/api/transactionportfolios/ibor/TermDepositExamplePortfolio/transactions?asAt=2023-04-24T07%3A37%3A16.1158760%2B00%3A00',\n",
      " 'links': [{'description': None,\n",
      "            'href': 'https://liberty.lusid.com/api/api/portfolios/ibor/TermDepositExamplePortfolio?effectiveAt=2010-01-01T00%3A00%3A00.0000000%2B00%3A00&asAt=2023-04-24T07%3A37%3A16.1158760%2B00%3A00',\n",
      "            'method': 'GET',\n",
      "            'relation': 'Root'},\n",
      "           {'description': None,\n",
      "            'href': 'https://liberty.lusid.com/api/api/schemas/entities/UpsertPortfolioTransactionsResponse',\n",
      "            'method': 'GET',\n",
      "            'relation': 'EntitySchema'},\n",
      "           {'description': 'A link to the LUSID Insights website showing all '\n",
      "                           'logs related to this request',\n",
      "            'href': 'http://liberty.lusid.com/app/insights/logs/0HMQ2HO0VACLL:0000009F',\n",
      "            'method': 'GET',\n",
      "            'relation': 'RequestLogs'}],\n",
      " 'metadata': {},\n",
      " 'version': {'as_at_date': datetime.datetime(2023, 4, 24, 7, 37, 16, 115876, tzinfo=tzutc()),\n",
      "             'effective_from': datetime.datetime(2010, 1, 1, 0, 0, tzinfo=tzutc())}}\n"
     ]
    }
   ],
   "source": [
    "upsert_transaction(\"txn001\", \"Buy\", td_luid_a, td_client_a, start_date, 1000000)"
   ],
   "metadata": {
    "collapsed": false,
    "pycharm": {
     "name": "#%%\n"
    }
   }
  },
  {
   "cell_type": "code",
   "execution_count": 605,
   "outputs": [],
   "source": [
    "# Helper method to view the transaction in LUSID up to a specific date\n",
    "def get_transactions_todate(to_transaction_date):\n",
    "    get_transactions_reponse = transaction_portfolios_api.get_transactions(\n",
    "        scope = scope,\n",
    "        code = portfolio_code,\n",
    "        to_transaction_date=to_transaction_date\n",
    "    )\n",
    "    df = lusid_response_to_data_frame(get_transactions_reponse)\n",
    "    return df[['transaction_id','type','instrument_identifiers.Instrument/default/ClientInternal','instrument_uid','transaction_date','settlement_date','transaction_price.price','total_consideration.amount','units']]"
   ],
   "metadata": {
    "collapsed": false,
    "pycharm": {
     "name": "#%%\n"
    }
   }
  },
  {
   "cell_type": "code",
   "execution_count": 606,
   "outputs": [
    {
     "data": {
      "text/plain": "  transaction_id     type  \\\n0        txn_000  FundsIn   \n1         txn001      Buy   \n\n  instrument_identifiers.Instrument/default/ClientInternal instrument_uid  \\\n0                                                NaN              CCY_USD   \n1                                          TD_Inst_A        LUID_00003DET   \n\n           transaction_date           settlement_date  \\\n0 2020-03-10 00:00:00+00:00 2020-03-10 00:00:00+00:00   \n1 2020-03-18 00:00:00+00:00 2020-03-21 00:00:00+00:00   \n\n   transaction_price.price  total_consideration.amount      units  \n0                   1.0000              1,000,000.0000 1,000.0000  \n1                   1.0000              1,000,000.0000 1,000.0000  ",
      "text/html": "<div>\n<style scoped>\n    .dataframe tbody tr th:only-of-type {\n        vertical-align: middle;\n    }\n\n    .dataframe tbody tr th {\n        vertical-align: top;\n    }\n\n    .dataframe thead th {\n        text-align: right;\n    }\n</style>\n<table border=\"1\" class=\"dataframe\">\n  <thead>\n    <tr style=\"text-align: right;\">\n      <th></th>\n      <th>transaction_id</th>\n      <th>type</th>\n      <th>instrument_identifiers.Instrument/default/ClientInternal</th>\n      <th>instrument_uid</th>\n      <th>transaction_date</th>\n      <th>settlement_date</th>\n      <th>transaction_price.price</th>\n      <th>total_consideration.amount</th>\n      <th>units</th>\n    </tr>\n  </thead>\n  <tbody>\n    <tr>\n      <th>0</th>\n      <td>txn_000</td>\n      <td>FundsIn</td>\n      <td>NaN</td>\n      <td>CCY_USD</td>\n      <td>2020-03-10 00:00:00+00:00</td>\n      <td>2020-03-10 00:00:00+00:00</td>\n      <td>1.0000</td>\n      <td>1,000,000.0000</td>\n      <td>1,000.0000</td>\n    </tr>\n    <tr>\n      <th>1</th>\n      <td>txn001</td>\n      <td>Buy</td>\n      <td>TD_Inst_A</td>\n      <td>LUID_00003DET</td>\n      <td>2020-03-18 00:00:00+00:00</td>\n      <td>2020-03-21 00:00:00+00:00</td>\n      <td>1.0000</td>\n      <td>1,000,000.0000</td>\n      <td>1,000.0000</td>\n    </tr>\n  </tbody>\n</table>\n</div>"
     },
     "execution_count": 606,
     "metadata": {},
     "output_type": "execute_result"
    }
   ],
   "source": [
    "get_transactions_todate(start_date)"
   ],
   "metadata": {
    "collapsed": false,
    "pycharm": {
     "name": "#%%\n"
    }
   }
  },
  {
   "cell_type": "markdown",
   "source": [
    "# 4. Get Holdings"
   ],
   "metadata": {
    "collapsed": false
   }
  },
  {
   "cell_type": "code",
   "execution_count": 607,
   "outputs": [],
   "source": [
    "# Helper method to view holdings in LUSID\n",
    "def get_holdings(date):\n",
    "    resp = transaction_portfolios_api.get_holdings(scope=scope,\n",
    "                                         code=portfolio_code,\n",
    "                                         property_keys=[\"Instrument/default/Name\"],\n",
    "                                        effective_at=date)\n",
    "    df = lusid_response_to_data_frame(resp)\n",
    "    return df[[\"instrument_scope\",\"instrument_uid\",\"properties.Instrument/default/Name.value.label_value\",\"units\",\"cost.amount\",\"holding_type_name\"]]"
   ],
   "metadata": {
    "collapsed": false,
    "pycharm": {
     "name": "#%%\n"
    }
   }
  },
  {
   "cell_type": "raw",
   "source": [
    "Looking at the portfolio holdings after the initial buy transaction has settled we can see Term Deposit A in the portfolio."
   ],
   "metadata": {
    "collapsed": false,
    "pycharm": {
     "name": "#%% raw\n"
    }
   }
  },
  {
   "cell_type": "code",
   "execution_count": 645,
   "outputs": [
    {
     "data": {
      "text/plain": "  instrument_scope instrument_uid  \\\n0          default        CCY_USD   \n1          default  LUID_00003DET   \n\n  properties.Instrument/default/Name.value.label_value         units  \\\n0                                                USD   -999,000.0000   \n1                          Term Deposit Instrument A      1,000.0000   \n\n     cost.amount holding_type_name  \n0  -999,000.0000           Balance  \n1 1,000,000.0000          Position  ",
      "text/html": "<div>\n<style scoped>\n    .dataframe tbody tr th:only-of-type {\n        vertical-align: middle;\n    }\n\n    .dataframe tbody tr th {\n        vertical-align: top;\n    }\n\n    .dataframe thead th {\n        text-align: right;\n    }\n</style>\n<table border=\"1\" class=\"dataframe\">\n  <thead>\n    <tr style=\"text-align: right;\">\n      <th></th>\n      <th>instrument_scope</th>\n      <th>instrument_uid</th>\n      <th>properties.Instrument/default/Name.value.label_value</th>\n      <th>units</th>\n      <th>cost.amount</th>\n      <th>holding_type_name</th>\n    </tr>\n  </thead>\n  <tbody>\n    <tr>\n      <th>0</th>\n      <td>default</td>\n      <td>CCY_USD</td>\n      <td>USD</td>\n      <td>-999,000.0000</td>\n      <td>-999,000.0000</td>\n      <td>Balance</td>\n    </tr>\n    <tr>\n      <th>1</th>\n      <td>default</td>\n      <td>LUID_00003DET</td>\n      <td>Term Deposit Instrument A</td>\n      <td>1,000.0000</td>\n      <td>1,000,000.0000</td>\n      <td>Position</td>\n    </tr>\n  </tbody>\n</table>\n</div>"
     },
     "execution_count": 645,
     "metadata": {},
     "output_type": "execute_result"
    }
   ],
   "source": [
    "get_holdings(start_date+timedelta(4))"
   ],
   "metadata": {
    "collapsed": false,
    "pycharm": {
     "name": "#%%\n"
    }
   }
  },
  {
   "cell_type": "markdown",
   "source": [
    "# 5. Running a Valuation\n",
    "In this section we will setup and run a valuation on our portfolio\n",
    "\n",
    "## 5.1 Setup recipe\n",
    "To run a valuation in LUSID we must first define a recipe.\n",
    "The helper method below defines a recipe for a Term Deposit instrument by passing in `instrument_type=\"TermDeposit\"` to the `VendorModelRule`."
   ],
   "metadata": {
    "collapsed": false,
    "pycharm": {
     "name": "#%% md\n"
    }
   }
  },
  {
   "cell_type": "code",
   "execution_count": 609,
   "outputs": [],
   "source": [
    "# Define a method for creating the recipe\n",
    "def create_recipe(recipe_code, scope, model):\n",
    "    # Populate recipe parameters\n",
    "    recipe = lm.ConfigurationRecipe(\n",
    "        scope=scope,\n",
    "        code=recipe_code,\n",
    "        market=lm.MarketContext(\n",
    "            market_rules=[\n",
    "                lm.MarketDataKeyRule(\n",
    "                    key=\"Equity.ClientInternal.*\",\n",
    "                    supplier=\"Lusid\",\n",
    "                    data_scope=scope,\n",
    "                    quote_type=\"Price\",\n",
    "                    field=\"mid\",\n",
    "                    quote_interval=\"5D.0D\"\n",
    "                ),\n",
    "                lm.MarketDataKeyRule(\n",
    "                    key=\"FxForwards.*\",\n",
    "                    supplier=\"Lusid\",\n",
    "                    data_scope=scope,\n",
    "                    quote_type=\"Rate\",\n",
    "                    field=\"mid\",\n",
    "                    quote_interval=\"1Y.0D\"\n",
    "                )\n",
    "            ],\n",
    "            options=lm.MarketOptions(\n",
    "                attempt_to_infer_missing_fx=True,\n",
    "                default_scope=scope\n",
    "            )\n",
    "        ),\n",
    "        # Set the valuation model - curve with no discounting\n",
    "        pricing=lm.PricingContext(\n",
    "            model_rules=[\n",
    "                lm.VendorModelRule(\n",
    "                    supplier=\"Lusid\",\n",
    "                    model_name=model,\n",
    "                    instrument_type=\"TermDeposit\",\n",
    "                    parameters=\"{}\",\n",
    "                )\n",
    "            ],\n",
    "            options=lm.PricingOptions(\n",
    "                produce_separate_result_for_linear_otc_legs=False\n",
    "            )\n",
    "        ),\n",
    "    )\n",
    "\n",
    "    response = configuration_recipe_api.upsert_configuration_recipe(\n",
    "                upsert_recipe_request=lm.UpsertRecipeRequest(\n",
    "                    configuration_recipe=recipe\n",
    "                )\n",
    "            )\n",
    "\n",
    "    return response"
   ],
   "metadata": {
    "collapsed": false,
    "pycharm": {
     "name": "#%%\n"
    }
   }
  },
  {
   "cell_type": "markdown",
   "source": [
    "LUSID supports SimpleStatic, Discounting and ConstantTimeValueOfMoney pricing models for term deposits. In this notebook we will look at SimpleStatic and ConstantTimeValueOfMoney models."
   ],
   "metadata": {
    "collapsed": false,
    "pycharm": {
     "name": "#%% md\n"
    }
   }
  },
  {
   "cell_type": "code",
   "execution_count": 610,
   "outputs": [
    {
     "data": {
      "text/plain": "{'href': None,\n 'links': [{'description': 'A link to the LUSID Insights website showing all '\n                           'logs related to this request',\n            'href': 'http://liberty.lusid.com/app/insights/logs/0HMQ2A6F8Q15L:00000063',\n            'method': 'GET',\n            'relation': 'RequestLogs'}],\n 'value': datetime.datetime(2023, 4, 24, 9, 33, 4, 299540, tzinfo=tzutc())}"
     },
     "execution_count": 610,
     "metadata": {},
     "output_type": "execute_result"
    }
   ],
   "source": [
    "# Define recipe names\n",
    "CTVoMRecipe = \"TermDepositRecipeCTVoM\"\n",
    "SSRecipe = \"TermDepositRecipeSS\"\n",
    "\n",
    "# Create recipes in LUSID\n",
    "create_recipe(CTVoMRecipe, scope, \"ConstantTimeValueOfMoney\")\n",
    "create_recipe(SSRecipe, scope, \"SimpleStatic\")"
   ],
   "metadata": {
    "collapsed": false,
    "pycharm": {
     "name": "#%%\n"
    }
   }
  },
  {
   "cell_type": "code",
   "execution_count": 611,
   "outputs": [],
   "source": [
    "# Helper method runs a valuation on the portfolio for a given date and recipe\n",
    "def perform_valuation(recipe, date):\n",
    "    # Create valuation request\n",
    "    valuation_request = lm.ValuationRequest(\n",
    "        # Choose recipe to use\n",
    "        recipe_id = lm.ResourceId(scope = scope, code = recipe),\n",
    "        group_by = ['Instrument/default/LusidInstrumentId'],\n",
    "        metrics = [\n",
    "        {\"key\": \"Instrument/default/LusidInstrumentId\", \"op\": \"Value\"},\n",
    "        {\"key\": \"Instrument/default/Name\", \"op\": \"Value\"},              # Reports the friendly name of the underlying instrument\n",
    "        {\"key\": \"Analytic/default/ValuationDate\", \"op\": \"Value\"},       # Confirms the valuation date\n",
    "        {\"key\": \"Valuation/PV\", \"op\": \"Sum\"}],                          # Calculates cost in GBP (the portfolio currency)\n",
    "        # Identify portfolio to value\n",
    "        portfolio_entity_ids = [lm.PortfolioEntityId(scope = scope, code = portfolio_code)],\n",
    "        # Make date of valuation conditional on effective at date passed into function\n",
    "        valuation_schedule = lm.ValuationSchedule(effective_at=date),\n",
    "    )\n",
    "\n",
    "    # Get portfolio valuation\n",
    "    val_data = aggregation_api.get_valuation(valuation_request = valuation_request).data\n",
    "\n",
    "    # Turn valuation response into pandas dataframe\n",
    "    vals_df = pd.DataFrame(val_data)\n",
    "    try:\n",
    "        return vals_df.drop('Aggregation Errors', axis=1)\n",
    "    except:\n",
    "        return vals_df"
   ],
   "metadata": {
    "collapsed": false,
    "pycharm": {
     "name": "#%%\n"
    }
   }
  },
  {
   "cell_type": "markdown",
   "source": [
    "Perform valuation using Constant Time Value of Money Model"
   ],
   "metadata": {
    "collapsed": false,
    "pycharm": {
     "name": "#%% md\n"
    }
   }
  },
  {
   "cell_type": "code",
   "execution_count": 612,
   "outputs": [
    {
     "data": {
      "text/plain": "  Instrument/default/LusidInstrumentId    Instrument/default/Name  \\\n0                              CCY_USD                        USD   \n1                        LUID_00003DET  Term Deposit Instrument A   \n\n      Analytic/default/ValuationDate  Sum(Valuation/PV)  \n0  2020-03-18T00:00:00.0000000+00:00      -999,000.0000  \n1  2020-03-18T00:00:00.0000000+00:00     1,015,333.3333  ",
      "text/html": "<div>\n<style scoped>\n    .dataframe tbody tr th:only-of-type {\n        vertical-align: middle;\n    }\n\n    .dataframe tbody tr th {\n        vertical-align: top;\n    }\n\n    .dataframe thead th {\n        text-align: right;\n    }\n</style>\n<table border=\"1\" class=\"dataframe\">\n  <thead>\n    <tr style=\"text-align: right;\">\n      <th></th>\n      <th>Instrument/default/LusidInstrumentId</th>\n      <th>Instrument/default/Name</th>\n      <th>Analytic/default/ValuationDate</th>\n      <th>Sum(Valuation/PV)</th>\n    </tr>\n  </thead>\n  <tbody>\n    <tr>\n      <th>0</th>\n      <td>CCY_USD</td>\n      <td>USD</td>\n      <td>2020-03-18T00:00:00.0000000+00:00</td>\n      <td>-999,000.0000</td>\n    </tr>\n    <tr>\n      <th>1</th>\n      <td>LUID_00003DET</td>\n      <td>Term Deposit Instrument A</td>\n      <td>2020-03-18T00:00:00.0000000+00:00</td>\n      <td>1,015,333.3333</td>\n    </tr>\n  </tbody>\n</table>\n</div>"
     },
     "execution_count": 612,
     "metadata": {},
     "output_type": "execute_result"
    }
   ],
   "source": [
    "perform_valuation(CTVoMRecipe,start_date)"
   ],
   "metadata": {
    "collapsed": false,
    "pycharm": {
     "name": "#%%\n"
    }
   }
  },
  {
   "cell_type": "markdown",
   "source": [
    "For simple static valuations in LUSID we must provide a quote for the instrument. The date of the quote should be within 5 days of the valuation date. In this example we will set the quote and valuation date at the start of the term deposit."
   ],
   "metadata": {
    "collapsed": false
   }
  },
  {
   "cell_type": "code",
   "execution_count": 646,
   "outputs": [],
   "source": [
    "# Helper method to upsert a quote\n",
    "# ?? Is this setup correctly\n",
    "def upsert_quote(luid, date):\n",
    "    quote_request = {\n",
    "       \"quote_request\" : lm.UpsertQuoteRequest(\n",
    "            quote_id=lm.QuoteId(\n",
    "                quote_series_id=lm.QuoteSeriesId(\n",
    "                    provider=\"Lusid\",\n",
    "                    instrument_id=luid,\n",
    "                    instrument_id_type=\"LusidInstrumentId\",\n",
    "                    quote_type=\"Price\",\n",
    "                    field=\"mid\",\n",
    "                ),\n",
    "                effective_at=date,\n",
    "            ),\n",
    "            metric_value=lm.MetricValue(value=1.06, unit=\"USD\"),\n",
    "        )}\n",
    "\n",
    "    # Upsert the quotes into LUSID\n",
    "    response = quotes_api.upsert_quotes(scope=scope, request_body=quote_request)\n",
    "    return f\"Successfully upserted quote for instrument: {response.values['quote_request'].quote_id.quote_series_id.instrument_id} with AsAt:{response.values['quote_request'].as_at}\""
   ],
   "metadata": {
    "collapsed": false,
    "pycharm": {
     "name": "#%%\n"
    }
   }
  },
  {
   "cell_type": "code",
   "execution_count": 647,
   "outputs": [
    {
     "data": {
      "text/plain": "'Successfully upserted quote for instrument: LUID_00003DET with AsAt:2023-04-24 09:37:42.622750+00:00'"
     },
     "execution_count": 647,
     "metadata": {},
     "output_type": "execute_result"
    }
   ],
   "source": [
    "upsert_quote(td_luid_a, start_date)"
   ],
   "metadata": {
    "collapsed": false,
    "pycharm": {
     "name": "#%%\n"
    }
   }
  },
  {
   "cell_type": "code",
   "execution_count": 648,
   "outputs": [
    {
     "data": {
      "text/plain": "  Instrument/default/LusidInstrumentId    Instrument/default/Name  \\\n0                              CCY_USD                        USD   \n1                        LUID_00003DET  Term Deposit Instrument A   \n\n      Analytic/default/ValuationDate  Sum(Valuation/PV)  \n0  2020-03-18T00:00:00.0000000+00:00      -999,000.0000  \n1  2020-03-18T00:00:00.0000000+00:00     1,060,000.0000  ",
      "text/html": "<div>\n<style scoped>\n    .dataframe tbody tr th:only-of-type {\n        vertical-align: middle;\n    }\n\n    .dataframe tbody tr th {\n        vertical-align: top;\n    }\n\n    .dataframe thead th {\n        text-align: right;\n    }\n</style>\n<table border=\"1\" class=\"dataframe\">\n  <thead>\n    <tr style=\"text-align: right;\">\n      <th></th>\n      <th>Instrument/default/LusidInstrumentId</th>\n      <th>Instrument/default/Name</th>\n      <th>Analytic/default/ValuationDate</th>\n      <th>Sum(Valuation/PV)</th>\n    </tr>\n  </thead>\n  <tbody>\n    <tr>\n      <th>0</th>\n      <td>CCY_USD</td>\n      <td>USD</td>\n      <td>2020-03-18T00:00:00.0000000+00:00</td>\n      <td>-999,000.0000</td>\n    </tr>\n    <tr>\n      <th>1</th>\n      <td>LUID_00003DET</td>\n      <td>Term Deposit Instrument A</td>\n      <td>2020-03-18T00:00:00.0000000+00:00</td>\n      <td>1,060,000.0000</td>\n    </tr>\n  </tbody>\n</table>\n</div>"
     },
     "execution_count": 648,
     "metadata": {},
     "output_type": "execute_result"
    }
   ],
   "source": [
    "perform_valuation(SSRecipe,start_date)"
   ],
   "metadata": {
    "collapsed": false,
    "pycharm": {
     "name": "#%%\n"
    }
   }
  },
  {
   "cell_type": "code",
   "execution_count": 616,
   "outputs": [],
   "source": [
    "# Helper method - used in the scenarios below - gives a valuation of a specific instrument at a given date\n",
    "def get_instr_valuation(recipe, date, luid):\n",
    "    df = pd.DataFrame(perform_valuation(recipe, date))\n",
    "    instr_val = df[df[\"Instrument/default/LusidInstrumentId\"]==luid]\n",
    "    return instr_val.iloc[0][3]"
   ],
   "metadata": {
    "collapsed": false,
    "pycharm": {
     "name": "#%%\n"
    }
   }
  },
  {
   "cell_type": "markdown",
   "source": [
    "## 6. Rolling a Term Deposit\n",
    "For these scenarios we will always use the Constant Time Value of Money pricing model.\n",
    "In LUSID we handle rolling a term deposit by selling the term deposit before maturity and buying it back again.\n",
    "This section will show 2 example scenarios:\n",
    "1. Rolling with a decrease to principal market value\n",
    "2. Rolling with an increase to interest"
   ],
   "metadata": {
    "collapsed": false,
    "pycharm": {
     "name": "#%% md\n"
    }
   }
  },
  {
   "cell_type": "markdown",
   "source": [
    "\n",
    "### 6.1 Rolling with a decrease to principal market value\n",
    "\n",
    "#### 6.1.1 Sell Term Deposit just before maturity\n",
    "To roll the deposit we first sell the deposit before maturity. We use the instrument valuation calculated on the sale transaction date for the sale price."
   ],
   "metadata": {
    "collapsed": false,
    "pycharm": {
     "name": "#%% md\n"
    }
   }
  },
  {
   "cell_type": "code",
   "execution_count": 617,
   "outputs": [],
   "source": [
    "def get_cashflow(start_date, maturity_date, recipe):\n",
    "    resp = transaction_portfolios_api.get_upsertable_portfolio_cash_flows(\n",
    "        scope=scope,\n",
    "        code=portfolio_code,\n",
    "        effective_at=maturity_date- timedelta(days=1),\n",
    "        window_start=start_date,\n",
    "        window_end=maturity_date + timedelta(days=2),\n",
    "        recipe_id_scope=scope,\n",
    "        recipe_id_code=recipe\n",
    "    )\n",
    "    display(lusid_response_to_data_frame(resp)[['transaction_id','type','instrument_identifiers.Instrument/default/LusidInstrumentId','units','total_consideration.amount']])\n",
    "    return resp.values"
   ],
   "metadata": {
    "collapsed": false,
    "pycharm": {
     "name": "#%%\n"
    }
   }
  },
  {
   "cell_type": "code",
   "execution_count": 618,
   "outputs": [],
   "source": [
    "txn = get_cashflow(start_date, maturity_date, CTVoMRecipe)\n",
    "\n",
    "#CTVOM adds up future cashflow. ONly one cash flow to cashflow = price."
   ],
   "metadata": {
    "collapsed": false,
    "pycharm": {
     "name": "#%%\n"
    }
   }
  },
  {
   "cell_type": "code",
   "execution_count": 619,
   "outputs": [
    {
     "data": {
      "text/plain": "{'href': 'https://liberty.lusid.com/api/api/transactionportfolios/ibor/TermDepositExamplePortfolio/transactions?asAt=2023-04-24T07%3A37%3A16.1158760%2B00%3A00',\n 'links': [{'description': None,\n            'href': 'https://liberty.lusid.com/api/api/portfolios/ibor/TermDepositExamplePortfolio?effectiveAt=2010-01-01T00%3A00%3A00.0000000%2B00%3A00&asAt=2023-04-24T07%3A37%3A16.1158760%2B00%3A00',\n            'method': 'GET',\n            'relation': 'Root'},\n           {'description': None,\n            'href': 'https://liberty.lusid.com/api/api/schemas/entities/UpsertPortfolioTransactionsResponse',\n            'method': 'GET',\n            'relation': 'EntitySchema'},\n           {'description': 'A link to the LUSID Insights website showing all '\n                           'logs related to this request',\n            'href': 'http://liberty.lusid.com/app/insights/logs/0HMQ2A6F8Q15L:00000068',\n            'method': 'GET',\n            'relation': 'RequestLogs'}],\n 'metadata': {},\n 'version': {'as_at_date': datetime.datetime(2023, 4, 24, 7, 37, 16, 115876, tzinfo=tzutc()),\n             'effective_from': datetime.datetime(2010, 1, 1, 0, 0, tzinfo=tzutc())}}"
     },
     "execution_count": 619,
     "metadata": {},
     "output_type": "execute_result"
    }
   ],
   "source": [
    "# Upsert Cashflow movement\n",
    "transaction_portfolios_api.upsert_transactions(\n",
    "    scope=scope, code=portfolio_code, transaction_request=txn\n",
    ")"
   ],
   "metadata": {
    "collapsed": false,
    "pycharm": {
     "name": "#%%\n"
    }
   }
  },
  {
   "cell_type": "code",
   "execution_count": 620,
   "outputs": [
    {
     "data": {
      "text/plain": "{'href': 'https://liberty.lusid.com/api/api/transactionportfolios/ibor/TermDepositExamplePortfolio/transactions?asAt=2023-04-24T07%3A37%3A16.1158760%2B00%3A00',\n 'links': [{'description': None,\n            'href': 'https://liberty.lusid.com/api/api/portfolios/ibor/TermDepositExamplePortfolio?effectiveAt=2010-01-01T00%3A00%3A00.0000000%2B00%3A00&asAt=2023-04-24T07%3A37%3A16.1158760%2B00%3A00',\n            'method': 'GET',\n            'relation': 'Root'},\n           {'description': None,\n            'href': 'https://liberty.lusid.com/api/api/schemas/entities/UpsertPortfolioTransactionsResponse',\n            'method': 'GET',\n            'relation': 'EntitySchema'},\n           {'description': 'A link to the LUSID Insights website showing all '\n                           'logs related to this request',\n            'href': 'http://liberty.lusid.com/app/insights/logs/0HMQ2A6F8Q15L:00000069',\n            'method': 'GET',\n            'relation': 'RequestLogs'}],\n 'metadata': {},\n 'version': {'as_at_date': datetime.datetime(2023, 4, 24, 7, 37, 16, 115876, tzinfo=tzutc()),\n             'effective_from': datetime.datetime(2010, 1, 1, 0, 0, tzinfo=tzutc())}}"
     },
     "execution_count": 620,
     "metadata": {},
     "output_type": "execute_result"
    }
   ],
   "source": [
    "# Stock out movement\n",
    "stout_a = lm.TransactionRequest(\n",
    "    transaction_id=\"txn002\",\n",
    "    type=\"StockOut\",\n",
    "    instrument_identifiers={\"Instrument/default/LusidInstrumentId\": td_luid_a,\n",
    "                             \"Instrument/default/ClientInternal\": td_client_a},\n",
    "    transaction_date=maturity_date.isoformat(),\n",
    "    settlement_date=(maturity_date+timedelta(3)).isoformat(),\n",
    "    units=1000,\n",
    "    transaction_price=lm.TransactionPrice(price=1,type=\"Price\"),\n",
    "    total_consideration=lm.CurrencyAndAmount(amount=1000000,currency=\"USD\"),\n",
    "    exchange_rate=1,\n",
    "    transaction_currency=\"USD\"\n",
    ")\n",
    "\n",
    "transaction_portfolios_api.upsert_transactions(\n",
    "    scope=scope, code=portfolio_code, transaction_request=[stout_a]\n",
    ")"
   ],
   "metadata": {
    "collapsed": false,
    "pycharm": {
     "name": "#%%\n"
    }
   }
  },
  {
   "cell_type": "raw",
   "source": [
    "We can see the sell transaction in our portfolio below"
   ],
   "metadata": {
    "collapsed": false
   }
  },
  {
   "cell_type": "markdown",
   "source": [
    "### 6.1.2 Buy term deposit back with a increase to market value\n",
    "In the cell below we will define a new Term Deposit B Instrument which has a start date at the end of the first Term Deposit A and a maturity date 6 months later. In all other aspects it is the same as the first term deposit instrument which was sold above.\n"
   ],
   "metadata": {
    "collapsed": false,
    "pycharm": {
     "name": "#%% md\n"
    }
   }
  },
  {
   "cell_type": "code",
   "execution_count": 621,
   "outputs": [],
   "source": [
    "# For rolling term deposits we will define new start dates and maturity dates.\n",
    "roll1_start_date = maturity_date\n",
    "roll1_maturity_date = datetime(2021,3,18,00,tzinfo=pytz.utc)\n",
    "\n",
    "pre_maturity_sale_date = maturity_date - timedelta(2)"
   ],
   "metadata": {
    "collapsed": false,
    "pycharm": {
     "name": "#%%\n"
    }
   }
  },
  {
   "cell_type": "code",
   "execution_count": 622,
   "outputs": [
    {
     "name": "stdout",
     "output_type": "stream",
     "text": [
      "Created instrument with LUID:LUID_00003DEU and ClientInternal:TD_Inst_B\n"
     ]
    }
   ],
   "source": [
    "td_client_b = \"TD_Inst_B\"\n",
    "td_luid_b  = create_td_instrument(\n",
    "    \"Term Deposit Instrument B\",\n",
    "    td_client_b,\n",
    "    roll1_start_date,\n",
    "    roll1_maturity_date,\n",
    "    1000,\n",
    "    flow_conventions,\n",
    "    0.03,\n",
    "    \"USD\"\n",
    ")"
   ],
   "metadata": {
    "collapsed": false,
    "pycharm": {
     "name": "#%%\n"
    }
   }
  },
  {
   "cell_type": "markdown",
   "source": [
    "We will now buy the new Term Deposit Instrument B at the same price we initially brought Term Deposit Instrument A.\n",
    "The is effectively reinvesting the $1,000,000 initially invested in Term Deposit A and the returns into Term Deposit B"
   ],
   "metadata": {
    "collapsed": false,
    "pycharm": {
     "name": "#%% md\n"
    }
   }
  },
  {
   "cell_type": "code",
   "execution_count": 623,
   "outputs": [
    {
     "name": "stdout",
     "output_type": "stream",
     "text": [
      "Successfully upserted transaction: {'href': 'https://liberty.lusid.com/api/api/transactionportfolios/ibor/TermDepositExamplePortfolio/transactions?asAt=2023-04-24T07%3A37%3A16.1158760%2B00%3A00',\n",
      " 'links': [{'description': None,\n",
      "            'href': 'https://liberty.lusid.com/api/api/portfolios/ibor/TermDepositExamplePortfolio?effectiveAt=2010-01-01T00%3A00%3A00.0000000%2B00%3A00&asAt=2023-04-24T07%3A37%3A16.1158760%2B00%3A00',\n",
      "            'method': 'GET',\n",
      "            'relation': 'Root'},\n",
      "           {'description': None,\n",
      "            'href': 'https://liberty.lusid.com/api/api/schemas/entities/UpsertPortfolioTransactionsResponse',\n",
      "            'method': 'GET',\n",
      "            'relation': 'EntitySchema'},\n",
      "           {'description': 'A link to the LUSID Insights website showing all '\n",
      "                           'logs related to this request',\n",
      "            'href': 'http://liberty.lusid.com/app/insights/logs/0HMQ2A6F8Q15L:0000006B',\n",
      "            'method': 'GET',\n",
      "            'relation': 'RequestLogs'}],\n",
      " 'metadata': {},\n",
      " 'version': {'as_at_date': datetime.datetime(2023, 4, 24, 7, 37, 16, 115876, tzinfo=tzutc()),\n",
      "             'effective_from': datetime.datetime(2010, 1, 1, 0, 0, tzinfo=tzutc())}}\n"
     ]
    }
   ],
   "source": [
    "inst_a_val = get_instr_valuation(CTVoMRecipe,maturity_date-timedelta(1),td_luid_a)\n",
    "upsert_transaction(\"txn003\", \"Buy\", td_luid_b, td_client_b, roll1_start_date, inst_a_val)"
   ],
   "metadata": {
    "collapsed": false,
    "pycharm": {
     "name": "#%%\n"
    }
   }
  },
  {
   "cell_type": "raw",
   "source": [
    "Running the cell below shows the transactions in the portoflio that have happend by the maturity date.\n",
    "We can see the `StockOut` removing Term Deposit A from the portfolio at maturity and the `CashFlow` transaction which realises the cash value of the deposit. The `Buy` transaction represents reinvesting $1,000,000 in Term Deposit B."
   ],
   "metadata": {
    "collapsed": false,
    "pycharm": {
     "name": "#%% raw\n"
    }
   }
  },
  {
   "cell_type": "code",
   "execution_count": 624,
   "outputs": [
    {
     "data": {
      "text/plain": "                                   transaction_id      type  \\\n0                                         txn_000   FundsIn   \n1                                          txn001       Buy   \n2                                          txn003       Buy   \n3                                          txn002  StockOut   \n4  txn001-LUID_00003DET-20200918-Cash-USD-Receive  CashFlow   \n\n  instrument_identifiers.Instrument/default/ClientInternal instrument_uid  \\\n0                                                NaN              CCY_USD   \n1                                          TD_Inst_A        LUID_00003DET   \n2                                          TD_Inst_B        LUID_00003DEU   \n3                                          TD_Inst_A        LUID_00003DET   \n4                                                NaN        LUID_00003DET   \n\n           transaction_date           settlement_date  \\\n0 2020-03-10 00:00:00+00:00 2020-03-10 00:00:00+00:00   \n1 2020-03-18 00:00:00+00:00 2020-03-21 00:00:00+00:00   \n2 2020-09-18 00:00:00+00:00 2020-09-21 00:00:00+00:00   \n3 2020-09-18 00:00:00+00:00 2020-09-21 00:00:00+00:00   \n4 2020-09-18 00:00:00+00:00 2020-09-18 00:00:00+00:00   \n\n   transaction_price.price  total_consideration.amount          units  \n0                   1.0000              1,000,000.0000     1,000.0000  \n1                   1.0000              1,000,000.0000     1,000.0000  \n2                   1.0000              1,015,333.3333     1,000.0000  \n3                   1.0000              1,000,000.0000     1,000.0000  \n4                   1.0000              1,015,333.3333 1,015,333.3333  ",
      "text/html": "<div>\n<style scoped>\n    .dataframe tbody tr th:only-of-type {\n        vertical-align: middle;\n    }\n\n    .dataframe tbody tr th {\n        vertical-align: top;\n    }\n\n    .dataframe thead th {\n        text-align: right;\n    }\n</style>\n<table border=\"1\" class=\"dataframe\">\n  <thead>\n    <tr style=\"text-align: right;\">\n      <th></th>\n      <th>transaction_id</th>\n      <th>type</th>\n      <th>instrument_identifiers.Instrument/default/ClientInternal</th>\n      <th>instrument_uid</th>\n      <th>transaction_date</th>\n      <th>settlement_date</th>\n      <th>transaction_price.price</th>\n      <th>total_consideration.amount</th>\n      <th>units</th>\n    </tr>\n  </thead>\n  <tbody>\n    <tr>\n      <th>0</th>\n      <td>txn_000</td>\n      <td>FundsIn</td>\n      <td>NaN</td>\n      <td>CCY_USD</td>\n      <td>2020-03-10 00:00:00+00:00</td>\n      <td>2020-03-10 00:00:00+00:00</td>\n      <td>1.0000</td>\n      <td>1,000,000.0000</td>\n      <td>1,000.0000</td>\n    </tr>\n    <tr>\n      <th>1</th>\n      <td>txn001</td>\n      <td>Buy</td>\n      <td>TD_Inst_A</td>\n      <td>LUID_00003DET</td>\n      <td>2020-03-18 00:00:00+00:00</td>\n      <td>2020-03-21 00:00:00+00:00</td>\n      <td>1.0000</td>\n      <td>1,000,000.0000</td>\n      <td>1,000.0000</td>\n    </tr>\n    <tr>\n      <th>2</th>\n      <td>txn003</td>\n      <td>Buy</td>\n      <td>TD_Inst_B</td>\n      <td>LUID_00003DEU</td>\n      <td>2020-09-18 00:00:00+00:00</td>\n      <td>2020-09-21 00:00:00+00:00</td>\n      <td>1.0000</td>\n      <td>1,015,333.3333</td>\n      <td>1,000.0000</td>\n    </tr>\n    <tr>\n      <th>3</th>\n      <td>txn002</td>\n      <td>StockOut</td>\n      <td>TD_Inst_A</td>\n      <td>LUID_00003DET</td>\n      <td>2020-09-18 00:00:00+00:00</td>\n      <td>2020-09-21 00:00:00+00:00</td>\n      <td>1.0000</td>\n      <td>1,000,000.0000</td>\n      <td>1,000.0000</td>\n    </tr>\n    <tr>\n      <th>4</th>\n      <td>txn001-LUID_00003DET-20200918-Cash-USD-Receive</td>\n      <td>CashFlow</td>\n      <td>NaN</td>\n      <td>LUID_00003DET</td>\n      <td>2020-09-18 00:00:00+00:00</td>\n      <td>2020-09-18 00:00:00+00:00</td>\n      <td>1.0000</td>\n      <td>1,015,333.3333</td>\n      <td>1,015,333.3333</td>\n    </tr>\n  </tbody>\n</table>\n</div>"
     },
     "execution_count": 624,
     "metadata": {},
     "output_type": "execute_result"
    }
   ],
   "source": [
    "get_transactions_todate(roll1_start_date)"
   ],
   "metadata": {
    "collapsed": false,
    "pycharm": {
     "name": "#%%\n"
    }
   }
  },
  {
   "cell_type": "markdown",
   "source": [
    "The table below shows the holdings in the portfolio after the transactions have settled 3 days later.\n",
    "Here we can see the Term Deposit Instrument A is not longer in the portfolio and has been replaced by Term Deposit Instrument B.\n",
    "The $15,000 cash balance represents the interest earned from the maturity of Term Deposit A."
   ],
   "metadata": {
    "collapsed": false,
    "pycharm": {
     "name": "#%% md\n"
    }
   }
  },
  {
   "cell_type": "code",
   "execution_count": 625,
   "outputs": [
    {
     "data": {
      "text/plain": "  instrument_scope instrument_uid  \\\n0          default        CCY_USD   \n1          default  LUID_00003DEU   \n\n  properties.Instrument/default/Name.value.label_value         units  \\\n0                                                USD   -999,000.0000   \n1                          Term Deposit Instrument B      1,000.0000   \n\n     cost.amount holding_type_name  \n0  -999,000.0000           Balance  \n1 1,015,333.3300          Position  ",
      "text/html": "<div>\n<style scoped>\n    .dataframe tbody tr th:only-of-type {\n        vertical-align: middle;\n    }\n\n    .dataframe tbody tr th {\n        vertical-align: top;\n    }\n\n    .dataframe thead th {\n        text-align: right;\n    }\n</style>\n<table border=\"1\" class=\"dataframe\">\n  <thead>\n    <tr style=\"text-align: right;\">\n      <th></th>\n      <th>instrument_scope</th>\n      <th>instrument_uid</th>\n      <th>properties.Instrument/default/Name.value.label_value</th>\n      <th>units</th>\n      <th>cost.amount</th>\n      <th>holding_type_name</th>\n    </tr>\n  </thead>\n  <tbody>\n    <tr>\n      <th>0</th>\n      <td>default</td>\n      <td>CCY_USD</td>\n      <td>USD</td>\n      <td>-999,000.0000</td>\n      <td>-999,000.0000</td>\n      <td>Balance</td>\n    </tr>\n    <tr>\n      <th>1</th>\n      <td>default</td>\n      <td>LUID_00003DEU</td>\n      <td>Term Deposit Instrument B</td>\n      <td>1,000.0000</td>\n      <td>1,015,333.3300</td>\n      <td>Position</td>\n    </tr>\n  </tbody>\n</table>\n</div>"
     },
     "execution_count": 625,
     "metadata": {},
     "output_type": "execute_result"
    }
   ],
   "source": [
    "get_holdings(roll1_start_date+timedelta(3))"
   ],
   "metadata": {
    "collapsed": false,
    "pycharm": {
     "name": "#%%\n"
    }
   }
  },
  {
   "cell_type": "markdown",
   "source": [
    "The valuation below shows the valuation for Term Deposit Instrument B is the same as the valuation was for Term Deposit Instrument A at this at the start of the previous Term Deposit. This is to be expected as both term deposits have the same purchase price, maturity time and rate.\n",
    "\n",
    "?  The valuation here should be higher"
   ],
   "metadata": {
    "collapsed": false,
    "pycharm": {
     "name": "#%% md\n"
    }
   }
  },
  {
   "cell_type": "code",
   "execution_count": 626,
   "outputs": [
    {
     "data": {
      "text/plain": "  Instrument/default/LusidInstrumentId    Instrument/default/Name  \\\n0                              CCY_USD                        USD   \n1                        LUID_00003DEU  Term Deposit Instrument B   \n\n      Analytic/default/ValuationDate  Sum(Valuation/PV)  \n0  2020-09-21T00:00:00.0000000+00:00      -999,000.0000  \n1  2020-09-21T00:00:00.0000000+00:00     1,015,083.3333  ",
      "text/html": "<div>\n<style scoped>\n    .dataframe tbody tr th:only-of-type {\n        vertical-align: middle;\n    }\n\n    .dataframe tbody tr th {\n        vertical-align: top;\n    }\n\n    .dataframe thead th {\n        text-align: right;\n    }\n</style>\n<table border=\"1\" class=\"dataframe\">\n  <thead>\n    <tr style=\"text-align: right;\">\n      <th></th>\n      <th>Instrument/default/LusidInstrumentId</th>\n      <th>Instrument/default/Name</th>\n      <th>Analytic/default/ValuationDate</th>\n      <th>Sum(Valuation/PV)</th>\n    </tr>\n  </thead>\n  <tbody>\n    <tr>\n      <th>0</th>\n      <td>CCY_USD</td>\n      <td>USD</td>\n      <td>2020-09-21T00:00:00.0000000+00:00</td>\n      <td>-999,000.0000</td>\n    </tr>\n    <tr>\n      <th>1</th>\n      <td>LUID_00003DEU</td>\n      <td>Term Deposit Instrument B</td>\n      <td>2020-09-21T00:00:00.0000000+00:00</td>\n      <td>1,015,083.3333</td>\n    </tr>\n  </tbody>\n</table>\n</div>"
     },
     "execution_count": 626,
     "metadata": {},
     "output_type": "execute_result"
    }
   ],
   "source": [
    "perform_valuation(CTVoMRecipe, roll1_start_date+timedelta(3))"
   ],
   "metadata": {
    "collapsed": false,
    "pycharm": {
     "name": "#%%\n"
    }
   }
  },
  {
   "cell_type": "markdown",
   "source": [
    "To perform another simple static evaluation we must upsert a new quote for the new Term Deposit instrument B and the roll1 start date."
   ],
   "metadata": {
    "collapsed": false,
    "pycharm": {
     "name": "#%% md\n"
    }
   }
  },
  {
   "cell_type": "code",
   "execution_count": 627,
   "outputs": [
    {
     "data": {
      "text/plain": "'Successfully upserted quote for instrument: LUID_00003DEU with AsAt:2023-04-24 09:33:07.475881+00:00'"
     },
     "execution_count": 627,
     "metadata": {},
     "output_type": "execute_result"
    }
   ],
   "source": [
    "upsert_quote(td_luid_b, roll1_start_date+timedelta(3))"
   ],
   "metadata": {
    "collapsed": false,
    "pycharm": {
     "name": "#%%\n"
    }
   }
  },
  {
   "cell_type": "code",
   "execution_count": 628,
   "outputs": [
    {
     "data": {
      "text/plain": "  Instrument/default/LusidInstrumentId    Instrument/default/Name  \\\n0                              CCY_USD                        USD   \n1                        LUID_00003DEU  Term Deposit Instrument B   \n\n      Analytic/default/ValuationDate  Sum(Valuation/PV)  \n0  2020-09-21T00:00:00.0000000+00:00      -999,000.0000  \n1  2020-09-21T00:00:00.0000000+00:00     1,050,250.0000  ",
      "text/html": "<div>\n<style scoped>\n    .dataframe tbody tr th:only-of-type {\n        vertical-align: middle;\n    }\n\n    .dataframe tbody tr th {\n        vertical-align: top;\n    }\n\n    .dataframe thead th {\n        text-align: right;\n    }\n</style>\n<table border=\"1\" class=\"dataframe\">\n  <thead>\n    <tr style=\"text-align: right;\">\n      <th></th>\n      <th>Instrument/default/LusidInstrumentId</th>\n      <th>Instrument/default/Name</th>\n      <th>Analytic/default/ValuationDate</th>\n      <th>Sum(Valuation/PV)</th>\n    </tr>\n  </thead>\n  <tbody>\n    <tr>\n      <th>0</th>\n      <td>CCY_USD</td>\n      <td>USD</td>\n      <td>2020-09-21T00:00:00.0000000+00:00</td>\n      <td>-999,000.0000</td>\n    </tr>\n    <tr>\n      <th>1</th>\n      <td>LUID_00003DEU</td>\n      <td>Term Deposit Instrument B</td>\n      <td>2020-09-21T00:00:00.0000000+00:00</td>\n      <td>1,050,250.0000</td>\n    </tr>\n  </tbody>\n</table>\n</div>"
     },
     "execution_count": 628,
     "metadata": {},
     "output_type": "execute_result"
    }
   ],
   "source": [
    "perform_valuation(SSRecipe, roll1_start_date+timedelta(3))"
   ],
   "metadata": {
    "collapsed": false,
    "pycharm": {
     "name": "#%%\n"
    }
   }
  },
  {
   "cell_type": "markdown",
   "source": [
    "## 6.2 Rolling with an increase to interest\n",
    "### 6.2.1 Sell Term Deposit just before maturity\n",
    "As in the previous rolling example, we first sell the deposit before maturity. We use the instrument valuation calculated on the sale transaction date for the sale price."
   ],
   "metadata": {
    "collapsed": false,
    "pycharm": {
     "name": "#%% md\n"
    }
   }
  },
  {
   "cell_type": "code",
   "execution_count": 629,
   "outputs": [],
   "source": [
    "# For rolling term deposits we will define new start dates and maturity dates.\n",
    "roll2_maturity_date = datetime(2021,9,18,00,tzinfo=pytz.utc)"
   ],
   "metadata": {
    "collapsed": false,
    "pycharm": {
     "name": "#%%\n"
    }
   }
  },
  {
   "cell_type": "code",
   "execution_count": 630,
   "outputs": [
    {
     "data": {
      "text/plain": "  Instrument/default/LusidInstrumentId    Instrument/default/Name  \\\n0                              CCY_USD                        USD   \n1                        LUID_00003DEU  Term Deposit Instrument B   \n\n      Analytic/default/ValuationDate  Sum(Valuation/PV)  \n0  2021-03-16T00:00:00.0000000+00:00      -999,000.0000  \n1  2021-03-16T00:00:00.0000000+00:00     1,015,083.3333  ",
      "text/html": "<div>\n<style scoped>\n    .dataframe tbody tr th:only-of-type {\n        vertical-align: middle;\n    }\n\n    .dataframe tbody tr th {\n        vertical-align: top;\n    }\n\n    .dataframe thead th {\n        text-align: right;\n    }\n</style>\n<table border=\"1\" class=\"dataframe\">\n  <thead>\n    <tr style=\"text-align: right;\">\n      <th></th>\n      <th>Instrument/default/LusidInstrumentId</th>\n      <th>Instrument/default/Name</th>\n      <th>Analytic/default/ValuationDate</th>\n      <th>Sum(Valuation/PV)</th>\n    </tr>\n  </thead>\n  <tbody>\n    <tr>\n      <th>0</th>\n      <td>CCY_USD</td>\n      <td>USD</td>\n      <td>2021-03-16T00:00:00.0000000+00:00</td>\n      <td>-999,000.0000</td>\n    </tr>\n    <tr>\n      <th>1</th>\n      <td>LUID_00003DEU</td>\n      <td>Term Deposit Instrument B</td>\n      <td>2021-03-16T00:00:00.0000000+00:00</td>\n      <td>1,015,083.3333</td>\n    </tr>\n  </tbody>\n</table>\n</div>"
     },
     "execution_count": 630,
     "metadata": {},
     "output_type": "execute_result"
    }
   ],
   "source": [
    "perform_valuation(CTVoMRecipe, roll1_maturity_date-timedelta(2))"
   ],
   "metadata": {
    "collapsed": false,
    "pycharm": {
     "name": "#%%\n"
    }
   }
  },
  {
   "cell_type": "code",
   "execution_count": 631,
   "outputs": [],
   "source": [
    "#?? remove this\n",
    "txn = get_cashflow(roll1_start_date+timedelta(3), roll1_maturity_date, CTVoMRecipe)"
   ],
   "metadata": {
    "collapsed": false,
    "pycharm": {
     "name": "#%%\n"
    }
   }
  },
  {
   "cell_type": "code",
   "execution_count": 632,
   "outputs": [
    {
     "data": {
      "text/plain": "{'href': 'https://liberty.lusid.com/api/api/transactionportfolios/ibor/TermDepositExamplePortfolio/transactions?asAt=2023-04-24T07%3A37%3A16.1158760%2B00%3A00',\n 'links': [{'description': None,\n            'href': 'https://liberty.lusid.com/api/api/portfolios/ibor/TermDepositExamplePortfolio?effectiveAt=2010-01-01T00%3A00%3A00.0000000%2B00%3A00&asAt=2023-04-24T07%3A37%3A16.1158760%2B00%3A00',\n            'method': 'GET',\n            'relation': 'Root'},\n           {'description': None,\n            'href': 'https://liberty.lusid.com/api/api/schemas/entities/UpsertPortfolioTransactionsResponse',\n            'method': 'GET',\n            'relation': 'EntitySchema'},\n           {'description': 'A link to the LUSID Insights website showing all '\n                           'logs related to this request',\n            'href': 'http://liberty.lusid.com/app/insights/logs/0HMQ2HO0VACLL:000000A2',\n            'method': 'GET',\n            'relation': 'RequestLogs'}],\n 'metadata': {},\n 'version': {'as_at_date': datetime.datetime(2023, 4, 24, 7, 37, 16, 115876, tzinfo=tzutc()),\n             'effective_from': datetime.datetime(2010, 1, 1, 0, 0, tzinfo=tzutc())}}"
     },
     "execution_count": 632,
     "metadata": {},
     "output_type": "execute_result"
    }
   ],
   "source": [
    "# Upsert Cashflow movement\n",
    "transaction_portfolios_api.upsert_transactions(\n",
    "    scope=scope, code=portfolio_code, transaction_request=txn\n",
    ")"
   ],
   "metadata": {
    "collapsed": false,
    "pycharm": {
     "name": "#%%\n"
    }
   }
  },
  {
   "cell_type": "code",
   "execution_count": 633,
   "outputs": [
    {
     "name": "stdout",
     "output_type": "stream",
     "text": [
      "Successfully upserted transaction: {'href': 'https://liberty.lusid.com/api/api/transactionportfolios/ibor/TermDepositExamplePortfolio/transactions?asAt=2023-04-24T07%3A37%3A16.1158760%2B00%3A00',\n",
      " 'links': [{'description': None,\n",
      "            'href': 'https://liberty.lusid.com/api/api/portfolios/ibor/TermDepositExamplePortfolio?effectiveAt=2010-01-01T00%3A00%3A00.0000000%2B00%3A00&asAt=2023-04-24T07%3A37%3A16.1158760%2B00%3A00',\n",
      "            'method': 'GET',\n",
      "            'relation': 'Root'},\n",
      "           {'description': None,\n",
      "            'href': 'https://liberty.lusid.com/api/api/schemas/entities/UpsertPortfolioTransactionsResponse',\n",
      "            'method': 'GET',\n",
      "            'relation': 'EntitySchema'},\n",
      "           {'description': 'A link to the LUSID Insights website showing all '\n",
      "                           'logs related to this request',\n",
      "            'href': 'http://liberty.lusid.com/app/insights/logs/0HMQ2A6F8Q15L:00000072',\n",
      "            'method': 'GET',\n",
      "            'relation': 'RequestLogs'}],\n",
      " 'metadata': {},\n",
      " 'version': {'as_at_date': datetime.datetime(2023, 4, 24, 7, 37, 16, 115876, tzinfo=tzutc()),\n",
      "             'effective_from': datetime.datetime(2010, 1, 1, 0, 0, tzinfo=tzutc())}}\n"
     ]
    }
   ],
   "source": [
    "# This time we will reinvest all the returns from the cashflow\n",
    "upsert_transaction(\"txn004\", \"StockOut\",td_luid_b, td_client_b,roll1_maturity_date,1000000)"
   ],
   "metadata": {
    "collapsed": false,
    "pycharm": {
     "name": "#%%\n"
    }
   }
  },
  {
   "cell_type": "code",
   "execution_count": 634,
   "outputs": [
    {
     "data": {
      "text/plain": "                                   transaction_id      type  \\\n0                                         txn_000   FundsIn   \n1                                          txn001       Buy   \n2                                          txn003       Buy   \n3                                          txn002  StockOut   \n4  txn001-LUID_00003DET-20200918-Cash-USD-Receive  CashFlow   \n5  txn003-LUID_00003DEU-20210318-Cash-USD-Receive  CashFlow   \n6                                          txn004  StockOut   \n7                                          txn005       Buy   \n\n  instrument_identifiers.Instrument/default/ClientInternal instrument_uid  \\\n0                                                NaN              CCY_USD   \n1                                          TD_Inst_A        LUID_00003DET   \n2                                          TD_Inst_B        LUID_00003DEU   \n3                                          TD_Inst_A        LUID_00003DET   \n4                                                NaN        LUID_00003DET   \n5                                                NaN        LUID_00003DEU   \n6                                          TD_Inst_B        LUID_00003DEU   \n7                                       TD_EXAMPLE_C        LUID_00003DEP   \n\n           transaction_date           settlement_date  \\\n0 2020-03-10 00:00:00+00:00 2020-03-10 00:00:00+00:00   \n1 2020-03-18 00:00:00+00:00 2020-03-21 00:00:00+00:00   \n2 2020-09-18 00:00:00+00:00 2020-09-21 00:00:00+00:00   \n3 2020-09-18 00:00:00+00:00 2020-09-21 00:00:00+00:00   \n4 2020-09-18 00:00:00+00:00 2020-09-18 00:00:00+00:00   \n5 2021-03-18 00:00:00+00:00 2021-03-18 00:00:00+00:00   \n6 2021-03-18 00:00:00+00:00 2021-03-21 00:00:00+00:00   \n7 2021-03-18 00:00:00+00:00 2021-03-21 00:00:00+00:00   \n\n   transaction_price.price  total_consideration.amount          units  \n0                   1.0000              1,000,000.0000     1,000.0000  \n1                   1.0000              1,000,000.0000     1,000.0000  \n2                   1.0000              1,015,333.3333     1,000.0000  \n3                   1.0000              1,000,000.0000     1,000.0000  \n4                   1.0000              1,015,333.3333 1,015,333.3333  \n5                   1.0000              1,015,083.3333 1,015,083.3333  \n6                   1.0000              1,000,000.0000     1,000.0000  \n7                   1.0000              1,000,000.0000     1,000.0000  ",
      "text/html": "<div>\n<style scoped>\n    .dataframe tbody tr th:only-of-type {\n        vertical-align: middle;\n    }\n\n    .dataframe tbody tr th {\n        vertical-align: top;\n    }\n\n    .dataframe thead th {\n        text-align: right;\n    }\n</style>\n<table border=\"1\" class=\"dataframe\">\n  <thead>\n    <tr style=\"text-align: right;\">\n      <th></th>\n      <th>transaction_id</th>\n      <th>type</th>\n      <th>instrument_identifiers.Instrument/default/ClientInternal</th>\n      <th>instrument_uid</th>\n      <th>transaction_date</th>\n      <th>settlement_date</th>\n      <th>transaction_price.price</th>\n      <th>total_consideration.amount</th>\n      <th>units</th>\n    </tr>\n  </thead>\n  <tbody>\n    <tr>\n      <th>0</th>\n      <td>txn_000</td>\n      <td>FundsIn</td>\n      <td>NaN</td>\n      <td>CCY_USD</td>\n      <td>2020-03-10 00:00:00+00:00</td>\n      <td>2020-03-10 00:00:00+00:00</td>\n      <td>1.0000</td>\n      <td>1,000,000.0000</td>\n      <td>1,000.0000</td>\n    </tr>\n    <tr>\n      <th>1</th>\n      <td>txn001</td>\n      <td>Buy</td>\n      <td>TD_Inst_A</td>\n      <td>LUID_00003DET</td>\n      <td>2020-03-18 00:00:00+00:00</td>\n      <td>2020-03-21 00:00:00+00:00</td>\n      <td>1.0000</td>\n      <td>1,000,000.0000</td>\n      <td>1,000.0000</td>\n    </tr>\n    <tr>\n      <th>2</th>\n      <td>txn003</td>\n      <td>Buy</td>\n      <td>TD_Inst_B</td>\n      <td>LUID_00003DEU</td>\n      <td>2020-09-18 00:00:00+00:00</td>\n      <td>2020-09-21 00:00:00+00:00</td>\n      <td>1.0000</td>\n      <td>1,015,333.3333</td>\n      <td>1,000.0000</td>\n    </tr>\n    <tr>\n      <th>3</th>\n      <td>txn002</td>\n      <td>StockOut</td>\n      <td>TD_Inst_A</td>\n      <td>LUID_00003DET</td>\n      <td>2020-09-18 00:00:00+00:00</td>\n      <td>2020-09-21 00:00:00+00:00</td>\n      <td>1.0000</td>\n      <td>1,000,000.0000</td>\n      <td>1,000.0000</td>\n    </tr>\n    <tr>\n      <th>4</th>\n      <td>txn001-LUID_00003DET-20200918-Cash-USD-Receive</td>\n      <td>CashFlow</td>\n      <td>NaN</td>\n      <td>LUID_00003DET</td>\n      <td>2020-09-18 00:00:00+00:00</td>\n      <td>2020-09-18 00:00:00+00:00</td>\n      <td>1.0000</td>\n      <td>1,015,333.3333</td>\n      <td>1,015,333.3333</td>\n    </tr>\n    <tr>\n      <th>5</th>\n      <td>txn003-LUID_00003DEU-20210318-Cash-USD-Receive</td>\n      <td>CashFlow</td>\n      <td>NaN</td>\n      <td>LUID_00003DEU</td>\n      <td>2021-03-18 00:00:00+00:00</td>\n      <td>2021-03-18 00:00:00+00:00</td>\n      <td>1.0000</td>\n      <td>1,015,083.3333</td>\n      <td>1,015,083.3333</td>\n    </tr>\n    <tr>\n      <th>6</th>\n      <td>txn004</td>\n      <td>StockOut</td>\n      <td>TD_Inst_B</td>\n      <td>LUID_00003DEU</td>\n      <td>2021-03-18 00:00:00+00:00</td>\n      <td>2021-03-21 00:00:00+00:00</td>\n      <td>1.0000</td>\n      <td>1,000,000.0000</td>\n      <td>1,000.0000</td>\n    </tr>\n    <tr>\n      <th>7</th>\n      <td>txn005</td>\n      <td>Buy</td>\n      <td>TD_EXAMPLE_C</td>\n      <td>LUID_00003DEP</td>\n      <td>2021-03-18 00:00:00+00:00</td>\n      <td>2021-03-21 00:00:00+00:00</td>\n      <td>1.0000</td>\n      <td>1,000,000.0000</td>\n      <td>1,000.0000</td>\n    </tr>\n  </tbody>\n</table>\n</div>"
     },
     "execution_count": 634,
     "metadata": {},
     "output_type": "execute_result"
    }
   ],
   "source": [
    "get_transactions_todate(roll1_maturity_date)"
   ],
   "metadata": {
    "collapsed": false,
    "pycharm": {
     "name": "#%%\n"
    }
   }
  },
  {
   "cell_type": "code",
   "execution_count": 635,
   "outputs": [
    {
     "data": {
      "text/plain": "  instrument_scope instrument_uid  \\\n0          default        CCY_USD   \n1          default  LUID_00003DEP   \n\n  properties.Instrument/default/Name.value.label_value         units  \\\n0                                                USD   -983,916.6667   \n1                            TD Example Instrument C      1,000.0000   \n\n     cost.amount holding_type_name  \n0  -983,916.6700           Balance  \n1 1,000,000.0000          Position  ",
      "text/html": "<div>\n<style scoped>\n    .dataframe tbody tr th:only-of-type {\n        vertical-align: middle;\n    }\n\n    .dataframe tbody tr th {\n        vertical-align: top;\n    }\n\n    .dataframe thead th {\n        text-align: right;\n    }\n</style>\n<table border=\"1\" class=\"dataframe\">\n  <thead>\n    <tr style=\"text-align: right;\">\n      <th></th>\n      <th>instrument_scope</th>\n      <th>instrument_uid</th>\n      <th>properties.Instrument/default/Name.value.label_value</th>\n      <th>units</th>\n      <th>cost.amount</th>\n      <th>holding_type_name</th>\n    </tr>\n  </thead>\n  <tbody>\n    <tr>\n      <th>0</th>\n      <td>default</td>\n      <td>CCY_USD</td>\n      <td>USD</td>\n      <td>-983,916.6667</td>\n      <td>-983,916.6700</td>\n      <td>Balance</td>\n    </tr>\n    <tr>\n      <th>1</th>\n      <td>default</td>\n      <td>LUID_00003DEP</td>\n      <td>TD Example Instrument C</td>\n      <td>1,000.0000</td>\n      <td>1,000,000.0000</td>\n      <td>Position</td>\n    </tr>\n  </tbody>\n</table>\n</div>"
     },
     "execution_count": 635,
     "metadata": {},
     "output_type": "execute_result"
    }
   ],
   "source": [
    "get_holdings(roll1_maturity_date+timedelta(3))"
   ],
   "metadata": {
    "collapsed": false,
    "pycharm": {
     "name": "#%%\n"
    }
   }
  },
  {
   "cell_type": "markdown",
   "source": [],
   "metadata": {
    "collapsed": false
   }
  },
  {
   "cell_type": "markdown",
   "source": [
    "### 6.2.2 Buy term deposit back with an Increased Rate\n",
    "We will create a new instrument below with a higher rate of 0.05 -> 5% (the original Term Deposit had a rate of 3%)."
   ],
   "metadata": {
    "collapsed": false,
    "pycharm": {
     "name": "#%% md\n"
    }
   }
  },
  {
   "cell_type": "code",
   "execution_count": 636,
   "outputs": [
    {
     "name": "stdout",
     "output_type": "stream",
     "text": [
      "Created instrument with LUID:LUID_00003DEP and ClientInternal:TD_EXAMPLE_C\n"
     ]
    }
   ],
   "source": [
    "# Define a new instrument with a higher rate\n",
    "td_client_c = \"TD_EXAMPLE_C\"\n",
    "td_luid_c = create_td_instrument(\n",
    "    \"TD Example Instrument C\",\n",
    "    td_client_c,\n",
    "    roll1_maturity_date,\n",
    "    roll2_maturity_date,\n",
    "    1000,\n",
    "    flow_conventions,\n",
    "    0.05,\n",
    "    \"GBP\"\n",
    ")"
   ],
   "metadata": {
    "collapsed": false,
    "pycharm": {
     "name": "#%%\n"
    }
   }
  },
  {
   "cell_type": "markdown",
   "source": [
    "This new instrument will be purchased at the same price the previous term deposit was sold at."
   ],
   "metadata": {
    "collapsed": false,
    "pycharm": {
     "name": "#%% md\n"
    }
   }
  },
  {
   "cell_type": "code",
   "execution_count": 637,
   "outputs": [
    {
     "name": "stdout",
     "output_type": "stream",
     "text": [
      "Successfully upserted transaction: {'href': 'https://liberty.lusid.com/api/api/transactionportfolios/ibor/TermDepositExamplePortfolio/transactions?asAt=2023-04-24T07%3A37%3A16.1158760%2B00%3A00',\n",
      " 'links': [{'description': None,\n",
      "            'href': 'https://liberty.lusid.com/api/api/portfolios/ibor/TermDepositExamplePortfolio?effectiveAt=2010-01-01T00%3A00%3A00.0000000%2B00%3A00&asAt=2023-04-24T07%3A37%3A16.1158760%2B00%3A00',\n",
      "            'method': 'GET',\n",
      "            'relation': 'Root'},\n",
      "           {'description': None,\n",
      "            'href': 'https://liberty.lusid.com/api/api/schemas/entities/UpsertPortfolioTransactionsResponse',\n",
      "            'method': 'GET',\n",
      "            'relation': 'EntitySchema'},\n",
      "           {'description': 'A link to the LUSID Insights website showing all '\n",
      "                           'logs related to this request',\n",
      "            'href': 'http://liberty.lusid.com/app/insights/logs/0HMQ2A6F8Q15L:00000075',\n",
      "            'method': 'GET',\n",
      "            'relation': 'RequestLogs'}],\n",
      " 'metadata': {},\n",
      " 'version': {'as_at_date': datetime.datetime(2023, 4, 24, 7, 37, 16, 115876, tzinfo=tzutc()),\n",
      "             'effective_from': datetime.datetime(2010, 1, 1, 0, 0, tzinfo=tzutc())}}\n"
     ]
    }
   ],
   "source": [
    "upsert_transaction(\"txn005\",\"Buy\",td_luid_c, td_client_c, roll1_maturity_date, 1000000)"
   ],
   "metadata": {
    "collapsed": false,
    "pycharm": {
     "name": "#%%\n"
    }
   }
  },
  {
   "cell_type": "code",
   "execution_count": 638,
   "outputs": [
    {
     "data": {
      "text/plain": "                                   transaction_id      type  \\\n0                                         txn_000   FundsIn   \n1                                          txn001       Buy   \n2                                          txn003       Buy   \n3                                          txn002  StockOut   \n4  txn001-LUID_00003DET-20200918-Cash-USD-Receive  CashFlow   \n5  txn003-LUID_00003DEU-20210318-Cash-USD-Receive  CashFlow   \n6                                          txn004  StockOut   \n7                                          txn005       Buy   \n\n  instrument_identifiers.Instrument/default/ClientInternal instrument_uid  \\\n0                                                NaN              CCY_USD   \n1                                          TD_Inst_A        LUID_00003DET   \n2                                          TD_Inst_B        LUID_00003DEU   \n3                                          TD_Inst_A        LUID_00003DET   \n4                                                NaN        LUID_00003DET   \n5                                                NaN        LUID_00003DEU   \n6                                          TD_Inst_B        LUID_00003DEU   \n7                                       TD_EXAMPLE_C        LUID_00003DEP   \n\n           transaction_date           settlement_date  \\\n0 2020-03-10 00:00:00+00:00 2020-03-10 00:00:00+00:00   \n1 2020-03-18 00:00:00+00:00 2020-03-21 00:00:00+00:00   \n2 2020-09-18 00:00:00+00:00 2020-09-21 00:00:00+00:00   \n3 2020-09-18 00:00:00+00:00 2020-09-21 00:00:00+00:00   \n4 2020-09-18 00:00:00+00:00 2020-09-18 00:00:00+00:00   \n5 2021-03-18 00:00:00+00:00 2021-03-18 00:00:00+00:00   \n6 2021-03-18 00:00:00+00:00 2021-03-21 00:00:00+00:00   \n7 2021-03-18 00:00:00+00:00 2021-03-21 00:00:00+00:00   \n\n   transaction_price.price  total_consideration.amount          units  \n0                   1.0000              1,000,000.0000     1,000.0000  \n1                   1.0000              1,000,000.0000     1,000.0000  \n2                   1.0000              1,015,333.3333     1,000.0000  \n3                   1.0000              1,000,000.0000     1,000.0000  \n4                   1.0000              1,015,333.3333 1,015,333.3333  \n5                   1.0000              1,015,083.3333 1,015,083.3333  \n6                   1.0000              1,000,000.0000     1,000.0000  \n7                   1.0000              1,000,000.0000     1,000.0000  ",
      "text/html": "<div>\n<style scoped>\n    .dataframe tbody tr th:only-of-type {\n        vertical-align: middle;\n    }\n\n    .dataframe tbody tr th {\n        vertical-align: top;\n    }\n\n    .dataframe thead th {\n        text-align: right;\n    }\n</style>\n<table border=\"1\" class=\"dataframe\">\n  <thead>\n    <tr style=\"text-align: right;\">\n      <th></th>\n      <th>transaction_id</th>\n      <th>type</th>\n      <th>instrument_identifiers.Instrument/default/ClientInternal</th>\n      <th>instrument_uid</th>\n      <th>transaction_date</th>\n      <th>settlement_date</th>\n      <th>transaction_price.price</th>\n      <th>total_consideration.amount</th>\n      <th>units</th>\n    </tr>\n  </thead>\n  <tbody>\n    <tr>\n      <th>0</th>\n      <td>txn_000</td>\n      <td>FundsIn</td>\n      <td>NaN</td>\n      <td>CCY_USD</td>\n      <td>2020-03-10 00:00:00+00:00</td>\n      <td>2020-03-10 00:00:00+00:00</td>\n      <td>1.0000</td>\n      <td>1,000,000.0000</td>\n      <td>1,000.0000</td>\n    </tr>\n    <tr>\n      <th>1</th>\n      <td>txn001</td>\n      <td>Buy</td>\n      <td>TD_Inst_A</td>\n      <td>LUID_00003DET</td>\n      <td>2020-03-18 00:00:00+00:00</td>\n      <td>2020-03-21 00:00:00+00:00</td>\n      <td>1.0000</td>\n      <td>1,000,000.0000</td>\n      <td>1,000.0000</td>\n    </tr>\n    <tr>\n      <th>2</th>\n      <td>txn003</td>\n      <td>Buy</td>\n      <td>TD_Inst_B</td>\n      <td>LUID_00003DEU</td>\n      <td>2020-09-18 00:00:00+00:00</td>\n      <td>2020-09-21 00:00:00+00:00</td>\n      <td>1.0000</td>\n      <td>1,015,333.3333</td>\n      <td>1,000.0000</td>\n    </tr>\n    <tr>\n      <th>3</th>\n      <td>txn002</td>\n      <td>StockOut</td>\n      <td>TD_Inst_A</td>\n      <td>LUID_00003DET</td>\n      <td>2020-09-18 00:00:00+00:00</td>\n      <td>2020-09-21 00:00:00+00:00</td>\n      <td>1.0000</td>\n      <td>1,000,000.0000</td>\n      <td>1,000.0000</td>\n    </tr>\n    <tr>\n      <th>4</th>\n      <td>txn001-LUID_00003DET-20200918-Cash-USD-Receive</td>\n      <td>CashFlow</td>\n      <td>NaN</td>\n      <td>LUID_00003DET</td>\n      <td>2020-09-18 00:00:00+00:00</td>\n      <td>2020-09-18 00:00:00+00:00</td>\n      <td>1.0000</td>\n      <td>1,015,333.3333</td>\n      <td>1,015,333.3333</td>\n    </tr>\n    <tr>\n      <th>5</th>\n      <td>txn003-LUID_00003DEU-20210318-Cash-USD-Receive</td>\n      <td>CashFlow</td>\n      <td>NaN</td>\n      <td>LUID_00003DEU</td>\n      <td>2021-03-18 00:00:00+00:00</td>\n      <td>2021-03-18 00:00:00+00:00</td>\n      <td>1.0000</td>\n      <td>1,015,083.3333</td>\n      <td>1,015,083.3333</td>\n    </tr>\n    <tr>\n      <th>6</th>\n      <td>txn004</td>\n      <td>StockOut</td>\n      <td>TD_Inst_B</td>\n      <td>LUID_00003DEU</td>\n      <td>2021-03-18 00:00:00+00:00</td>\n      <td>2021-03-21 00:00:00+00:00</td>\n      <td>1.0000</td>\n      <td>1,000,000.0000</td>\n      <td>1,000.0000</td>\n    </tr>\n    <tr>\n      <th>7</th>\n      <td>txn005</td>\n      <td>Buy</td>\n      <td>TD_EXAMPLE_C</td>\n      <td>LUID_00003DEP</td>\n      <td>2021-03-18 00:00:00+00:00</td>\n      <td>2021-03-21 00:00:00+00:00</td>\n      <td>1.0000</td>\n      <td>1,000,000.0000</td>\n      <td>1,000.0000</td>\n    </tr>\n  </tbody>\n</table>\n</div>"
     },
     "execution_count": 638,
     "metadata": {},
     "output_type": "execute_result"
    }
   ],
   "source": [
    "get_transactions_todate(roll1_maturity_date + timedelta(days=3))"
   ],
   "metadata": {
    "collapsed": false,
    "pycharm": {
     "name": "#%%\n"
    }
   }
  },
  {
   "cell_type": "markdown",
   "source": [
    "The holdings shown below reflect the $1,000 price difference in the sell price of Term Deposit A and the buy price of Term Deposit B, in the USD cash holding."
   ],
   "metadata": {
    "collapsed": false,
    "pycharm": {
     "name": "#%% md\n"
    }
   }
  },
  {
   "cell_type": "code",
   "execution_count": 639,
   "outputs": [
    {
     "data": {
      "text/plain": "  instrument_scope instrument_uid  \\\n0          default        CCY_USD   \n1          default  LUID_00003DEP   \n\n  properties.Instrument/default/Name.value.label_value         units  \\\n0                                                USD   -983,916.6667   \n1                            TD Example Instrument C      1,000.0000   \n\n     cost.amount holding_type_name  \n0  -983,916.6700           Balance  \n1 1,000,000.0000          Position  ",
      "text/html": "<div>\n<style scoped>\n    .dataframe tbody tr th:only-of-type {\n        vertical-align: middle;\n    }\n\n    .dataframe tbody tr th {\n        vertical-align: top;\n    }\n\n    .dataframe thead th {\n        text-align: right;\n    }\n</style>\n<table border=\"1\" class=\"dataframe\">\n  <thead>\n    <tr style=\"text-align: right;\">\n      <th></th>\n      <th>instrument_scope</th>\n      <th>instrument_uid</th>\n      <th>properties.Instrument/default/Name.value.label_value</th>\n      <th>units</th>\n      <th>cost.amount</th>\n      <th>holding_type_name</th>\n    </tr>\n  </thead>\n  <tbody>\n    <tr>\n      <th>0</th>\n      <td>default</td>\n      <td>CCY_USD</td>\n      <td>USD</td>\n      <td>-983,916.6667</td>\n      <td>-983,916.6700</td>\n      <td>Balance</td>\n    </tr>\n    <tr>\n      <th>1</th>\n      <td>default</td>\n      <td>LUID_00003DEP</td>\n      <td>TD Example Instrument C</td>\n      <td>1,000.0000</td>\n      <td>1,000,000.0000</td>\n      <td>Position</td>\n    </tr>\n  </tbody>\n</table>\n</div>"
     },
     "execution_count": 639,
     "metadata": {},
     "output_type": "execute_result"
    }
   ],
   "source": [
    "get_holdings(roll1_maturity_date + timedelta(days=3))"
   ],
   "metadata": {
    "collapsed": false,
    "pycharm": {
     "name": "#%%\n"
    }
   }
  },
  {
   "cell_type": "raw",
   "source": [
    "We have invested $1,000,000 into term deposit C, the same amount as in Term Deposit A. The valuation here is higher than for Term Deposit A which reflects the higher interest rate of 5% in Term Deposit C compared to 3% in Term Deposit A."
   ],
   "metadata": {
    "collapsed": false,
    "pycharm": {
     "name": "#%% raw\n"
    }
   }
  },
  {
   "cell_type": "code",
   "execution_count": 640,
   "outputs": [
    {
     "data": {
      "text/plain": "  Instrument/default/LusidInstrumentId  Instrument/default/Name  \\\n0                              CCY_USD                      USD   \n1                        LUID_00003DEP  TD Example Instrument C   \n\n      Analytic/default/ValuationDate  Sum(Valuation/PV)  \n0  2021-03-21T00:00:00.0000000+00:00      -983,916.6667  \n1  2021-03-21T00:00:00.0000000+00:00     1,025,555.5556  ",
      "text/html": "<div>\n<style scoped>\n    .dataframe tbody tr th:only-of-type {\n        vertical-align: middle;\n    }\n\n    .dataframe tbody tr th {\n        vertical-align: top;\n    }\n\n    .dataframe thead th {\n        text-align: right;\n    }\n</style>\n<table border=\"1\" class=\"dataframe\">\n  <thead>\n    <tr style=\"text-align: right;\">\n      <th></th>\n      <th>Instrument/default/LusidInstrumentId</th>\n      <th>Instrument/default/Name</th>\n      <th>Analytic/default/ValuationDate</th>\n      <th>Sum(Valuation/PV)</th>\n    </tr>\n  </thead>\n  <tbody>\n    <tr>\n      <th>0</th>\n      <td>CCY_USD</td>\n      <td>USD</td>\n      <td>2021-03-21T00:00:00.0000000+00:00</td>\n      <td>-983,916.6667</td>\n    </tr>\n    <tr>\n      <th>1</th>\n      <td>LUID_00003DEP</td>\n      <td>TD Example Instrument C</td>\n      <td>2021-03-21T00:00:00.0000000+00:00</td>\n      <td>1,025,555.5556</td>\n    </tr>\n  </tbody>\n</table>\n</div>"
     },
     "execution_count": 640,
     "metadata": {},
     "output_type": "execute_result"
    }
   ],
   "source": [
    "perform_valuation(CTVoMRecipe, roll1_maturity_date+timedelta(3))"
   ],
   "metadata": {
    "collapsed": false,
    "pycharm": {
     "name": "#%%\n"
    }
   }
  },
  {
   "cell_type": "code",
   "execution_count": 641,
   "outputs": [
    {
     "data": {
      "text/plain": "'Successfully upserted quote for instrument: LUID_00003DEP with AsAt:2023-04-24 09:33:10.604739+00:00'"
     },
     "execution_count": 641,
     "metadata": {},
     "output_type": "execute_result"
    }
   ],
   "source": [
    "upsert_quote(td_luid_c, rolUl1_maturity_date + timedelta(3))"
   ],
   "metadata": {
    "collapsed": false,
    "pycharm": {
     "name": "#%%\n"
    }
   }
  },
  {
   "cell_type": "code",
   "execution_count": 642,
   "outputs": [
    {
     "data": {
      "text/plain": "  Instrument/default/LusidInstrumentId  Instrument/default/Name  \\\n0                              CCY_USD                      USD   \n1                        LUID_00003DEP  TD Example Instrument C   \n\n      Analytic/default/ValuationDate  Sum(Valuation/PV)  \n0  2021-03-21T00:00:00.0000000+00:00      -983,916.6667  \n1  2021-03-21T00:00:00.0000000+00:00     1,050,416.6667  ",
      "text/html": "<div>\n<style scoped>\n    .dataframe tbody tr th:only-of-type {\n        vertical-align: middle;\n    }\n\n    .dataframe tbody tr th {\n        vertical-align: top;\n    }\n\n    .dataframe thead th {\n        text-align: right;\n    }\n</style>\n<table border=\"1\" class=\"dataframe\">\n  <thead>\n    <tr style=\"text-align: right;\">\n      <th></th>\n      <th>Instrument/default/LusidInstrumentId</th>\n      <th>Instrument/default/Name</th>\n      <th>Analytic/default/ValuationDate</th>\n      <th>Sum(Valuation/PV)</th>\n    </tr>\n  </thead>\n  <tbody>\n    <tr>\n      <th>0</th>\n      <td>CCY_USD</td>\n      <td>USD</td>\n      <td>2021-03-21T00:00:00.0000000+00:00</td>\n      <td>-983,916.6667</td>\n    </tr>\n    <tr>\n      <th>1</th>\n      <td>LUID_00003DEP</td>\n      <td>TD Example Instrument C</td>\n      <td>2021-03-21T00:00:00.0000000+00:00</td>\n      <td>1,050,416.6667</td>\n    </tr>\n  </tbody>\n</table>\n</div>"
     },
     "execution_count": 642,
     "metadata": {},
     "output_type": "execute_result"
    }
   ],
   "source": [
    "perform_valuation(SSRecipe, roll1_maturity_date+timedelta(3))"
   ],
   "metadata": {
    "collapsed": false,
    "pycharm": {
     "name": "#%%\n"
    }
   }
  },
  {
   "cell_type": "code",
   "execution_count": 642,
   "outputs": [],
   "source": [
    "# AP to make changes to term deposits and cash flows. Will be 2 cash flows."
   ],
   "metadata": {
    "collapsed": false,
    "pycharm": {
     "name": "#%%\n"
    }
   }
  },
  {
   "cell_type": "code",
   "execution_count": 642,
   "outputs": [],
   "source": [],
   "metadata": {
    "collapsed": false,
    "pycharm": {
     "name": "#%%\n"
    }
   }
  },
  {
   "cell_type": "code",
   "execution_count": 642,
   "outputs": [],
   "source": [],
   "metadata": {
    "collapsed": false,
    "pycharm": {
     "name": "#%%\n"
    }
   }
  },
  {
   "cell_type": "code",
   "execution_count": 642,
   "outputs": [],
   "source": [],
   "metadata": {
    "collapsed": false,
    "pycharm": {
     "name": "#%%\n"
    }
   }
  },
  {
   "cell_type": "code",
   "execution_count": 642,
   "outputs": [],
   "source": [],
   "metadata": {
    "collapsed": false,
    "pycharm": {
     "name": "#%%\n"
    }
   }
  },
  {
   "cell_type": "code",
   "execution_count": 642,
   "outputs": [],
   "source": [],
   "metadata": {
    "collapsed": false,
    "pycharm": {
     "name": "#%%\n"
    }
   }
  },
  {
   "cell_type": "code",
   "execution_count": 642,
   "outputs": [],
   "source": [],
   "metadata": {
    "collapsed": false,
    "pycharm": {
     "name": "#%%\n"
    }
   }
  },
  {
   "cell_type": "code",
   "execution_count": 642,
   "outputs": [],
   "source": [],
   "metadata": {
    "collapsed": false,
    "pycharm": {
     "name": "#%%\n"
    }
   }
  },
  {
   "cell_type": "code",
   "execution_count": 642,
   "outputs": [],
   "source": [],
   "metadata": {
    "collapsed": false,
    "pycharm": {
     "name": "#%%\n"
    }
   }
  },
  {
   "cell_type": "markdown",
   "source": [
    "### 5.2 Valuations using CTVoM"
   ],
   "metadata": {
    "collapsed": false,
    "pycharm": {
     "name": "#%% md\n"
    }
   }
  },
  {
   "cell_type": "markdown",
   "source": [
    "? How do I feed valuation price into sale price\n",
    "? Should valuation prices change with time\n",
    "? Does the second purchase after the roll need to have a later maturity"
   ],
   "metadata": {
    "collapsed": false,
    "pycharm": {
     "name": "#%% md\n"
    }
   }
  },
  {
   "cell_type": "code",
   "execution_count": 643,
   "outputs": [],
   "source": [
    "# # Book a sell transaction against the term deposit\n",
    "# preMaturityValuation = instA_valuation(rolling_date)\n",
    "#\n",
    "# sell_td = lm.TransactionRequest(\n",
    "#     transaction_id=\"txn003\",\n",
    "#     type=\"Sell\",\n",
    "#     instrument_identifiers={\"Instrument/default/ClientInternal\": \"TD_EXAMPLE_A\"},\n",
    "#     transaction_date=rolling_date.isoformat(),\n",
    "#     settlement_date=(rolling_date + timedelta(days=30)).isoformat(),\n",
    "#     units=75,\n",
    "#     transaction_price=lm.TransactionPrice(price=0,type=\"Price\"),\n",
    "#     total_consideration=lm.CurrencyAndAmount(amount=preMaturityValuation,currency=\"USD\"),\n",
    "#     exchange_rate=1,\n",
    "#     transaction_currency=\"USD\"\n",
    "# )\n",
    "#\n",
    "# response = transaction_portfolios_api.upsert_transactions(scope=scope,\n",
    "#                                                     code=portfolio_code,\n",
    "#                                                     transaction_request=[sell_td])\n",
    "# response"
   ],
   "metadata": {
    "collapsed": false,
    "pycharm": {
     "name": "#%%\n"
    }
   }
  },
  {
   "cell_type": "code",
   "source": [
    "# # Buy TD back with lower market value\n",
    "#\n",
    "# sell_td = lm.TransactionRequest(\n",
    "#     transaction_id=\"txn004\",\n",
    "#     type=\"Sell\",\n",
    "#     instrument_identifiers={\"Instrument/default/ClientInternal\": \"TD_EXAMPLE_A\"},\n",
    "#     transaction_date=rolling_date.isoformat(),\n",
    "#     settlement_date=(rolling_date + timedelta(days=30)).isoformat(),\n",
    "#     units=75,\n",
    "#     transaction_price=lm.TransactionPrice(price=0,type=\"Price\"),\n",
    "#     total_consideration=lm.CurrencyAndAmount(amount=preMaturityValuation,currency=\"USD\"),\n",
    "#     exchange_rate=1,\n",
    "#     transaction_currency=\"USD\"\n",
    "# )"
   ],
   "metadata": {
    "collapsed": false,
    "pycharm": {
     "name": "#%%\n"
    }
   },
   "execution_count": 644,
   "outputs": []
  },
  {
   "cell_type": "code",
   "execution_count": 644,
   "outputs": [],
   "source": [
    "\n"
   ],
   "metadata": {
    "collapsed": false,
    "pycharm": {
     "name": "#%%\n"
    }
   }
  }
 ],
 "metadata": {
  "kernelspec": {
   "display_name": "Python 3",
   "language": "python",
   "name": "python3"
  },
  "language_info": {
   "codemirror_mode": {
    "name": "ipython",
    "version": 2
   },
   "file_extension": ".py",
   "mimetype": "text/x-python",
   "name": "python",
   "nbconvert_exporter": "python",
   "pygments_lexer": "ipython2",
   "version": "2.7.6"
  }
 },
 "nbformat": 4,
 "nbformat_minor": 0
}