{
 "cells": [
  {
   "cell_type": "code",
   "execution_count": 321,
   "metadata": {
    "collapsed": true,
    "pycharm": {
     "name": "#%%\n"
    }
   },
   "outputs": [
    {
     "data": {
      "text/plain": "<IPython.core.display.HTML object>",
      "text/html": "\n    <form action=\"javascript:code_toggle()\"><input type=\"submit\" id=\"toggleButton\" value=\"Hide docstring\"></form>\n    \n         <script>\n         function code_toggle() {\n             if ($('div.cell.code_cell.rendered.selected div.input').css('display')!='none'){\n                 $('div.cell.code_cell.rendered.selected div.input').hide();\n             } else {\n                 $('div.cell.code_cell.rendered.selected div.input').show();\n             }\n         }\n         </script>\n\n     "
     },
     "metadata": {},
     "output_type": "display_data"
    }
   ],
   "source": [
    "\n",
    "from lusidtools.jupyter_tools import toggle_code\n",
    "\n",
    "\"\"\"Term Deposit Valuation\n",
    "\n",
    "Demonstrates pricing of a Term Deposit Investment.\n",
    "\n",
    "Attributes\n",
    "----------\n",
    "instruments\n",
    "valuation\n",
    "lifecycle events\n",
    "market data store\n",
    "results store\n",
    "quotes\n",
    "\"\"\"\n",
    "\n",
    "toggle_code(\"Hide docstring\")"
   ]
  },
  {
   "cell_type": "markdown",
   "source": [
    "## 1. Setup"
   ],
   "metadata": {
    "collapsed": false,
    "pycharm": {
     "name": "#%% md\n"
    }
   }
  },
  {
   "cell_type": "code",
   "execution_count": 322,
   "outputs": [
    {
     "name": "stdout",
     "output_type": "stream",
     "text": [
      "LUSID Environment Initialised\n",
      "LUSID SDK Version:  0.6.11152.0\n"
     ]
    }
   ],
   "source": [
    "# Import LUSID libraries\n",
    "import lusid as lu\n",
    "import lusid.models as lm\n",
    "from lusidtools.lpt.lpt import to_date\n",
    "\n",
    "from lusidtools.pandas_utils.lusid_pandas import lusid_response_to_data_frame\n",
    "from lusidjam.refreshing_token import RefreshingToken\n",
    "\n",
    "# Import Libraries\n",
    "from datetime import datetime, timedelta\n",
    "import pytz\n",
    "import pandas as pd\n",
    "import json\n",
    "import os\n",
    "\n",
    "# Settings and utility functions to display objects and responses more clearly.\n",
    "pd.set_option('float_format', '{:,.4f}'.format)\n",
    "\n",
    "# Set the secrets path\n",
    "secrets_path = os.getenv(\"FBN_SECRETS_PATH\")\n",
    "\n",
    "if secrets_path is None:\n",
    "    secrets_path = os.path.join(os.path.dirname(os.getcwd()), \"secrets.json\")\n",
    "\n",
    "api_factory = lu.utilities.ApiClientFactory(\n",
    "        token=RefreshingToken(),\n",
    "        api_secrets_filename = secrets_path,\n",
    "        app_name=\"LusidJupyterNotebook\")\n",
    "\n",
    "print ('LUSID Environment Initialised')\n",
    "print ('LUSID SDK Version: ', api_factory.build(lu.api.ApplicationMetadataApi).get_lusid_versions().build_version)"
   ],
   "metadata": {
    "collapsed": false,
    "pycharm": {
     "name": "#%%\n"
    }
   }
  },
  {
   "cell_type": "code",
   "execution_count": 323,
   "outputs": [],
   "source": [
    "# Initiate the LUSID APIs required for the notebook\n",
    "instruments_api = api_factory.build(lu.api.InstrumentsApi)\n",
    "transaction_portfolios_api = api_factory.build(lu.api.TransactionPortfoliosApi)\n",
    "quotes_api = api_factory.build(lu.api.QuotesApi)\n",
    "complex_market_data_api = api_factory.build(lu.api.ComplexMarketDataApi)\n",
    "configuration_recipe_api = api_factory.build(lu.api.ConfigurationRecipeApi)\n",
    "aggregation_api = api_factory.build(lu.AggregationApi)\n",
    "structured_result_data_api = api_factory.build(lu.api.StructuredResultDataApi)"
   ],
   "metadata": {
    "collapsed": false,
    "pycharm": {
     "name": "#%%\n"
    }
   }
  },
  {
   "cell_type": "code",
   "execution_count": 324,
   "outputs": [],
   "source": [
    "# Define scopes\n",
    "scope = \"ibor\"\n",
    "quotes_scope = \"ibor\"\n",
    "portfolio_code = \"TermDepositExamplePortfolio\""
   ],
   "metadata": {
    "collapsed": false,
    "pycharm": {
     "name": "#%%\n"
    }
   }
  },
  {
   "cell_type": "markdown",
   "source": [
    "### 1.1 Create Portfolios"
   ],
   "metadata": {
    "collapsed": false,
    "pycharm": {
     "name": "#%% md\n"
    }
   }
  },
  {
   "cell_type": "code",
   "execution_count": 325,
   "outputs": [
    {
     "name": "stdout",
     "output_type": "stream",
     "text": [
      "Could not create a portfolio with id 'TermDepositExamplePortfolio' because it already exists in scope 'ibor'.\n"
     ]
    }
   ],
   "source": [
    "try:\n",
    "    transaction_portfolios_api.create_portfolio(\n",
    "        scope=scope,\n",
    "        create_transaction_portfolio_request=lm.CreateTransactionPortfolioRequest(\n",
    "            display_name=portfolio_code,\n",
    "            code=portfolio_code,\n",
    "            base_currency=\"USD\",\n",
    "            created=\"2010-01-01\",\n",
    "            sub_holding_keys=[],\n",
    "        ),\n",
    "    )\n",
    "\n",
    "except lu.ApiException as e:\n",
    "    print(json.loads(e.body)[\"title\"])"
   ],
   "metadata": {
    "collapsed": false,
    "pycharm": {
     "name": "#%%\n"
    }
   }
  },
  {
   "cell_type": "markdown",
   "source": [
    "### 1.2 Create TD Instruments"
   ],
   "metadata": {
    "collapsed": false,
    "pycharm": {
     "name": "#%% md\n"
    }
   }
  },
  {
   "cell_type": "code",
   "execution_count": 326,
   "outputs": [],
   "source": [
    "flow_conventions = lm.FlowConventions(\n",
    "    currency=\"GBP\",\n",
    "    payment_frequency=\"6M\",\n",
    "    roll_convention=\"F\",\n",
    "    day_count_convention=\"Actual360\",\n",
    "    payment_calendars=[],\n",
    "    reset_calendars=[],\n",
    "    settle_days=0,\n",
    "    reset_days=0,\n",
    ")\n",
    "\n",
    "start_date = datetime(2025, 1, 1, 00, tzinfo=pytz.utc)\n",
    "maturity_date = datetime(2035, 1, 1, 00, tzinfo=pytz.utc)\n",
    "rolling_date = maturity_date - timedelta(days=1)\n",
    "\n",
    "def create_td_instrument(\n",
    "    name,\n",
    "    identifier,\n",
    "    start_date,\n",
    "    maturity_date,\n",
    "    contract_size,\n",
    "    flow_convention,\n",
    "    rate,\n",
    "    dom_ccy\n",
    "):\n",
    "    td_instrument = lm.TermDeposit(\n",
    "        start_date=start_date,\n",
    "        maturity_date=maturity_date,\n",
    "        contract_size=contract_size,\n",
    "        flow_convention=flow_convention,\n",
    "        rate=rate,\n",
    "        dom_ccy=dom_ccy,\n",
    "        instrument_type=\"TermDeposit\",\n",
    "        local_vars_configuration=None)\n",
    "\n",
    "    td_definition = lm.InstrumentDefinition(\n",
    "        name=name,\n",
    "        identifiers={\"ClientInternal\": lm.InstrumentIdValue(identifier)},\n",
    "        definition=td_instrument\n",
    "    )\n",
    "\n",
    "    upsert_request = {identifier: td_definition}\n",
    "    upsert_response = instruments_api.upsert_instruments(request_body=upsert_request)\n",
    "    print(upsert_response)\n",
    "    td_luid = upsert_response.values[identifier]\n",
    "    print(td_luid)"
   ],
   "metadata": {
    "collapsed": false,
    "pycharm": {
     "name": "#%%\n"
    }
   }
  },
  {
   "cell_type": "code",
   "execution_count": 327,
   "outputs": [
    {
     "name": "stdout",
     "output_type": "stream",
     "text": [
      "{'failed': {},\n",
      " 'href': None,\n",
      " 'links': [{'description': None,\n",
      "            'href': 'https://liberty.lusid.com/api/api/schemas/entities/UpsertInstrumentsResponse',\n",
      "            'method': 'GET',\n",
      "            'relation': 'EntitySchema'},\n",
      "           {'description': 'A link to the LUSID Insights website showing all '\n",
      "                           'logs related to this request',\n",
      "            'href': 'http://liberty.lusid.com/app/insights/logs/0HMQ1MG9QS42J:00000085',\n",
      "            'method': 'GET',\n",
      "            'relation': 'RequestLogs'}],\n",
      " 'metadata': {'actions': [{'description': 'The request identifiers of Updated Instruments',\n",
      " 'identifier_type': 'RequestId',\n",
      " 'identifiers': ['TD_EXAMPLE_A'],\n",
      " 'type': 'UpdatedInstruments'}]},\n",
      " 'values': {'TD_EXAMPLE_A': {'asset_class': 'InterestRates',\n",
      "                             'dom_ccy': 'GBP',\n",
      "                             'href': 'https://liberty.lusid.com/api/api/instruments/LusidInstrumentId/LUID_00003DEN?scope=default',\n",
      "                             'identifiers': {'ClientInternal': 'TD_EXAMPLE_A',\n",
      "                                             'LusidInstrumentId': 'LUID_00003DEN'},\n",
      "                             'instrument_definition': {'contract_size': 1000.0,\n",
      "                                                       'dom_ccy': None,\n",
      "                                                       'flow_convention': {'code': None,\n",
      "                                                                           'currency': 'GBP',\n",
      "                                                                           'day_count_convention': 'Actual360',\n",
      "                                                                           'leap_days_included': True,\n",
      "                                                                           'payment_calendars': [],\n",
      "                                                                           'payment_frequency': '6M',\n",
      "                                                                           'reset_calendars': [],\n",
      "                                                                           'reset_days': 0,\n",
      "                                                                           'roll_convention': 'F',\n",
      "                                                                           'scope': None,\n",
      "                                                                           'settle_days': 0},\n",
      "                                                       'instrument_type': 'TermDeposit',\n",
      "                                                       'maturity_date': datetime.datetime(2035, 1, 1, 0, 0, tzinfo=tzutc()),\n",
      "                                                       'rate': 1.03,\n",
      "                                                       'start_date': datetime.datetime(2025, 1, 1, 0, 0, tzinfo=tzutc())},\n",
      "                             'links': None,\n",
      "                             'lookthrough_portfolio': None,\n",
      "                             'lusid_instrument_id': 'LUID_00003DEN',\n",
      "                             'name': 'TD Example Instrument A',\n",
      "                             'properties': [],\n",
      "                             'relationships': [],\n",
      "                             'scope': 'default',\n",
      "                             'state': 'Active',\n",
      "                             'version': {'as_at_date': datetime.datetime(2023, 4, 20, 15, 50, 53, 608205, tzinfo=tzutc()),\n",
      "                                         'effective_from': datetime.datetime(1, 1, 1, 0, 0, tzinfo=tzutc())}}}}\n",
      "{'asset_class': 'InterestRates',\n",
      " 'dom_ccy': 'GBP',\n",
      " 'href': 'https://liberty.lusid.com/api/api/instruments/LusidInstrumentId/LUID_00003DEN?scope=default',\n",
      " 'identifiers': {'ClientInternal': 'TD_EXAMPLE_A',\n",
      "                 'LusidInstrumentId': 'LUID_00003DEN'},\n",
      " 'instrument_definition': {'contract_size': 1000.0,\n",
      "                           'dom_ccy': None,\n",
      "                           'flow_convention': {'code': None,\n",
      "                                               'currency': 'GBP',\n",
      "                                               'day_count_convention': 'Actual360',\n",
      "                                               'leap_days_included': True,\n",
      "                                               'payment_calendars': [],\n",
      "                                               'payment_frequency': '6M',\n",
      "                                               'reset_calendars': [],\n",
      "                                               'reset_days': 0,\n",
      "                                               'roll_convention': 'F',\n",
      "                                               'scope': None,\n",
      "                                               'settle_days': 0},\n",
      "                           'instrument_type': 'TermDeposit',\n",
      "                           'maturity_date': datetime.datetime(2035, 1, 1, 0, 0, tzinfo=tzutc()),\n",
      "                           'rate': 1.03,\n",
      "                           'start_date': datetime.datetime(2025, 1, 1, 0, 0, tzinfo=tzutc())},\n",
      " 'links': None,\n",
      " 'lookthrough_portfolio': None,\n",
      " 'lusid_instrument_id': 'LUID_00003DEN',\n",
      " 'name': 'TD Example Instrument A',\n",
      " 'properties': [],\n",
      " 'relationships': [],\n",
      " 'scope': 'default',\n",
      " 'state': 'Active',\n",
      " 'version': {'as_at_date': datetime.datetime(2023, 4, 20, 15, 50, 53, 608205, tzinfo=tzutc()),\n",
      "             'effective_from': datetime.datetime(1, 1, 1, 0, 0, tzinfo=tzutc())}}\n"
     ]
    }
   ],
   "source": [
    "td_luid_a = create_td_instrument(\n",
    "    \"TD Example Instrument A\",\n",
    "    \"TD_EXAMPLE_A\",\n",
    "    start_date,\n",
    "    maturity_date,\n",
    "    1000,\n",
    "    flow_conventions,\n",
    "    1.03,\n",
    "    \"GBP\"\n",
    ")\n",
    "td_luid_a"
   ],
   "metadata": {
    "collapsed": false,
    "pycharm": {
     "name": "#%%\n"
    }
   }
  },
  {
   "cell_type": "code",
   "execution_count": 328,
   "outputs": [
    {
     "name": "stdout",
     "output_type": "stream",
     "text": [
      "{'failed': {},\n",
      " 'href': None,\n",
      " 'links': [{'description': None,\n",
      "            'href': 'https://liberty.lusid.com/api/api/schemas/entities/UpsertInstrumentsResponse',\n",
      "            'method': 'GET',\n",
      "            'relation': 'EntitySchema'},\n",
      "           {'description': 'A link to the LUSID Insights website showing all '\n",
      "                           'logs related to this request',\n",
      "            'href': 'http://liberty.lusid.com/app/insights/logs/0HMQ1MG9T1AIR:000001E1',\n",
      "            'method': 'GET',\n",
      "            'relation': 'RequestLogs'}],\n",
      " 'metadata': {'actions': [{'description': 'The request identifiers of Updated Instruments',\n",
      " 'identifier_type': 'RequestId',\n",
      " 'identifiers': ['TD_EXAMPLE_B'],\n",
      " 'type': 'UpdatedInstruments'}]},\n",
      " 'values': {'TD_EXAMPLE_B': {'asset_class': 'InterestRates',\n",
      "                             'dom_ccy': 'GBP',\n",
      "                             'href': 'https://liberty.lusid.com/api/api/instruments/LusidInstrumentId/LUID_00003DEO?scope=default',\n",
      "                             'identifiers': {'ClientInternal': 'TD_EXAMPLE_B',\n",
      "                                             'LusidInstrumentId': 'LUID_00003DEO'},\n",
      "                             'instrument_definition': {'contract_size': 1000.0,\n",
      "                                                       'dom_ccy': None,\n",
      "                                                       'flow_convention': {'code': None,\n",
      "                                                                           'currency': 'GBP',\n",
      "                                                                           'day_count_convention': 'Actual360',\n",
      "                                                                           'leap_days_included': True,\n",
      "                                                                           'payment_calendars': [],\n",
      "                                                                           'payment_frequency': '6M',\n",
      "                                                                           'reset_calendars': [],\n",
      "                                                                           'reset_days': 0,\n",
      "                                                                           'roll_convention': 'F',\n",
      "                                                                           'scope': None,\n",
      "                                                                           'settle_days': 0},\n",
      "                                                       'instrument_type': 'TermDeposit',\n",
      "                                                       'maturity_date': datetime.datetime(2035, 1, 1, 0, 0, tzinfo=tzutc()),\n",
      "                                                       'rate': 1.05,\n",
      "                                                       'start_date': datetime.datetime(2025, 1, 1, 0, 0, tzinfo=tzutc())},\n",
      "                             'links': None,\n",
      "                             'lookthrough_portfolio': None,\n",
      "                             'lusid_instrument_id': 'LUID_00003DEO',\n",
      "                             'name': 'TD Example Instrument B',\n",
      "                             'properties': [],\n",
      "                             'relationships': [],\n",
      "                             'scope': 'default',\n",
      "                             'state': 'Active',\n",
      "                             'version': {'as_at_date': datetime.datetime(2023, 4, 20, 15, 50, 53, 937068, tzinfo=tzutc()),\n",
      "                                         'effective_from': datetime.datetime(1, 1, 1, 0, 0, tzinfo=tzutc())}}}}\n",
      "{'asset_class': 'InterestRates',\n",
      " 'dom_ccy': 'GBP',\n",
      " 'href': 'https://liberty.lusid.com/api/api/instruments/LusidInstrumentId/LUID_00003DEO?scope=default',\n",
      " 'identifiers': {'ClientInternal': 'TD_EXAMPLE_B',\n",
      "                 'LusidInstrumentId': 'LUID_00003DEO'},\n",
      " 'instrument_definition': {'contract_size': 1000.0,\n",
      "                           'dom_ccy': None,\n",
      "                           'flow_convention': {'code': None,\n",
      "                                               'currency': 'GBP',\n",
      "                                               'day_count_convention': 'Actual360',\n",
      "                                               'leap_days_included': True,\n",
      "                                               'payment_calendars': [],\n",
      "                                               'payment_frequency': '6M',\n",
      "                                               'reset_calendars': [],\n",
      "                                               'reset_days': 0,\n",
      "                                               'roll_convention': 'F',\n",
      "                                               'scope': None,\n",
      "                                               'settle_days': 0},\n",
      "                           'instrument_type': 'TermDeposit',\n",
      "                           'maturity_date': datetime.datetime(2035, 1, 1, 0, 0, tzinfo=tzutc()),\n",
      "                           'rate': 1.05,\n",
      "                           'start_date': datetime.datetime(2025, 1, 1, 0, 0, tzinfo=tzutc())},\n",
      " 'links': None,\n",
      " 'lookthrough_portfolio': None,\n",
      " 'lusid_instrument_id': 'LUID_00003DEO',\n",
      " 'name': 'TD Example Instrument B',\n",
      " 'properties': [],\n",
      " 'relationships': [],\n",
      " 'scope': 'default',\n",
      " 'state': 'Active',\n",
      " 'version': {'as_at_date': datetime.datetime(2023, 4, 20, 15, 50, 53, 937068, tzinfo=tzutc()),\n",
      "             'effective_from': datetime.datetime(1, 1, 1, 0, 0, tzinfo=tzutc())}}\n"
     ]
    }
   ],
   "source": [
    "td_luid_b = create_td_instrument(\n",
    "    \"TD Example Instrument B\",\n",
    "    \"TD_EXAMPLE_B\",\n",
    "    start_date,\n",
    "    maturity_date,\n",
    "    1000,\n",
    "    flow_conventions,\n",
    "    1.05,\n",
    "    \"GBP\"\n",
    ")\n",
    "\n",
    "td_luid_b"
   ],
   "metadata": {
    "collapsed": false,
    "pycharm": {
     "name": "#%%\n"
    }
   }
  },
  {
   "cell_type": "code",
   "execution_count": 329,
   "outputs": [
    {
     "name": "stdout",
     "output_type": "stream",
     "text": [
      "{'failed': {},\n",
      " 'href': None,\n",
      " 'links': [{'description': None,\n",
      "            'href': 'https://liberty.lusid.com/api/api/schemas/entities/UpsertInstrumentsResponse',\n",
      "            'method': 'GET',\n",
      "            'relation': 'EntitySchema'},\n",
      "           {'description': 'A link to the LUSID Insights website showing all '\n",
      "                           'logs related to this request',\n",
      "            'href': 'http://liberty.lusid.com/app/insights/logs/0HMQ1MFTDNHE7:00000009',\n",
      "            'method': 'GET',\n",
      "            'relation': 'RequestLogs'}],\n",
      " 'metadata': {'actions': [{'description': 'The request identifiers of Unchanged Instruments',\n",
      " 'identifier_type': 'RequestId',\n",
      " 'identifiers': ['TD_EXAMPLE_C'],\n",
      " 'type': 'UnchangedInstruments'}]},\n",
      " 'values': {'TD_EXAMPLE_C': {'asset_class': 'InterestRates',\n",
      "                             'dom_ccy': 'GBP',\n",
      "                             'href': 'https://liberty.lusid.com/api/api/instruments/LusidInstrumentId/LUID_00003DEP?scope=default',\n",
      "                             'identifiers': {'ClientInternal': 'TD_EXAMPLE_C',\n",
      "                                             'LusidInstrumentId': 'LUID_00003DEP'},\n",
      "                             'instrument_definition': {'contract_size': 1000.0,\n",
      "                                                       'dom_ccy': None,\n",
      "                                                       'flow_convention': {'code': None,\n",
      "                                                                           'currency': 'GBP',\n",
      "                                                                           'day_count_convention': 'Actual360',\n",
      "                                                                           'leap_days_included': True,\n",
      "                                                                           'payment_calendars': [],\n",
      "                                                                           'payment_frequency': '6M',\n",
      "                                                                           'reset_calendars': [],\n",
      "                                                                           'reset_days': 0,\n",
      "                                                                           'roll_convention': 'F',\n",
      "                                                                           'scope': None,\n",
      "                                                                           'settle_days': 0},\n",
      "                                                       'instrument_type': 'TermDeposit',\n",
      "                                                       'maturity_date': datetime.datetime(2035, 1, 1, 0, 0, tzinfo=tzutc()),\n",
      "                                                       'rate': 1.07,\n",
      "                                                       'start_date': datetime.datetime(2025, 1, 1, 0, 0, tzinfo=tzutc())},\n",
      "                             'links': None,\n",
      "                             'lookthrough_portfolio': None,\n",
      "                             'lusid_instrument_id': 'LUID_00003DEP',\n",
      "                             'name': 'TD Example Instrument C',\n",
      "                             'properties': [],\n",
      "                             'relationships': [],\n",
      "                             'scope': 'default',\n",
      "                             'state': 'Active',\n",
      "                             'version': {'as_at_date': datetime.datetime(2023, 4, 20, 14, 31, 54, 728082, tzinfo=tzutc()),\n",
      "                                         'effective_from': datetime.datetime(1, 1, 1, 0, 0, tzinfo=tzutc())}}}}\n",
      "{'asset_class': 'InterestRates',\n",
      " 'dom_ccy': 'GBP',\n",
      " 'href': 'https://liberty.lusid.com/api/api/instruments/LusidInstrumentId/LUID_00003DEP?scope=default',\n",
      " 'identifiers': {'ClientInternal': 'TD_EXAMPLE_C',\n",
      "                 'LusidInstrumentId': 'LUID_00003DEP'},\n",
      " 'instrument_definition': {'contract_size': 1000.0,\n",
      "                           'dom_ccy': None,\n",
      "                           'flow_convention': {'code': None,\n",
      "                                               'currency': 'GBP',\n",
      "                                               'day_count_convention': 'Actual360',\n",
      "                                               'leap_days_included': True,\n",
      "                                               'payment_calendars': [],\n",
      "                                               'payment_frequency': '6M',\n",
      "                                               'reset_calendars': [],\n",
      "                                               'reset_days': 0,\n",
      "                                               'roll_convention': 'F',\n",
      "                                               'scope': None,\n",
      "                                               'settle_days': 0},\n",
      "                           'instrument_type': 'TermDeposit',\n",
      "                           'maturity_date': datetime.datetime(2035, 1, 1, 0, 0, tzinfo=tzutc()),\n",
      "                           'rate': 1.07,\n",
      "                           'start_date': datetime.datetime(2025, 1, 1, 0, 0, tzinfo=tzutc())},\n",
      " 'links': None,\n",
      " 'lookthrough_portfolio': None,\n",
      " 'lusid_instrument_id': 'LUID_00003DEP',\n",
      " 'name': 'TD Example Instrument C',\n",
      " 'properties': [],\n",
      " 'relationships': [],\n",
      " 'scope': 'default',\n",
      " 'state': 'Active',\n",
      " 'version': {'as_at_date': datetime.datetime(2023, 4, 20, 14, 31, 54, 728082, tzinfo=tzutc()),\n",
      "             'effective_from': datetime.datetime(1, 1, 1, 0, 0, tzinfo=tzutc())}}\n"
     ]
    }
   ],
   "source": [
    "td_luid_c = create_td_instrument(\n",
    "    \"TD Example Instrument C\",\n",
    "    \"TD_EXAMPLE_C\",\n",
    "    start_date,\n",
    "    maturity_date,\n",
    "    1000,\n",
    "    flow_conventions,\n",
    "    1.07,\n",
    "    \"GBP\"\n",
    ")\n",
    "\n",
    "td_luid_c"
   ],
   "metadata": {
    "collapsed": false,
    "pycharm": {
     "name": "#%%\n"
    }
   }
  },
  {
   "cell_type": "markdown",
   "source": [
    "### 1.4 Load transactions into the repo"
   ],
   "metadata": {
    "collapsed": false,
    "pycharm": {
     "name": "#%% md\n"
    }
   }
  },
  {
   "cell_type": "code",
   "execution_count": 330,
   "outputs": [
    {
     "data": {
      "text/plain": "   txn_id     type     client_id            trade_date       settlement_date  \\\n0  txn001  StockIn  TD_EXAMPLE_A  2020-01-01T00:00:00Z  2020-01-03T00:00:00Z   \n1  txn002  StockIn  TD_EXAMPLE_B  2020-01-01T00:00:00Z  2020-01-03T00:00:00Z   \n2  txn003     Sell  TD_EXAMPLE_A  2034-12-05T00:00:00Z  2034-12-08T00:00:00Z   \n3  txn004  StockIn  TD_EXAMPLE_A  2034-12-10T00:00:00Z  2034-12-13T00:00:00Z   \n4  txn005     Sell  TD_EXAMPLE_B  2034-12-15T00:00:00Z  2034-12-18T00:00:00Z   \n\n   quantity  price total_consideration currency  \n0        75    200           15,000.00      USD  \n1       100    220           22,000.00      USD  \n2        75    200           15,000.00      USD  \n3        75    150           11,250.00      USD  \n4       100    220           22,000.00      USD  ",
      "text/html": "<div>\n<style scoped>\n    .dataframe tbody tr th:only-of-type {\n        vertical-align: middle;\n    }\n\n    .dataframe tbody tr th {\n        vertical-align: top;\n    }\n\n    .dataframe thead th {\n        text-align: right;\n    }\n</style>\n<table border=\"1\" class=\"dataframe\">\n  <thead>\n    <tr style=\"text-align: right;\">\n      <th></th>\n      <th>txn_id</th>\n      <th>type</th>\n      <th>client_id</th>\n      <th>trade_date</th>\n      <th>settlement_date</th>\n      <th>quantity</th>\n      <th>price</th>\n      <th>total_consideration</th>\n      <th>currency</th>\n    </tr>\n  </thead>\n  <tbody>\n    <tr>\n      <th>0</th>\n      <td>txn001</td>\n      <td>StockIn</td>\n      <td>TD_EXAMPLE_A</td>\n      <td>2020-01-01T00:00:00Z</td>\n      <td>2020-01-03T00:00:00Z</td>\n      <td>75</td>\n      <td>200</td>\n      <td>15,000.00</td>\n      <td>USD</td>\n    </tr>\n    <tr>\n      <th>1</th>\n      <td>txn002</td>\n      <td>StockIn</td>\n      <td>TD_EXAMPLE_B</td>\n      <td>2020-01-01T00:00:00Z</td>\n      <td>2020-01-03T00:00:00Z</td>\n      <td>100</td>\n      <td>220</td>\n      <td>22,000.00</td>\n      <td>USD</td>\n    </tr>\n    <tr>\n      <th>2</th>\n      <td>txn003</td>\n      <td>Sell</td>\n      <td>TD_EXAMPLE_A</td>\n      <td>2034-12-05T00:00:00Z</td>\n      <td>2034-12-08T00:00:00Z</td>\n      <td>75</td>\n      <td>200</td>\n      <td>15,000.00</td>\n      <td>USD</td>\n    </tr>\n    <tr>\n      <th>3</th>\n      <td>txn004</td>\n      <td>StockIn</td>\n      <td>TD_EXAMPLE_A</td>\n      <td>2034-12-10T00:00:00Z</td>\n      <td>2034-12-13T00:00:00Z</td>\n      <td>75</td>\n      <td>150</td>\n      <td>11,250.00</td>\n      <td>USD</td>\n    </tr>\n    <tr>\n      <th>4</th>\n      <td>txn005</td>\n      <td>Sell</td>\n      <td>TD_EXAMPLE_B</td>\n      <td>2034-12-15T00:00:00Z</td>\n      <td>2034-12-18T00:00:00Z</td>\n      <td>100</td>\n      <td>220</td>\n      <td>22,000.00</td>\n      <td>USD</td>\n    </tr>\n  </tbody>\n</table>\n</div>"
     },
     "execution_count": 330,
     "metadata": {},
     "output_type": "execute_result"
    }
   ],
   "source": [
    "transactions_df = pd.read_csv(\"data/term_deposit_transactions.csv\")\n",
    "transactions_df.head()"
   ],
   "metadata": {
    "collapsed": false,
    "pycharm": {
     "name": "#%%\n"
    }
   }
  },
  {
   "cell_type": "code",
   "execution_count": 331,
   "outputs": [
    {
     "name": "stdout",
     "output_type": "stream",
     "text": [
      "Transactions succesfully updated at time: 2023-04-20 15:50:56.225796+00:00\n"
     ]
    }
   ],
   "source": [
    "transaction_request = [\n",
    "    lm.TransactionRequest(\n",
    "        transaction_id=txn[\"txn_id\"],\n",
    "        type=txn[\"type\"],\n",
    "        instrument_identifiers={\n",
    "            \"Instrument/default/ClientInternal\": txn[\"client_id\"]\n",
    "        },\n",
    "        transaction_date=to_date(txn[\"trade_date\"]).isoformat(),\n",
    "        settlement_date=to_date(txn[\"settlement_date\"]).isoformat(),\n",
    "        units=txn[\"quantity\"],\n",
    "        transaction_price=lm.TransactionPrice(price=txn[\"price\"], type=\"Price\"),\n",
    "        total_consideration=lm.CurrencyAndAmount(\n",
    "            amount=txn[\"total_consideration\"], currency=txn[\"currency\"]\n",
    "        ),\n",
    "    )\n",
    "    for index, txn in transactions_df.iterrows()\n",
    "]\n",
    "\n",
    "\n",
    "response = transaction_portfolios_api.upsert_transactions(\n",
    "    scope=scope, code=portfolio_code, transaction_request=transaction_request\n",
    ")\n",
    "\n",
    "print(f\"Transactions succesfully updated at time: {response.version.as_at_date}\")"
   ],
   "metadata": {
    "collapsed": false,
    "pycharm": {
     "name": "#%%\n"
    }
   }
  },
  {
   "cell_type": "markdown",
   "source": [
    "## 2. Get Holdings"
   ],
   "metadata": {
    "collapsed": false,
    "pycharm": {
     "name": "#%% md\n"
    }
   }
  },
  {
   "cell_type": "code",
   "execution_count": 332,
   "outputs": [],
   "source": [
    "def get_holdings(date):\n",
    "    resp = transaction_portfolios_api.get_holdings(scope=scope,\n",
    "                                         code=portfolio_code,\n",
    "                                         property_keys=[\"Instrument/default/Name\"],\n",
    "                                        effective_at=date)\n",
    "    df = lusid_response_to_data_frame(resp)\n",
    "    return df[[\"instrument_scope\",\"instrument_uid\",\"properties.Instrument/default/Name.value.label_value\",\"units\",\"cost.amount\",\"holding_type_name\"]]"
   ],
   "metadata": {
    "collapsed": false,
    "pycharm": {
     "name": "#%%\n"
    }
   }
  },
  {
   "cell_type": "code",
   "execution_count": 333,
   "outputs": [
    {
     "data": {
      "text/plain": "  instrument_scope instrument_uid  \\\n0          default  LUID_00003DEN   \n1          default  LUID_00003DEO   \n\n  properties.Instrument/default/Name.value.label_value    units  cost.amount  \\\n0                            TD Example Instrument A    75.0000  15,000.0000   \n1                            TD Example Instrument B   100.0000  22,000.0000   \n\n  holding_type_name  \n0          Position  \n1          Position  ",
      "text/html": "<div>\n<style scoped>\n    .dataframe tbody tr th:only-of-type {\n        vertical-align: middle;\n    }\n\n    .dataframe tbody tr th {\n        vertical-align: top;\n    }\n\n    .dataframe thead th {\n        text-align: right;\n    }\n</style>\n<table border=\"1\" class=\"dataframe\">\n  <thead>\n    <tr style=\"text-align: right;\">\n      <th></th>\n      <th>instrument_scope</th>\n      <th>instrument_uid</th>\n      <th>properties.Instrument/default/Name.value.label_value</th>\n      <th>units</th>\n      <th>cost.amount</th>\n      <th>holding_type_name</th>\n    </tr>\n  </thead>\n  <tbody>\n    <tr>\n      <th>0</th>\n      <td>default</td>\n      <td>LUID_00003DEN</td>\n      <td>TD Example Instrument A</td>\n      <td>75.0000</td>\n      <td>15,000.0000</td>\n      <td>Position</td>\n    </tr>\n    <tr>\n      <th>1</th>\n      <td>default</td>\n      <td>LUID_00003DEO</td>\n      <td>TD Example Instrument B</td>\n      <td>100.0000</td>\n      <td>22,000.0000</td>\n      <td>Position</td>\n    </tr>\n  </tbody>\n</table>\n</div>"
     },
     "execution_count": 333,
     "metadata": {},
     "output_type": "execute_result"
    }
   ],
   "source": [
    "# Before first roll\n",
    "get_holdings(datetime(2034,12,1,00, tzinfo=pytz.utc))"
   ],
   "metadata": {
    "collapsed": false,
    "pycharm": {
     "name": "#%%\n"
    }
   }
  },
  {
   "cell_type": "code",
   "execution_count": 334,
   "outputs": [
    {
     "data": {
      "text/plain": "  instrument_scope instrument_uid  \\\n0          default  LUID_00003DEN   \n1          default  LUID_00003DEO   \n2          default        CCY_USD   \n\n  properties.Instrument/default/Name.value.label_value       units  \\\n0                            TD Example Instrument A       75.0000   \n1                            TD Example Instrument B      100.0000   \n2                                                USD   15,000.0000   \n\n   cost.amount holding_type_name  \n0  11,250.0000          Position  \n1  22,000.0000          Position  \n2  15,000.0000           Balance  ",
      "text/html": "<div>\n<style scoped>\n    .dataframe tbody tr th:only-of-type {\n        vertical-align: middle;\n    }\n\n    .dataframe tbody tr th {\n        vertical-align: top;\n    }\n\n    .dataframe thead th {\n        text-align: right;\n    }\n</style>\n<table border=\"1\" class=\"dataframe\">\n  <thead>\n    <tr style=\"text-align: right;\">\n      <th></th>\n      <th>instrument_scope</th>\n      <th>instrument_uid</th>\n      <th>properties.Instrument/default/Name.value.label_value</th>\n      <th>units</th>\n      <th>cost.amount</th>\n      <th>holding_type_name</th>\n    </tr>\n  </thead>\n  <tbody>\n    <tr>\n      <th>0</th>\n      <td>default</td>\n      <td>LUID_00003DEN</td>\n      <td>TD Example Instrument A</td>\n      <td>75.0000</td>\n      <td>11,250.0000</td>\n      <td>Position</td>\n    </tr>\n    <tr>\n      <th>1</th>\n      <td>default</td>\n      <td>LUID_00003DEO</td>\n      <td>TD Example Instrument B</td>\n      <td>100.0000</td>\n      <td>22,000.0000</td>\n      <td>Position</td>\n    </tr>\n    <tr>\n      <th>2</th>\n      <td>default</td>\n      <td>CCY_USD</td>\n      <td>USD</td>\n      <td>15,000.0000</td>\n      <td>15,000.0000</td>\n      <td>Balance</td>\n    </tr>\n  </tbody>\n</table>\n</div>"
     },
     "execution_count": 334,
     "metadata": {},
     "output_type": "execute_result"
    }
   ],
   "source": [
    "# After first roll\n",
    "get_holdings(datetime(2034,12,10,00, tzinfo=pytz.utc))"
   ],
   "metadata": {
    "collapsed": false,
    "pycharm": {
     "name": "#%%\n"
    }
   }
  },
  {
   "cell_type": "code",
   "execution_count": 335,
   "outputs": [
    {
     "data": {
      "text/plain": "  instrument_scope instrument_uid  \\\n0          default  LUID_00003DEN   \n1          default        CCY_USD   \n2          default  LUID_00003DEP   \n\n  properties.Instrument/default/Name.value.label_value       units  \\\n0                            TD Example Instrument A       75.0000   \n1                                                USD   37,000.0000   \n2                            TD Example Instrument C      100.0000   \n\n   cost.amount holding_type_name  \n0  11,250.0000          Position  \n1  37,000.0000           Balance  \n2  22,000.0000          Position  ",
      "text/html": "<div>\n<style scoped>\n    .dataframe tbody tr th:only-of-type {\n        vertical-align: middle;\n    }\n\n    .dataframe tbody tr th {\n        vertical-align: top;\n    }\n\n    .dataframe thead th {\n        text-align: right;\n    }\n</style>\n<table border=\"1\" class=\"dataframe\">\n  <thead>\n    <tr style=\"text-align: right;\">\n      <th></th>\n      <th>instrument_scope</th>\n      <th>instrument_uid</th>\n      <th>properties.Instrument/default/Name.value.label_value</th>\n      <th>units</th>\n      <th>cost.amount</th>\n      <th>holding_type_name</th>\n    </tr>\n  </thead>\n  <tbody>\n    <tr>\n      <th>0</th>\n      <td>default</td>\n      <td>LUID_00003DEN</td>\n      <td>TD Example Instrument A</td>\n      <td>75.0000</td>\n      <td>11,250.0000</td>\n      <td>Position</td>\n    </tr>\n    <tr>\n      <th>1</th>\n      <td>default</td>\n      <td>CCY_USD</td>\n      <td>USD</td>\n      <td>37,000.0000</td>\n      <td>37,000.0000</td>\n      <td>Balance</td>\n    </tr>\n    <tr>\n      <th>2</th>\n      <td>default</td>\n      <td>LUID_00003DEP</td>\n      <td>TD Example Instrument C</td>\n      <td>100.0000</td>\n      <td>22,000.0000</td>\n      <td>Position</td>\n    </tr>\n  </tbody>\n</table>\n</div>"
     },
     "execution_count": 335,
     "metadata": {},
     "output_type": "execute_result"
    }
   ],
   "source": [
    "# After second roll\n",
    "get_holdings(datetime(2034,12,31,00, tzinfo=pytz.utc))"
   ],
   "metadata": {
    "collapsed": false,
    "pycharm": {
     "name": "#%%\n"
    }
   }
  },
  {
   "cell_type": "markdown",
   "source": [
    "## 5. Running a Valuation\n",
    "### 5.1 Setup recipe and valuations"
   ],
   "metadata": {
    "collapsed": false,
    "pycharm": {
     "name": "#%% md\n"
    }
   }
  },
  {
   "cell_type": "code",
   "execution_count": 336,
   "outputs": [
    {
     "data": {
      "text/plain": "{'href': None,\n 'links': [{'description': 'A link to the LUSID Insights website showing all '\n                           'logs related to this request',\n            'href': 'http://liberty.lusid.com/app/insights/logs/0HMQ1MG9T1AM5:0000007F',\n            'method': 'GET',\n            'relation': 'RequestLogs'}],\n 'value': datetime.datetime(2023, 4, 20, 15, 50, 57, 890674, tzinfo=tzutc())}"
     },
     "execution_count": 336,
     "metadata": {},
     "output_type": "execute_result"
    }
   ],
   "source": [
    "# Define a method for creating the recipe\n",
    "def create_recipe(recipe_code, scope, model):\n",
    "    # Populate recipe parameters\n",
    "    recipe = lm.ConfigurationRecipe(\n",
    "        scope=scope,\n",
    "        code=recipe_code,\n",
    "        market=lm.MarketContext(\n",
    "            market_rules=[\n",
    "                lm.MarketDataKeyRule(\n",
    "                    key=\"Equity.ClientInternal.*\",\n",
    "                    supplier=\"Lusid\",\n",
    "                    data_scope=scope,\n",
    "                    quote_type=\"Price\",\n",
    "                    field=\"mid\",\n",
    "                    quote_interval=\"5D.0D\"\n",
    "                ),\n",
    "                lm.MarketDataKeyRule(\n",
    "                    key=\"FxForwards.*\",\n",
    "                    supplier=\"Lusid\",\n",
    "                    data_scope=scope,\n",
    "                    quote_type=\"Rate\",\n",
    "                    field=\"mid\",\n",
    "                    quote_interval=\"1Y.0D\"\n",
    "                )\n",
    "            ],\n",
    "            options=lm.MarketOptions(\n",
    "                attempt_to_infer_missing_fx=True,\n",
    "                default_scope=scope\n",
    "            )\n",
    "        ),\n",
    "        # Set the valuation model - curve with no discounting\n",
    "        pricing=lm.PricingContext(\n",
    "            model_rules=[\n",
    "                lm.VendorModelRule(\n",
    "                    supplier=\"Lusid\",\n",
    "                    model_name=model,\n",
    "                    instrument_type=\"TermDeposit\",\n",
    "                    parameters=\"{}\",\n",
    "                )\n",
    "            ],\n",
    "            options=lm.PricingOptions(\n",
    "                produce_separate_result_for_linear_otc_legs=False\n",
    "            )\n",
    "        ),\n",
    "    )\n",
    "\n",
    "    response = configuration_recipe_api.upsert_configuration_recipe(\n",
    "                upsert_recipe_request=lm.UpsertRecipeRequest(\n",
    "                    configuration_recipe=recipe\n",
    "                )\n",
    "            )\n",
    "\n",
    "    return response\n",
    "\n",
    "CTVoMRecipe = \"TermDepositRecipeCTVoM\"\n",
    "SSRecipe = \"TermDepositRecipeSS\"\n",
    "\n",
    "create_recipe(CTVoMRecipe, scope, \"ConstantTimeValueOfMoney\")\n",
    "create_recipe(SSRecipe, scope, \"SimpleStatic\")"
   ],
   "metadata": {
    "collapsed": false,
    "pycharm": {
     "name": "#%%\n"
    }
   }
  },
  {
   "cell_type": "code",
   "execution_count": 350,
   "outputs": [],
   "source": [
    "# Run valuation\n",
    "def perform_valuation(recipe, date):\n",
    "    # Create valuation request\n",
    "    valuation_request = lm.ValuationRequest(\n",
    "        # Choose recipe to use\n",
    "        recipe_id = lm.ResourceId(scope = scope, code = recipe),\n",
    "        group_by = [\"Instrument/default/LusidInstrumentId\"],\n",
    "        metrics = [\n",
    "        {\"key\": \"Instrument/default/Name\", \"op\": \"Value\"},              # Reports the friendly name of the underlying instrument\n",
    "        {\"key\": \"Analytic/default/ValuationDate\", \"op\": \"Value\"},       # Confirms the valuation date\n",
    "        {\"key\": \"Valuation/PV\", \"op\": \"Sum\"}],                          # Calculates cost in GBP (the portfolio currency)\n",
    "        # Identify portfolio to value\n",
    "        portfolio_entity_ids = [lm.PortfolioEntityId(scope = scope, code = portfolio_code)],\n",
    "        # Make date of valuation conditional on effective at date passed into function\n",
    "        valuation_schedule = lm.ValuationSchedule(effective_at=date),\n",
    "    )\n",
    "\n",
    "    # Get portfolio valuation\n",
    "    val_data = aggregation_api.get_valuation(valuation_request = valuation_request).data\n",
    "\n",
    "    # Turn valuation response into pandas dataframe\n",
    "    vals_df = pd.DataFrame(val_data)\n",
    "    try:\n",
    "        return vals_df.drop(\"Aggregation/Errors\", axis=1)\n",
    "    except:\n",
    "        return vals_df\n",
    "\n",
    "\n",
    "def get_instr_valuation(instrument, date):\n",
    "    df = perform_valuation()"
   ],
   "metadata": {
    "collapsed": false,
    "pycharm": {
     "name": "#%%\n"
    }
   }
  },
  {
   "cell_type": "code",
   "execution_count": 351,
   "outputs": [],
   "source": [
    "# Sell based on valuation\n",
    "sell_td = lm.TransactionRequest(\n",
    "    transaction_id=\"txn003\",\n",
    "    type=\"Sell\",\n",
    "    instrument_identifiers={\"Instrument/default/ClientInternal\": \"TD_EXAMPLE_A\"},\n",
    "    transaction_date=rolling_date.isoformat(),\n",
    "    settlement_date=(rolling_date + timedelta(days=30)).isoformat(),\n",
    "    units=75,\n",
    "    transaction_price=lm.TransactionPrice(price=0,type=\"Price\"),\n",
    "    total_consideration=lm.CurrencyAndAmount(amount=preMaturityValuation,currency=\"USD\"),\n",
    "    exchange_rate=1,\n",
    "    transaction_currency=\"USD\"\n",
    ")"
   ],
   "metadata": {
    "collapsed": false,
    "pycharm": {
     "name": "#%%\n"
    }
   }
  },
  {
   "cell_type": "code",
   "execution_count": 349,
   "outputs": [],
   "source": [],
   "metadata": {
    "collapsed": false,
    "pycharm": {
     "name": "#%%\n"
    }
   }
  },
  {
   "cell_type": "markdown",
   "source": [
    "### 5.2 Valuations using CTVoM"
   ],
   "metadata": {
    "collapsed": false,
    "pycharm": {
     "name": "#%% md\n"
    }
   }
  },
  {
   "cell_type": "code",
   "execution_count": 338,
   "outputs": [
    {
     "data": {
      "text/plain": "   Instrument/default/Name     Analytic/default/ValuationDate  \\\n0  TD Example Instrument A  2034-12-01T00:00:00.0000000+00:00   \n1  TD Example Instrument B  2034-12-01T00:00:00.0000000+00:00   \n\n   Sum(Holding/Cost/Pfolio)  \n0               15,000.0000  \n1               22,000.0000  ",
      "text/html": "<div>\n<style scoped>\n    .dataframe tbody tr th:only-of-type {\n        vertical-align: middle;\n    }\n\n    .dataframe tbody tr th {\n        vertical-align: top;\n    }\n\n    .dataframe thead th {\n        text-align: right;\n    }\n</style>\n<table border=\"1\" class=\"dataframe\">\n  <thead>\n    <tr style=\"text-align: right;\">\n      <th></th>\n      <th>Instrument/default/Name</th>\n      <th>Analytic/default/ValuationDate</th>\n      <th>Sum(Holding/Cost/Pfolio)</th>\n    </tr>\n  </thead>\n  <tbody>\n    <tr>\n      <th>0</th>\n      <td>TD Example Instrument A</td>\n      <td>2034-12-01T00:00:00.0000000+00:00</td>\n      <td>15,000.0000</td>\n    </tr>\n    <tr>\n      <th>1</th>\n      <td>TD Example Instrument B</td>\n      <td>2034-12-01T00:00:00.0000000+00:00</td>\n      <td>22,000.0000</td>\n    </tr>\n  </tbody>\n</table>\n</div>"
     },
     "execution_count": 338,
     "metadata": {},
     "output_type": "execute_result"
    }
   ],
   "source": [
    "# Before first roll\n",
    "perform_valuation(CTVoMRecipe, portfolio_code,  datetime(2034,12,1,00, tzinfo=pytz.utc))"
   ],
   "metadata": {
    "collapsed": false,
    "pycharm": {
     "name": "#%%\n"
    }
   }
  },
  {
   "cell_type": "code",
   "execution_count": 339,
   "outputs": [
    {
     "data": {
      "text/plain": "   Instrument/default/Name     Analytic/default/ValuationDate  \\\n0  TD Example Instrument A  2034-12-14T00:00:00.0000000+00:00   \n1  TD Example Instrument B  2034-12-14T00:00:00.0000000+00:00   \n2                      USD  2034-12-14T00:00:00.0000000+00:00   \n\n   Sum(Holding/Cost/Pfolio)  \n0               11,250.0000  \n1               22,000.0000  \n2               15,000.0000  ",
      "text/html": "<div>\n<style scoped>\n    .dataframe tbody tr th:only-of-type {\n        vertical-align: middle;\n    }\n\n    .dataframe tbody tr th {\n        vertical-align: top;\n    }\n\n    .dataframe thead th {\n        text-align: right;\n    }\n</style>\n<table border=\"1\" class=\"dataframe\">\n  <thead>\n    <tr style=\"text-align: right;\">\n      <th></th>\n      <th>Instrument/default/Name</th>\n      <th>Analytic/default/ValuationDate</th>\n      <th>Sum(Holding/Cost/Pfolio)</th>\n    </tr>\n  </thead>\n  <tbody>\n    <tr>\n      <th>0</th>\n      <td>TD Example Instrument A</td>\n      <td>2034-12-14T00:00:00.0000000+00:00</td>\n      <td>11,250.0000</td>\n    </tr>\n    <tr>\n      <th>1</th>\n      <td>TD Example Instrument B</td>\n      <td>2034-12-14T00:00:00.0000000+00:00</td>\n      <td>22,000.0000</td>\n    </tr>\n    <tr>\n      <th>2</th>\n      <td>USD</td>\n      <td>2034-12-14T00:00:00.0000000+00:00</td>\n      <td>15,000.0000</td>\n    </tr>\n  </tbody>\n</table>\n</div>"
     },
     "execution_count": 339,
     "metadata": {},
     "output_type": "execute_result"
    }
   ],
   "source": [
    "# After first roll\n",
    "perform_valuation(CTVoMRecipe, portfolio_code,  datetime(2034,12,14,00, tzinfo=pytz.utc))"
   ],
   "metadata": {
    "collapsed": false,
    "pycharm": {
     "name": "#%%\n"
    }
   }
  },
  {
   "cell_type": "code",
   "execution_count": 340,
   "outputs": [
    {
     "data": {
      "text/plain": "   Instrument/default/Name     Analytic/default/ValuationDate  \\\n0  TD Example Instrument A  2034-12-24T00:00:00.0000000+00:00   \n1                      USD  2034-12-24T00:00:00.0000000+00:00   \n2  TD Example Instrument C  2034-12-24T00:00:00.0000000+00:00   \n\n   Sum(Holding/Cost/Pfolio)  \n0               11,250.0000  \n1               37,000.0000  \n2               22,000.0000  ",
      "text/html": "<div>\n<style scoped>\n    .dataframe tbody tr th:only-of-type {\n        vertical-align: middle;\n    }\n\n    .dataframe tbody tr th {\n        vertical-align: top;\n    }\n\n    .dataframe thead th {\n        text-align: right;\n    }\n</style>\n<table border=\"1\" class=\"dataframe\">\n  <thead>\n    <tr style=\"text-align: right;\">\n      <th></th>\n      <th>Instrument/default/Name</th>\n      <th>Analytic/default/ValuationDate</th>\n      <th>Sum(Holding/Cost/Pfolio)</th>\n    </tr>\n  </thead>\n  <tbody>\n    <tr>\n      <th>0</th>\n      <td>TD Example Instrument A</td>\n      <td>2034-12-24T00:00:00.0000000+00:00</td>\n      <td>11,250.0000</td>\n    </tr>\n    <tr>\n      <th>1</th>\n      <td>USD</td>\n      <td>2034-12-24T00:00:00.0000000+00:00</td>\n      <td>37,000.0000</td>\n    </tr>\n    <tr>\n      <th>2</th>\n      <td>TD Example Instrument C</td>\n      <td>2034-12-24T00:00:00.0000000+00:00</td>\n      <td>22,000.0000</td>\n    </tr>\n  </tbody>\n</table>\n</div>"
     },
     "execution_count": 340,
     "metadata": {},
     "output_type": "execute_result"
    }
   ],
   "source": [
    "# After second roll\n",
    "perform_valuation(CTVoMRecipe, portfolio_code,  datetime(2034,12,24,00, tzinfo=pytz.utc))"
   ],
   "metadata": {
    "collapsed": false,
    "pycharm": {
     "name": "#%%\n"
    }
   }
  },
  {
   "cell_type": "code",
   "execution_count": 341,
   "outputs": [
    {
     "data": {
      "text/plain": "   Instrument/default/Name     Analytic/default/ValuationDate  \\\n0  TD Example Instrument A  2035-01-01T00:00:00.0000000+00:00   \n1                      USD  2035-01-01T00:00:00.0000000+00:00   \n2  TD Example Instrument C  2035-01-01T00:00:00.0000000+00:00   \n\n   Sum(Holding/Cost/Pfolio)  \n0               11,250.0000  \n1               37,000.0000  \n2               22,000.0000  ",
      "text/html": "<div>\n<style scoped>\n    .dataframe tbody tr th:only-of-type {\n        vertical-align: middle;\n    }\n\n    .dataframe tbody tr th {\n        vertical-align: top;\n    }\n\n    .dataframe thead th {\n        text-align: right;\n    }\n</style>\n<table border=\"1\" class=\"dataframe\">\n  <thead>\n    <tr style=\"text-align: right;\">\n      <th></th>\n      <th>Instrument/default/Name</th>\n      <th>Analytic/default/ValuationDate</th>\n      <th>Sum(Holding/Cost/Pfolio)</th>\n    </tr>\n  </thead>\n  <tbody>\n    <tr>\n      <th>0</th>\n      <td>TD Example Instrument A</td>\n      <td>2035-01-01T00:00:00.0000000+00:00</td>\n      <td>11,250.0000</td>\n    </tr>\n    <tr>\n      <th>1</th>\n      <td>USD</td>\n      <td>2035-01-01T00:00:00.0000000+00:00</td>\n      <td>37,000.0000</td>\n    </tr>\n    <tr>\n      <th>2</th>\n      <td>TD Example Instrument C</td>\n      <td>2035-01-01T00:00:00.0000000+00:00</td>\n      <td>22,000.0000</td>\n    </tr>\n  </tbody>\n</table>\n</div>"
     },
     "execution_count": 341,
     "metadata": {},
     "output_type": "execute_result"
    }
   ],
   "source": [
    "# After maturity\n",
    "perform_valuation(CTVoMRecipe, portfolio_code,  datetime(2035,1,1,00, tzinfo=pytz.utc))"
   ],
   "metadata": {
    "collapsed": false,
    "pycharm": {
     "name": "#%%\n"
    }
   }
  },
  {
   "cell_type": "markdown",
   "source": [
    "### 5.3 Valuations using SS"
   ],
   "metadata": {
    "collapsed": false,
    "pycharm": {
     "name": "#%% md\n"
    }
   }
  },
  {
   "cell_type": "code",
   "execution_count": 342,
   "outputs": [
    {
     "data": {
      "text/plain": "   Instrument/default/Name     Analytic/default/ValuationDate  \\\n0  TD Example Instrument A  2034-12-01T00:00:00.0000000+00:00   \n1  TD Example Instrument B  2034-12-01T00:00:00.0000000+00:00   \n\n   Sum(Holding/Cost/Pfolio)  \n0               15,000.0000  \n1               22,000.0000  ",
      "text/html": "<div>\n<style scoped>\n    .dataframe tbody tr th:only-of-type {\n        vertical-align: middle;\n    }\n\n    .dataframe tbody tr th {\n        vertical-align: top;\n    }\n\n    .dataframe thead th {\n        text-align: right;\n    }\n</style>\n<table border=\"1\" class=\"dataframe\">\n  <thead>\n    <tr style=\"text-align: right;\">\n      <th></th>\n      <th>Instrument/default/Name</th>\n      <th>Analytic/default/ValuationDate</th>\n      <th>Sum(Holding/Cost/Pfolio)</th>\n    </tr>\n  </thead>\n  <tbody>\n    <tr>\n      <th>0</th>\n      <td>TD Example Instrument A</td>\n      <td>2034-12-01T00:00:00.0000000+00:00</td>\n      <td>15,000.0000</td>\n    </tr>\n    <tr>\n      <th>1</th>\n      <td>TD Example Instrument B</td>\n      <td>2034-12-01T00:00:00.0000000+00:00</td>\n      <td>22,000.0000</td>\n    </tr>\n  </tbody>\n</table>\n</div>"
     },
     "execution_count": 342,
     "metadata": {},
     "output_type": "execute_result"
    }
   ],
   "source": [
    "# Before first roll\n",
    "perform_valuation(SSRecipe, portfolio_code,  datetime(2034,12,1,00, tzinfo=pytz.utc))"
   ],
   "metadata": {
    "collapsed": false,
    "pycharm": {
     "name": "#%%\n"
    }
   }
  },
  {
   "cell_type": "code",
   "execution_count": 343,
   "outputs": [
    {
     "data": {
      "text/plain": "   Instrument/default/Name     Analytic/default/ValuationDate  \\\n0  TD Example Instrument A  2034-12-14T00:00:00.0000000+00:00   \n1  TD Example Instrument B  2034-12-14T00:00:00.0000000+00:00   \n2                      USD  2034-12-14T00:00:00.0000000+00:00   \n\n   Sum(Holding/Cost/Pfolio)  \n0               11,250.0000  \n1               22,000.0000  \n2               15,000.0000  ",
      "text/html": "<div>\n<style scoped>\n    .dataframe tbody tr th:only-of-type {\n        vertical-align: middle;\n    }\n\n    .dataframe tbody tr th {\n        vertical-align: top;\n    }\n\n    .dataframe thead th {\n        text-align: right;\n    }\n</style>\n<table border=\"1\" class=\"dataframe\">\n  <thead>\n    <tr style=\"text-align: right;\">\n      <th></th>\n      <th>Instrument/default/Name</th>\n      <th>Analytic/default/ValuationDate</th>\n      <th>Sum(Holding/Cost/Pfolio)</th>\n    </tr>\n  </thead>\n  <tbody>\n    <tr>\n      <th>0</th>\n      <td>TD Example Instrument A</td>\n      <td>2034-12-14T00:00:00.0000000+00:00</td>\n      <td>11,250.0000</td>\n    </tr>\n    <tr>\n      <th>1</th>\n      <td>TD Example Instrument B</td>\n      <td>2034-12-14T00:00:00.0000000+00:00</td>\n      <td>22,000.0000</td>\n    </tr>\n    <tr>\n      <th>2</th>\n      <td>USD</td>\n      <td>2034-12-14T00:00:00.0000000+00:00</td>\n      <td>15,000.0000</td>\n    </tr>\n  </tbody>\n</table>\n</div>"
     },
     "execution_count": 343,
     "metadata": {},
     "output_type": "execute_result"
    }
   ],
   "source": [
    "# After first roll\n",
    "perform_valuation(SSRecipe, portfolio_code,  datetime(2034,12,14,00, tzinfo=pytz.utc))"
   ],
   "metadata": {
    "collapsed": false,
    "pycharm": {
     "name": "#%%\n"
    }
   }
  },
  {
   "cell_type": "code",
   "execution_count": 344,
   "outputs": [
    {
     "data": {
      "text/plain": "   Instrument/default/Name     Analytic/default/ValuationDate  \\\n0  TD Example Instrument A  2034-12-24T00:00:00.0000000+00:00   \n1                      USD  2034-12-24T00:00:00.0000000+00:00   \n2  TD Example Instrument C  2034-12-24T00:00:00.0000000+00:00   \n\n   Sum(Holding/Cost/Pfolio)  \n0               11,250.0000  \n1               37,000.0000  \n2               22,000.0000  ",
      "text/html": "<div>\n<style scoped>\n    .dataframe tbody tr th:only-of-type {\n        vertical-align: middle;\n    }\n\n    .dataframe tbody tr th {\n        vertical-align: top;\n    }\n\n    .dataframe thead th {\n        text-align: right;\n    }\n</style>\n<table border=\"1\" class=\"dataframe\">\n  <thead>\n    <tr style=\"text-align: right;\">\n      <th></th>\n      <th>Instrument/default/Name</th>\n      <th>Analytic/default/ValuationDate</th>\n      <th>Sum(Holding/Cost/Pfolio)</th>\n    </tr>\n  </thead>\n  <tbody>\n    <tr>\n      <th>0</th>\n      <td>TD Example Instrument A</td>\n      <td>2034-12-24T00:00:00.0000000+00:00</td>\n      <td>11,250.0000</td>\n    </tr>\n    <tr>\n      <th>1</th>\n      <td>USD</td>\n      <td>2034-12-24T00:00:00.0000000+00:00</td>\n      <td>37,000.0000</td>\n    </tr>\n    <tr>\n      <th>2</th>\n      <td>TD Example Instrument C</td>\n      <td>2034-12-24T00:00:00.0000000+00:00</td>\n      <td>22,000.0000</td>\n    </tr>\n  </tbody>\n</table>\n</div>"
     },
     "execution_count": 344,
     "metadata": {},
     "output_type": "execute_result"
    }
   ],
   "source": [
    "# After second roll\n",
    "perform_valuation(SSRecipe, portfolio_code,  datetime(2034,12,24,00, tzinfo=pytz.utc))"
   ],
   "metadata": {
    "collapsed": false,
    "pycharm": {
     "name": "#%%\n"
    }
   }
  },
  {
   "cell_type": "code",
   "execution_count": 345,
   "outputs": [
    {
     "data": {
      "text/plain": "   Instrument/default/Name     Analytic/default/ValuationDate  \\\n0  TD Example Instrument A  2035-01-01T00:00:00.0000000+00:00   \n1                      USD  2035-01-01T00:00:00.0000000+00:00   \n2  TD Example Instrument C  2035-01-01T00:00:00.0000000+00:00   \n\n   Sum(Holding/Cost/Pfolio)  \n0               11,250.0000  \n1               37,000.0000  \n2               22,000.0000  ",
      "text/html": "<div>\n<style scoped>\n    .dataframe tbody tr th:only-of-type {\n        vertical-align: middle;\n    }\n\n    .dataframe tbody tr th {\n        vertical-align: top;\n    }\n\n    .dataframe thead th {\n        text-align: right;\n    }\n</style>\n<table border=\"1\" class=\"dataframe\">\n  <thead>\n    <tr style=\"text-align: right;\">\n      <th></th>\n      <th>Instrument/default/Name</th>\n      <th>Analytic/default/ValuationDate</th>\n      <th>Sum(Holding/Cost/Pfolio)</th>\n    </tr>\n  </thead>\n  <tbody>\n    <tr>\n      <th>0</th>\n      <td>TD Example Instrument A</td>\n      <td>2035-01-01T00:00:00.0000000+00:00</td>\n      <td>11,250.0000</td>\n    </tr>\n    <tr>\n      <th>1</th>\n      <td>USD</td>\n      <td>2035-01-01T00:00:00.0000000+00:00</td>\n      <td>37,000.0000</td>\n    </tr>\n    <tr>\n      <th>2</th>\n      <td>TD Example Instrument C</td>\n      <td>2035-01-01T00:00:00.0000000+00:00</td>\n      <td>22,000.0000</td>\n    </tr>\n  </tbody>\n</table>\n</div>"
     },
     "execution_count": 345,
     "metadata": {},
     "output_type": "execute_result"
    }
   ],
   "source": [
    "# After maturity\n",
    "perform_valuation(CTVoMRecipe, portfolio_code,  datetime(2035,1,1,00, tzinfo=pytz.utc))"
   ],
   "metadata": {
    "collapsed": false,
    "pycharm": {
     "name": "#%%\n"
    }
   }
  },
  {
   "cell_type": "markdown",
   "source": [
    "? How do I feed valuation price into sale price\n",
    "? Should valuation prices change with time\n",
    "? Does the second purchase after the roll need to have a later maturity"
   ],
   "metadata": {
    "collapsed": false,
    "pycharm": {
     "name": "#%% md\n"
    }
   }
  },
  {
   "cell_type": "code",
   "execution_count": 346,
   "outputs": [],
   "source": [
    "# Book a sell transaction against the term deposit\n",
    "preMaturityValuation = instA_valuation(rolling_date)\n",
    "\n",
    "sell_td = lm.TransactionRequest(\n",
    "    transaction_id=\"txn003\",\n",
    "    type=\"Sell\",\n",
    "    instrument_identifiers={\"Instrument/default/ClientInternal\": \"TD_EXAMPLE_A\"},\n",
    "    transaction_date=rolling_date.isoformat(),\n",
    "    settlement_date=(rolling_date + timedelta(days=30)).isoformat(),\n",
    "    units=75,\n",
    "    transaction_price=lm.TransactionPrice(price=0,type=\"Price\"),\n",
    "    total_consideration=lm.CurrencyAndAmount(amount=preMaturityValuation,currency=\"USD\"),\n",
    "    exchange_rate=1,\n",
    "    transaction_currency=\"USD\"\n",
    ")\n",
    "\n",
    "response = transaction_portfolios_api.upsert_transactions(scope=scope,\n",
    "                                                    code=portfolio_code,\n",
    "                                                    transaction_request=[sell_td])\n",
    "response"
   ],
   "metadata": {
    "collapsed": false,
    "pycharm": {
     "name": "#%%\n"
    }
   }
  },
  {
   "cell_type": "code",
   "source": [
    "# # Buy TD back with lower market value\n",
    "#\n",
    "# sell_td = lm.TransactionRequest(\n",
    "#     transaction_id=\"txn004\",\n",
    "#     type=\"Sell\",\n",
    "#     instrument_identifiers={\"Instrument/default/ClientInternal\": \"TD_EXAMPLE_A\"},\n",
    "#     transaction_date=rolling_date.isoformat(),\n",
    "#     settlement_date=(rolling_date + timedelta(days=30)).isoformat(),\n",
    "#     units=75,\n",
    "#     transaction_price=lm.TransactionPrice(price=0,type=\"Price\"),\n",
    "#     total_consideration=lm.CurrencyAndAmount(amount=preMaturityValuation,currency=\"USD\"),\n",
    "#     exchange_rate=1,\n",
    "#     transaction_currency=\"USD\"\n",
    "# )\n"
   ],
   "metadata": {
    "collapsed": false,
    "pycharm": {
     "name": "#%%\n"
    }
   },
   "execution_count": 347,
   "outputs": []
  }
 ],
 "metadata": {
  "kernelspec": {
   "display_name": "Python 3",
   "language": "python",
   "name": "python3"
  },
  "language_info": {
   "codemirror_mode": {
    "name": "ipython",
    "version": 2
   },
   "file_extension": ".py",
   "mimetype": "text/x-python",
   "name": "python",
   "nbconvert_exporter": "python",
   "pygments_lexer": "ipython2",
   "version": "2.7.6"
  }
 },
 "nbformat": 4,
 "nbformat_minor": 0
}