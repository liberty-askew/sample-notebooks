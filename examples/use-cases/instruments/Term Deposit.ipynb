{
 "cells": [
  {
   "cell_type": "code",
   "execution_count": 3,
   "metadata": {
    "collapsed": true,
    "pycharm": {
     "name": "#%%\n"
    }
   },
   "outputs": [
    {
     "data": {
      "text/plain": "<IPython.core.display.HTML object>",
      "text/html": "\n    <form action=\"javascript:code_toggle()\"><input type=\"submit\" id=\"toggleButton\" value=\"Hide docstring\"></form>\n    \n         <script>\n         function code_toggle() {\n             if ($('div.cell.code_cell.rendered.selected div.input').css('display')!='none'){\n                 $('div.cell.code_cell.rendered.selected div.input').hide();\n             } else {\n                 $('div.cell.code_cell.rendered.selected div.input').show();\n             }\n         }\n         </script>\n\n     "
     },
     "metadata": {},
     "output_type": "display_data"
    }
   ],
   "source": [
    "# ? Could look at upserting cash flows and use them for the TD\n",
    "#\n",
    "from IPython.core.display_functions import display\n",
    "from lusidtools.jupyter_tools import toggle_code\n",
    "\n",
    "\"\"\"Term Deposit Valuation\n",
    "\n",
    "Demonstrates pricing of a Term Deposit Investment.\n",
    "\n",
    "Attributes\n",
    "----------\n",
    "instruments\n",
    "valuation\n",
    "lifecycle events\n",
    "market data store\n",
    "results store\n",
    "quotes\n",
    "\"\"\"\n",
    "\n",
    "toggle_code(\"Hide docstring\")"
   ]
  },
  {
   "cell_type": "markdown",
   "source": [
    "# Valuing and Rolling Term Deposits\n",
    "In this notebook, we demonstrate how Term Deposits are handled in LUSID, as well as how to roll term deposits and perform valuations.\n",
    "\n",
    "# Table of contents"
   ],
   "metadata": {
    "collapsed": false,
    "pycharm": {
     "name": "#%% md\n"
    }
   }
  },
  {
   "cell_type": "code",
   "execution_count": 4,
   "outputs": [
    {
     "name": "stdout",
     "output_type": "stream",
     "text": [
      "LUSID Environment Initialised\n",
      "LUSID SDK Version:  0.6.11167.0\n"
     ]
    }
   ],
   "source": [
    "# Import LUSID libraries\n",
    "import lusid as lu\n",
    "import lusid.models as lm\n",
    "from lusidtools.lpt.lpt import to_date\n",
    "\n",
    "from lusidtools.pandas_utils.lusid_pandas import lusid_response_to_data_frame\n",
    "from lusidjam.refreshing_token import RefreshingToken\n",
    "import lusid.models as models\n",
    "\n",
    "# Import Libraries\n",
    "from datetime import datetime, timedelta\n",
    "import pytz\n",
    "import pandas as pd\n",
    "import json\n",
    "import os\n",
    "\n",
    "# Settings and utility functions to display objects and responses more clearly.\n",
    "pd.set_option('float_format', '{:,.4f}'.format)\n",
    "\n",
    "# Set the secrets path\n",
    "secrets_path = os.getenv(\"FBN_SECRETS_PATH\")\n",
    "\n",
    "if secrets_path is None:\n",
    "    secrets_path = os.path.join(os.path.dirname(os.getcwd()), \"secrets.json\")\n",
    "\n",
    "api_factory = lu.utilities.ApiClientFactory(\n",
    "        token=RefreshingToken(),\n",
    "        api_secrets_filename = secrets_path,\n",
    "        app_name=\"LusidJupyterNotebook\")\n",
    "\n",
    "print ('LUSID Environment Initialised')\n",
    "print ('LUSID SDK Version: ', api_factory.build(lu.api.ApplicationMetadataApi).get_lusid_versions().build_version)"
   ],
   "metadata": {
    "collapsed": false,
    "pycharm": {
     "name": "#%%\n"
    }
   }
  },
  {
   "cell_type": "code",
   "execution_count": 5,
   "outputs": [],
   "source": [
    "# Initiate the LUSID APIs required for the notebook\n",
    "instruments_api = api_factory.build(lu.api.InstrumentsApi)\n",
    "transaction_portfolios_api = api_factory.build(lu.api.TransactionPortfoliosApi)\n",
    "configuration_recipe_api = api_factory.build(lu.api.ConfigurationRecipeApi)\n",
    "aggregation_api = api_factory.build(lu.AggregationApi)\n",
    "quotes_api = api_factory.build(lu.QuotesApi)"
   ],
   "metadata": {
    "collapsed": false,
    "pycharm": {
     "name": "#%%\n"
    }
   }
  },
  {
   "cell_type": "code",
   "execution_count": 6,
   "outputs": [],
   "source": [
    "# Define scopes\n",
    "scope = \"ibor\"\n",
    "portfolio_code = \"TermDepositExamplePortfolio\""
   ],
   "metadata": {
    "collapsed": false,
    "pycharm": {
     "name": "#%%\n"
    }
   }
  },
  {
   "cell_type": "markdown",
   "source": [
    "# 1. Create Portfolio\n",
    "We must first create portfolio to keep the term depoists in."
   ],
   "metadata": {
    "collapsed": false,
    "pycharm": {
     "name": "#%% md\n"
    }
   }
  },
  {
   "cell_type": "code",
   "execution_count": 7,
   "outputs": [
    {
     "name": "stdout",
     "output_type": "stream",
     "text": [
      "Could not create a portfolio with id 'TermDepositExamplePortfolio' because it already exists in scope 'ibor'.\n"
     ]
    }
   ],
   "source": [
    "try:\n",
    "    transaction_portfolios_api.create_portfolio(\n",
    "        scope=scope,\n",
    "        create_transaction_portfolio_request=lm.CreateTransactionPortfolioRequest(\n",
    "            display_name=portfolio_code,\n",
    "            code=portfolio_code,\n",
    "            base_currency=\"USD\",\n",
    "            created=\"2010-01-01\",\n",
    "            sub_holding_keys=[],\n",
    "        ),\n",
    "    )\n",
    "\n",
    "except lu.ApiException as e:\n",
    "    print(json.loads(e.body)[\"title\"])"
   ],
   "metadata": {
    "collapsed": false,
    "pycharm": {
     "name": "#%%\n"
    }
   }
  },
  {
   "cell_type": "markdown",
   "source": [
    "# 2. Create Term Deposit Instruments\n",
    "Next we must create an instrument to represent the Term Deposit. In LUSID the rate of the term deposit must be defined at creation and cannot be adjusted."
   ],
   "metadata": {
    "collapsed": false,
    "pycharm": {
     "name": "#%% md\n"
    }
   }
  },
  {
   "cell_type": "code",
   "execution_count": 8,
   "outputs": [],
   "source": [
    "# Not sure what this is?\n",
    "flow_conventions = lm.FlowConventions(\n",
    "    currency=\"USD\",\n",
    "    payment_frequency=\"6M\",\n",
    "    roll_convention=\"F\",\n",
    "    day_count_convention=\"Actual360\",\n",
    "    payment_calendars=[],\n",
    "    reset_calendars=[],\n",
    "    settle_days=0,\n",
    "    reset_days=0,\n",
    ")"
   ],
   "metadata": {
    "collapsed": false,
    "pycharm": {
     "name": "#%%\n"
    }
   }
  },
  {
   "cell_type": "code",
   "execution_count": 9,
   "outputs": [],
   "source": [
    "# Define key dates for the term deposits in this example\n",
    "start_date = datetime(2020, 3, 18, 00, tzinfo=pytz.utc)\n",
    "maturity_date = datetime(2020, 9, 18, 00, tzinfo=pytz.utc)"
   ],
   "metadata": {
    "collapsed": false,
    "pycharm": {
     "name": "#%%\n"
    }
   }
  },
  {
   "cell_type": "code",
   "execution_count": 15,
   "outputs": [],
   "source": [
    "# Helper method to create term deposit instrument\n",
    "def create_td_instrument(\n",
    "    name,\n",
    "    identifier,\n",
    "    start_date,\n",
    "    maturity_date,\n",
    "    contract_size,\n",
    "    flow_convention,\n",
    "    rate,\n",
    "    dom_ccy\n",
    "):\n",
    "    td_instrument = lm.TermDeposit(\n",
    "        start_date=start_date,\n",
    "        maturity_date=maturity_date,\n",
    "        contract_size=contract_size,\n",
    "        flow_convention=flow_convention,\n",
    "        rate=rate,\n",
    "        dom_ccy=dom_ccy,\n",
    "        instrument_type=\"TermDeposit\",\n",
    "        local_vars_configuration=None)\n",
    "\n",
    "    td_definition = lm.InstrumentDefinition(\n",
    "        name=name,\n",
    "        identifiers={\"ClientInternal\": lm.InstrumentIdValue(identifier)},\n",
    "        definition=td_instrument\n",
    "    )\n",
    "\n",
    "    upsert_request = {identifier: td_definition}\n",
    "    upsert_response = instruments_api.upsert_instruments(request_body=upsert_request)\n",
    "    td_luid = upsert_response.values[identifier]\n",
    "    print(f\"Created instrument with LUID:{td_luid.lusid_instrument_id} and ClientInternal:{identifier}\")\n",
    "    return td_luid.lusid_instrument_id"
   ],
   "metadata": {
    "collapsed": false,
    "pycharm": {
     "name": "#%%\n"
    }
   }
  },
  {
   "cell_type": "code",
   "execution_count": 16,
   "outputs": [
    {
     "name": "stdout",
     "output_type": "stream",
     "text": [
      "Created instrument with LUID:LUID_00003DET and ClientInternal:TD_Inst_A\n"
     ]
    },
    {
     "data": {
      "text/plain": "'LUID_00003DET'"
     },
     "execution_count": 16,
     "metadata": {},
     "output_type": "execute_result"
    }
   ],
   "source": [
    "td_luid_a = create_td_instrument(\n",
    "    \"TD Example Inst A\",\n",
    "    \"TD_Inst_A\",\n",
    "    start_date,\n",
    "    maturity_date,\n",
    "    1000,\n",
    "    flow_conventions,\n",
    "    0.03,\n",
    "    \"USD\"\n",
    ")\n",
    "\n",
    "td_luid_a"
   ],
   "metadata": {
    "collapsed": false,
    "pycharm": {
     "name": "#%%\n"
    }
   }
  },
  {
   "cell_type": "markdown",
   "source": [
    "# 3. Add Transactions\n",
    "Now we will upload the initial StockIn transactions, adding the Term Deposit instruments to the portfolio"
   ],
   "metadata": {
    "collapsed": false,
    "pycharm": {
     "name": "#%% md\n"
    }
   }
  },
  {
   "cell_type": "code",
   "execution_count": 17,
   "outputs": [
    {
     "data": {
      "text/plain": "   txn_id     type  client_id            trade_date       settlement_date  \\\n0  txn001  StockIn  TD_Inst_A  2020-03-18T00:00:00Z  2020-03-20T00:00:00Z   \n\n    quantity  price total_consideration currency  \n0  1,000,000      1        1,000,000.00      USD  ",
      "text/html": "<div>\n<style scoped>\n    .dataframe tbody tr th:only-of-type {\n        vertical-align: middle;\n    }\n\n    .dataframe tbody tr th {\n        vertical-align: top;\n    }\n\n    .dataframe thead th {\n        text-align: right;\n    }\n</style>\n<table border=\"1\" class=\"dataframe\">\n  <thead>\n    <tr style=\"text-align: right;\">\n      <th></th>\n      <th>txn_id</th>\n      <th>type</th>\n      <th>client_id</th>\n      <th>trade_date</th>\n      <th>settlement_date</th>\n      <th>quantity</th>\n      <th>price</th>\n      <th>total_consideration</th>\n      <th>currency</th>\n    </tr>\n  </thead>\n  <tbody>\n    <tr>\n      <th>0</th>\n      <td>txn001</td>\n      <td>StockIn</td>\n      <td>TD_Inst_A</td>\n      <td>2020-03-18T00:00:00Z</td>\n      <td>2020-03-20T00:00:00Z</td>\n      <td>1,000,000</td>\n      <td>1</td>\n      <td>1,000,000.00</td>\n      <td>USD</td>\n    </tr>\n  </tbody>\n</table>\n</div>"
     },
     "execution_count": 17,
     "metadata": {},
     "output_type": "execute_result"
    }
   ],
   "source": [
    "# Load transaction from csv\n",
    "transactions_df = pd.read_csv(\"data/term_deposit_transactions.csv\")\n",
    "transactions_df.head()"
   ],
   "metadata": {
    "collapsed": false,
    "pycharm": {
     "name": "#%%\n"
    }
   }
  },
  {
   "cell_type": "code",
   "execution_count": 18,
   "outputs": [
    {
     "name": "stdout",
     "output_type": "stream",
     "text": [
      "Transactions succesfully updated at time: 2023-04-21 12:00:19.987647+00:00\n"
     ]
    }
   ],
   "source": [
    "# Load transactions to LUSID}\n",
    "transaction_request = [\n",
    "    lm.TransactionRequest(\n",
    "        transaction_id=txn[\"txn_id\"],\n",
    "        type=txn[\"type\"],\n",
    "        instrument_identifiers={\n",
    "            \"Instrument/default/ClientInternal\": txn[\"client_id\"]\n",
    "        },\n",
    "        transaction_date=to_date(txn[\"trade_date\"]),\n",
    "        settlement_date=to_date(txn[\"settlement_date\"]).isoformat(),\n",
    "        units=txn[\"quantity\"],\n",
    "        transaction_price=lm.TransactionPrice(price=txn[\"price\"], type=\"Price\"),\n",
    "        total_consideration=lm.CurrencyAndAmount(\n",
    "            amount=txn[\"total_consideration\"], currency=txn[\"currency\"]\n",
    "        ),\n",
    "    )\n",
    "    for index, txn in transactions_df.iterrows()\n",
    "]\n",
    "\n",
    "\n",
    "response = transaction_portfolios_api.upsert_transactions(\n",
    "    scope=scope, code=portfolio_code, transaction_request=transaction_request\n",
    ")\n",
    "\n",
    "print(f\"Transactions succesfully updated at time: {response.version.as_at_date}\")"
   ],
   "metadata": {
    "collapsed": false,
    "pycharm": {
     "name": "#%%\n"
    }
   }
  },
  {
   "cell_type": "markdown",
   "source": [],
   "metadata": {
    "collapsed": false,
    "pycharm": {
     "name": "#%% md\n"
    }
   }
  },
  {
   "cell_type": "code",
   "execution_count": 19,
   "outputs": [],
   "source": [
    "# Helper method to view the transaction in LUSID up to a specific date\n",
    "def get_transactions_todate(to_transaction_date):\n",
    "    get_transactions_reponse = transaction_portfolios_api.get_transactions(\n",
    "        scope = scope,\n",
    "        code = portfolio_code,\n",
    "        to_transaction_date=to_transaction_date\n",
    "    )\n",
    "    df = lusid_response_to_data_frame(get_transactions_reponse)\n",
    "    return df[['transaction_id','type','instrument_identifiers.Instrument/default/ClientInternal','instrument_uid','transaction_date','settlement_date','transaction_price.price','total_consideration.amount','units']]"
   ],
   "metadata": {
    "collapsed": false,
    "pycharm": {
     "name": "#%%\n"
    }
   }
  },
  {
   "cell_type": "markdown",
   "source": [
    "# 4. Get Holdings"
   ],
   "metadata": {
    "collapsed": false
   }
  },
  {
   "cell_type": "code",
   "execution_count": 20,
   "outputs": [],
   "source": [
    "# Helper method to view holdings in LUSID\n",
    "def get_holdings(date):\n",
    "    resp = transaction_portfolios_api.get_holdings(scope=scope,\n",
    "                                         code=portfolio_code,\n",
    "                                         property_keys=[\"Instrument/default/Name\"],\n",
    "                                        effective_at=date)\n",
    "    df = lusid_response_to_data_frame(resp)\n",
    "    return df[[\"instrument_scope\",\"instrument_uid\",\"properties.Instrument/default/Name.value.label_value\",\"units\",\"cost.amount\",\"holding_type_name\"]]"
   ],
   "metadata": {
    "collapsed": false,
    "pycharm": {
     "name": "#%%\n"
    }
   }
  },
  {
   "cell_type": "code",
   "execution_count": 21,
   "outputs": [
    {
     "data": {
      "text/plain": "  instrument_scope instrument_uid  \\\n0          default  LUID_00003DET   \n\n  properties.Instrument/default/Name.value.label_value          units  \\\n0                                  TD Example Inst A   1,000,000.0000   \n\n     cost.amount holding_type_name  \n0 1,000,000.0000          Position  ",
      "text/html": "<div>\n<style scoped>\n    .dataframe tbody tr th:only-of-type {\n        vertical-align: middle;\n    }\n\n    .dataframe tbody tr th {\n        vertical-align: top;\n    }\n\n    .dataframe thead th {\n        text-align: right;\n    }\n</style>\n<table border=\"1\" class=\"dataframe\">\n  <thead>\n    <tr style=\"text-align: right;\">\n      <th></th>\n      <th>instrument_scope</th>\n      <th>instrument_uid</th>\n      <th>properties.Instrument/default/Name.value.label_value</th>\n      <th>units</th>\n      <th>cost.amount</th>\n      <th>holding_type_name</th>\n    </tr>\n  </thead>\n  <tbody>\n    <tr>\n      <th>0</th>\n      <td>default</td>\n      <td>LUID_00003DET</td>\n      <td>TD Example Inst A</td>\n      <td>1,000,000.0000</td>\n      <td>1,000,000.0000</td>\n      <td>Position</td>\n    </tr>\n  </tbody>\n</table>\n</div>"
     },
     "execution_count": 21,
     "metadata": {},
     "output_type": "execute_result"
    }
   ],
   "source": [
    "get_holdings(start_date)"
   ],
   "metadata": {
    "collapsed": false,
    "pycharm": {
     "name": "#%%\n"
    }
   }
  },
  {
   "cell_type": "markdown",
   "source": [
    "# 5. Running a Valuation\n",
    "In this section we will setup and run a valuation on our portfolio\n",
    "\n",
    "## 5.1 Setup recipe\n",
    "To run a valuation in LUSID we must first define a recipe.\n",
    "The helper method below defines a recipe for a Term Deposit instrument by passing in `instrument_type=\"TermDeposit\"` to the `VendorModelRule`."
   ],
   "metadata": {
    "collapsed": false,
    "pycharm": {
     "name": "#%% md\n"
    }
   }
  },
  {
   "cell_type": "code",
   "execution_count": 22,
   "outputs": [],
   "source": [
    "# Define a method for creating the recipe\n",
    "def create_recipe(recipe_code, scope, model):\n",
    "    # Populate recipe parameters\n",
    "    recipe = lm.ConfigurationRecipe(\n",
    "        scope=scope,\n",
    "        code=recipe_code,\n",
    "        market=lm.MarketContext(\n",
    "            market_rules=[\n",
    "                lm.MarketDataKeyRule(\n",
    "                    key=\"Equity.ClientInternal.*\",\n",
    "                    supplier=\"Lusid\",\n",
    "                    data_scope=scope,\n",
    "                    quote_type=\"Price\",\n",
    "                    field=\"mid\",\n",
    "                    quote_interval=\"5D.0D\"\n",
    "                ),\n",
    "                lm.MarketDataKeyRule(\n",
    "                    key=\"FxForwards.*\",\n",
    "                    supplier=\"Lusid\",\n",
    "                    data_scope=scope,\n",
    "                    quote_type=\"Rate\",\n",
    "                    field=\"mid\",\n",
    "                    quote_interval=\"1Y.0D\"\n",
    "                )\n",
    "            ],\n",
    "            options=lm.MarketOptions(\n",
    "                attempt_to_infer_missing_fx=True,\n",
    "                default_scope=scope\n",
    "            )\n",
    "        ),\n",
    "        # Set the valuation model - curve with no discounting\n",
    "        pricing=lm.PricingContext(\n",
    "            model_rules=[\n",
    "                lm.VendorModelRule(\n",
    "                    supplier=\"Lusid\",\n",
    "                    model_name=model,\n",
    "                    instrument_type=\"TermDeposit\",\n",
    "                    parameters=\"{}\",\n",
    "                )\n",
    "            ],\n",
    "            options=lm.PricingOptions(\n",
    "                produce_separate_result_for_linear_otc_legs=False\n",
    "            )\n",
    "        ),\n",
    "    )\n",
    "\n",
    "    response = configuration_recipe_api.upsert_configuration_recipe(\n",
    "                upsert_recipe_request=lm.UpsertRecipeRequest(\n",
    "                    configuration_recipe=recipe\n",
    "                )\n",
    "            )\n",
    "\n",
    "    return response"
   ],
   "metadata": {
    "collapsed": false,
    "pycharm": {
     "name": "#%%\n"
    }
   }
  },
  {
   "cell_type": "markdown",
   "source": [
    "LUSID supports SimpleStatic, Discounting and ConstantTimeValueOfMoney pricing models for term deposits. In this notebook we will look at SimpleStatic and ConstantTimeValueOfMoney models."
   ],
   "metadata": {
    "collapsed": false,
    "pycharm": {
     "name": "#%% md\n"
    }
   }
  },
  {
   "cell_type": "code",
   "execution_count": 23,
   "outputs": [
    {
     "data": {
      "text/plain": "{'href': None,\n 'links': [{'description': 'A link to the LUSID Insights website showing all '\n                           'logs related to this request',\n            'href': 'http://liberty.lusid.com/app/insights/logs/0HMQ2A6F8P2DJ:0000017B',\n            'method': 'GET',\n            'relation': 'RequestLogs'}],\n 'value': datetime.datetime(2023, 4, 21, 19, 19, 21, 487247, tzinfo=tzutc())}"
     },
     "execution_count": 23,
     "metadata": {},
     "output_type": "execute_result"
    }
   ],
   "source": [
    "# Define recipe names\n",
    "CTVoMRecipe = \"TermDepositRecipeCTVoM\"\n",
    "SSRecipe = \"TermDepositRecipeSS\"\n",
    "\n",
    "# Create recipes in LUSID\n",
    "create_recipe(CTVoMRecipe, scope, \"ConstantTimeValueOfMoney\")\n",
    "create_recipe(SSRecipe, scope, \"SimpleStatic\")"
   ],
   "metadata": {
    "collapsed": false,
    "pycharm": {
     "name": "#%%\n"
    }
   }
  },
  {
   "cell_type": "code",
   "execution_count": 24,
   "outputs": [],
   "source": [
    "# Helper method runs a valuation on the portfolio for a given date and recipe\n",
    "def perform_valuation(recipe, date):\n",
    "    # Create valuation request\n",
    "    valuation_request = lm.ValuationRequest(\n",
    "        # Choose recipe to use\n",
    "        recipe_id = lm.ResourceId(scope = scope, code = recipe),\n",
    "        group_by = ['Instrument/default/LusidInstrumentId'],\n",
    "        metrics = [\n",
    "        {\"key\": \"Instrument/default/LusidInstrumentId\", \"op\": \"Value\"},\n",
    "        {\"key\": \"Instrument/default/Name\", \"op\": \"Value\"},              # Reports the friendly name of the underlying instrument\n",
    "        {\"key\": \"Analytic/default/ValuationDate\", \"op\": \"Value\"},       # Confirms the valuation date\n",
    "        {\"key\": \"Valuation/PV\", \"op\": \"Sum\"}],                          # Calculates cost in GBP (the portfolio currency)\n",
    "        # Identify portfolio to value\n",
    "        portfolio_entity_ids = [lm.PortfolioEntityId(scope = scope, code = portfolio_code)],\n",
    "        # Make date of valuation conditional on effective at date passed into function\n",
    "        valuation_schedule = lm.ValuationSchedule(effective_at=date),\n",
    "    )\n",
    "\n",
    "    # Get portfolio valuation\n",
    "    val_data = aggregation_api.get_valuation(valuation_request = valuation_request).data\n",
    "\n",
    "    # Turn valuation response into pandas dataframe\n",
    "    vals_df = pd.DataFrame(val_data)\n",
    "    try:\n",
    "        return vals_df.drop('Aggregation Errors', axis=1)\n",
    "    except:\n",
    "        return vals_df"
   ],
   "metadata": {
    "collapsed": false,
    "pycharm": {
     "name": "#%%\n"
    }
   }
  },
  {
   "cell_type": "code",
   "execution_count": 25,
   "outputs": [
    {
     "name": "stdout",
     "output_type": "stream",
     "text": [
      "{'failed': {},\n",
      " 'href': None,\n",
      " 'links': [{'description': 'A link to the LUSID Insights website showing all '\n",
      "                           'logs related to this request',\n",
      "            'href': 'http://liberty.lusid.com/app/insights/logs/0HMQ2HO083LKH:000000B7',\n",
      "            'method': 'GET',\n",
      "            'relation': 'RequestLogs'}],\n",
      " 'values': {'quote_request': {'as_at': datetime.datetime(2023, 4, 21, 19, 19, 21, 769048, tzinfo=tzutc()),\n",
      "                              'cut_label': '',\n",
      "                              'lineage': '',\n",
      "                              'metric_value': {'unit': 'USD', 'value': 1.05},\n",
      "                              'quote_id': {'effective_at': '2010-01-01T18:00:00.0000000+00:00',\n",
      "                                           'quote_series_id': {'field': 'mid',\n",
      "                                                               'instrument_id': 'LUID_00003DET',\n",
      "                                                               'instrument_id_type': 'LusidInstrumentId',\n",
      "                                                               'price_source': None,\n",
      "                                                               'provider': 'Lusid',\n",
      "                                                               'quote_type': 'Price'}},\n",
      "                              'scale_factor': None,\n",
      "                              'uploaded_by': '00ucqij3hwtuEErnf2p7'}}}\n"
     ]
    }
   ],
   "source": [
    "quote_request = {\n",
    "   \"quote_request\" : lm.UpsertQuoteRequest(\n",
    "        quote_id=lm.QuoteId(\n",
    "            quote_series_id=lm.QuoteSeriesId(\n",
    "                provider=\"Lusid\",\n",
    "                instrument_id=td_luid_a,\n",
    "                instrument_id_type=\"LusidInstrumentId\",\n",
    "                quote_type=\"Price\",\n",
    "                field=\"mid\",\n",
    "            ),\n",
    "            effective_at=\"2010-01-01T18:00:00Z\",\n",
    "        ),\n",
    "        metric_value=lm.MetricValue(value=0.05, unit=\"USD\"),\n",
    "    )}\n",
    "\n",
    "\n",
    "# Upsert the quotes into LUSID\n",
    "response = quotes_api.upsert_quotes(scope=scope, request_body=quote_request)\n",
    "print(response)"
   ],
   "metadata": {
    "collapsed": false,
    "pycharm": {
     "name": "#%%\n"
    }
   }
  },
  {
   "cell_type": "code",
   "execution_count": 26,
   "outputs": [
    {
     "data": {
      "text/plain": "  Instrument/default/LusidInstrumentId Instrument/default/Name  \\\n0                        LUID_00003DET       TD Example Inst A   \n\n      Analytic/default/ValuationDate  Sum(Valuation/PV)  \n0  2020-03-18T00:00:00.0000000+00:00 1,015,333,333.3333  ",
      "text/html": "<div>\n<style scoped>\n    .dataframe tbody tr th:only-of-type {\n        vertical-align: middle;\n    }\n\n    .dataframe tbody tr th {\n        vertical-align: top;\n    }\n\n    .dataframe thead th {\n        text-align: right;\n    }\n</style>\n<table border=\"1\" class=\"dataframe\">\n  <thead>\n    <tr style=\"text-align: right;\">\n      <th></th>\n      <th>Instrument/default/LusidInstrumentId</th>\n      <th>Instrument/default/Name</th>\n      <th>Analytic/default/ValuationDate</th>\n      <th>Sum(Valuation/PV)</th>\n    </tr>\n  </thead>\n  <tbody>\n    <tr>\n      <th>0</th>\n      <td>LUID_00003DET</td>\n      <td>TD Example Inst A</td>\n      <td>2020-03-18T00:00:00.0000000+00:00</td>\n      <td>1,015,333,333.3333</td>\n    </tr>\n  </tbody>\n</table>\n</div>"
     },
     "execution_count": 26,
     "metadata": {},
     "output_type": "execute_result"
    }
   ],
   "source": [
    "perform_valuation(CTVoMRecipe,start_date)"
   ],
   "metadata": {
    "collapsed": false,
    "pycharm": {
     "name": "#%%\n"
    }
   }
  },
  {
   "cell_type": "code",
   "execution_count": 27,
   "outputs": [],
   "source": [
    "# ?? This doesn't work\n",
    "# perform_valuation(SSRecipe,start_date)"
   ],
   "metadata": {
    "collapsed": false,
    "pycharm": {
     "name": "#%%\n"
    }
   }
  },
  {
   "cell_type": "code",
   "execution_count": 28,
   "outputs": [],
   "source": [
    "# Helper method - used in the scenarios below - gives a valuation of a specific instrument at a given date\n",
    "def get_instr_valuation(recipe, date, luid):\n",
    "    df = pd.DataFrame(perform_valuation(recipe, date))\n",
    "    instr_val = df[df[\"Instrument/default/LusidInstrumentId\"]==luid]\n",
    "    return instr_val.iloc[0][3]\n"
   ],
   "metadata": {
    "collapsed": false,
    "pycharm": {
     "name": "#%%\n"
    }
   }
  },
  {
   "cell_type": "markdown",
   "source": [
    "## 6. Rolling a Term Deposit\n",
    "For these scenarios we will always use the Constant Time Value of Money pricing model.\n",
    "In LUSID we handle rolling a term deposit by selling the term deposit before maturity and buying it back again.\n",
    "This section will show 2 example scenarios:\n",
    "1. Rolling with a decrease to principal market value\n",
    "2. Rolling with an increase to interest"
   ],
   "metadata": {
    "collapsed": false,
    "pycharm": {
     "name": "#%% md\n"
    }
   }
  },
  {
   "cell_type": "markdown",
   "source": [
    "\n",
    "### 6.1 Rolling with a decrease to principal market value\n",
    "\n",
    "#### 6.1.1 Sell Term Deposit just before maturity\n",
    "To roll the deposit we first sell the deposit before maturity. We use the instrument valuation calculated on the sale transaction date for the sale price."
   ],
   "metadata": {
    "collapsed": false,
    "pycharm": {
     "name": "#%% md\n"
    }
   }
  },
  {
   "cell_type": "code",
   "execution_count": 29,
   "outputs": [],
   "source": [
    "# For rolling term deposits we will define new start dates and maturity dates.\n",
    "roll1_start_date = maturity_date\n",
    "roll1_maturity_date = datetime(2021,3,19,00,tzinfo=pytz.utc)\n",
    "\n",
    "pre_maturity_sale_date = maturity_date - timedelta(2)"
   ],
   "metadata": {
    "collapsed": false,
    "pycharm": {
     "name": "#%%\n"
    }
   }
  },
  {
   "cell_type": "code",
   "execution_count": 40,
   "outputs": [
    {
     "name": "stdout",
     "output_type": "stream",
     "text": [
      "                                   transaction_id      type  \\\n",
      "0  txn001-LUID_00003DET-20200918-Cash-USD-Receive  CashFlow   \n",
      "\n",
      "  instrument_identifiers.Instrument/default/LusidInstrumentId  \\\n",
      "0                                      LUID_00003DET            \n",
      "\n",
      "  instrument_scope instrument_uid          transaction_date  \\\n",
      "0          default  LUID_00003DET 2020-09-18 00:00:00+00:00   \n",
      "\n",
      "            settlement_date              units  transaction_price.price  \\\n",
      "0 2020-09-18 00:00:00+00:00 1,015,333,333.3333                   1.0000   \n",
      "\n",
      "  transaction_price.type  ...  total_consideration.currency exchange_rate  \\\n",
      "0                  Price  ...                           USD        1.0000   \n",
      "\n",
      "   transaction_currency properties.Transaction/default/ParentLuid.key  \\\n",
      "0                   USD                Transaction/default/ParentLuid   \n",
      "\n",
      "  properties.Transaction/default/ParentLuid.value.label_value  \\\n",
      "0                                      LUID_00003DET            \n",
      "\n",
      "  properties.Transaction/default/InstrumentEventId.key  \\\n",
      "0              Transaction/default/InstrumentEventId     \n",
      "\n",
      "  properties.Transaction/default/InstrumentEventId.value.label_value   source  \\\n",
      "0         LUID_00003DET-20200918-Cash-USD-Receive-v1                  default   \n",
      "\n",
      "             entry_date_time transaction_status  \n",
      "0  0001-01-01 00:00:00+00:00             Active  \n",
      "\n",
      "[1 rows x 21 columns]\n"
     ]
    }
   ],
   "source": [
    "def get_cashflow(start_date, maturity_date, recipe):\n",
    "    resp = transaction_portfolios_api.get_upsertable_portfolio_cash_flows(\n",
    "        scope=scope,\n",
    "        code=portfolio_code,\n",
    "        effective_at=maturity_date- timedelta(days=1),\n",
    "        window_start=start_date,\n",
    "        window_end=maturity_date + timedelta(days=2),\n",
    "        recipe_id_scope=scope,\n",
    "        recipe_id_code=recipe\n",
    "    )\n",
    "\n",
    "    print(lusid_response_to_data_frame(resp))\n",
    "    # [['transaction_id','type','instrument_identifiers.Instrument/default/LusidInstrumentId','units','total_consideration.amount']])\n",
    "\n",
    "    return resp.values\n",
    "\n",
    "txn = get_cashflow(start_date, maturity_date, CTVoMRecipe)"
   ],
   "metadata": {
    "collapsed": false,
    "pycharm": {
     "name": "#%%\n"
    }
   }
  },
  {
   "cell_type": "code",
   "execution_count": 41,
   "outputs": [
    {
     "data": {
      "text/plain": "{'href': 'https://liberty.lusid.com/api/api/transactionportfolios/ibor/TermDepositExamplePortfolio/transactions?asAt=2023-04-21T19%3A33%3A17.2847990%2B00%3A00',\n 'links': [{'description': None,\n            'href': 'https://liberty.lusid.com/api/api/portfolios/ibor/TermDepositExamplePortfolio?effectiveAt=2020-09-18T00%3A00%3A00.0000000%2B00%3A00&asAt=2023-04-21T19%3A33%3A17.2847990%2B00%3A00',\n            'method': 'GET',\n            'relation': 'Root'},\n           {'description': None,\n            'href': 'https://liberty.lusid.com/api/api/schemas/entities/UpsertPortfolioTransactionsResponse',\n            'method': 'GET',\n            'relation': 'EntitySchema'},\n           {'description': 'A link to the LUSID Insights website showing all '\n                           'logs related to this request',\n            'href': 'http://liberty.lusid.com/app/insights/logs/0HMQ2A5QDS178:0000006E',\n            'method': 'GET',\n            'relation': 'RequestLogs'}],\n 'metadata': {},\n 'version': {'as_at_date': datetime.datetime(2023, 4, 21, 19, 33, 17, 284799, tzinfo=tzutc()),\n             'effective_from': datetime.datetime(2020, 9, 18, 0, 0, tzinfo=tzutc())}}"
     },
     "execution_count": 41,
     "metadata": {},
     "output_type": "execute_result"
    }
   ],
   "source": [
    "transaction_portfolios_api.upsert_transactions(\n",
    "    scope=scope, code=portfolio_code, transaction_request=txn\n",
    ")"
   ],
   "metadata": {
    "collapsed": false,
    "pycharm": {
     "name": "#%%\n"
    }
   }
  },
  {
   "cell_type": "raw",
   "source": [
    "We can see the sell transaction in our portfolio below"
   ],
   "metadata": {
    "collapsed": false,
    "pycharm": {
     "name": "#%% raw\n"
    }
   }
  },
  {
   "cell_type": "code",
   "execution_count": 44,
   "outputs": [
    {
     "data": {
      "text/plain": "                                   transaction_id      type  \\\n0                                          txn001   StockIn   \n1  txn001-LUID_00003DET-20200918-Cash-USD-Receive  CashFlow   \n\n  instrument_identifiers.Instrument/default/ClientInternal instrument_uid  \\\n0                                          TD_Inst_A        LUID_00003DET   \n1                                                NaN        LUID_00003DET   \n\n           transaction_date           settlement_date  \\\n0 2020-03-18 00:00:00+00:00 2020-03-20 00:00:00+00:00   \n1 2020-09-18 00:00:00+00:00 2020-09-18 00:00:00+00:00   \n\n   transaction_price.price  total_consideration.amount              units  \n0                   1.0000              1,000,000.0000     1,000,000.0000  \n1                   1.0000          1,015,333,333.3333 1,015,333,333.3333  ",
      "text/html": "<div>\n<style scoped>\n    .dataframe tbody tr th:only-of-type {\n        vertical-align: middle;\n    }\n\n    .dataframe tbody tr th {\n        vertical-align: top;\n    }\n\n    .dataframe thead th {\n        text-align: right;\n    }\n</style>\n<table border=\"1\" class=\"dataframe\">\n  <thead>\n    <tr style=\"text-align: right;\">\n      <th></th>\n      <th>transaction_id</th>\n      <th>type</th>\n      <th>instrument_identifiers.Instrument/default/ClientInternal</th>\n      <th>instrument_uid</th>\n      <th>transaction_date</th>\n      <th>settlement_date</th>\n      <th>transaction_price.price</th>\n      <th>total_consideration.amount</th>\n      <th>units</th>\n    </tr>\n  </thead>\n  <tbody>\n    <tr>\n      <th>0</th>\n      <td>txn001</td>\n      <td>StockIn</td>\n      <td>TD_Inst_A</td>\n      <td>LUID_00003DET</td>\n      <td>2020-03-18 00:00:00+00:00</td>\n      <td>2020-03-20 00:00:00+00:00</td>\n      <td>1.0000</td>\n      <td>1,000,000.0000</td>\n      <td>1,000,000.0000</td>\n    </tr>\n    <tr>\n      <th>1</th>\n      <td>txn001-LUID_00003DET-20200918-Cash-USD-Receive</td>\n      <td>CashFlow</td>\n      <td>NaN</td>\n      <td>LUID_00003DET</td>\n      <td>2020-09-18 00:00:00+00:00</td>\n      <td>2020-09-18 00:00:00+00:00</td>\n      <td>1.0000</td>\n      <td>1,015,333,333.3333</td>\n      <td>1,015,333,333.3333</td>\n    </tr>\n  </tbody>\n</table>\n</div>"
     },
     "execution_count": 44,
     "metadata": {},
     "output_type": "execute_result"
    }
   ],
   "source": [
    "get_transactions_todate(pre_maturity_sale_date+timedelta(3))"
   ],
   "metadata": {
    "collapsed": false,
    "pycharm": {
     "name": "#%%\n"
    }
   }
  },
  {
   "cell_type": "markdown",
   "source": [
    "When we look at the holdings below we can see the Term Deposit has been replaced with cash in our portfolio"
   ],
   "metadata": {
    "collapsed": false,
    "pycharm": {
     "name": "#%% md\n"
    }
   }
  },
  {
   "cell_type": "code",
   "execution_count": 46,
   "outputs": [
    {
     "data": {
      "text/plain": "  instrument_scope instrument_uid  \\\n0          default  LUID_00003DET   \n1          default        CCY_USD   \n\n  properties.Instrument/default/Name.value.label_value              units  \\\n0                                  TD Example Inst A       1,000,000.0000   \n1                                                USD   1,015,333,333.3333   \n\n         cost.amount holding_type_name  \n0     1,000,000.0000          Position  \n1 1,015,333,333.3300           Balance  ",
      "text/html": "<div>\n<style scoped>\n    .dataframe tbody tr th:only-of-type {\n        vertical-align: middle;\n    }\n\n    .dataframe tbody tr th {\n        vertical-align: top;\n    }\n\n    .dataframe thead th {\n        text-align: right;\n    }\n</style>\n<table border=\"1\" class=\"dataframe\">\n  <thead>\n    <tr style=\"text-align: right;\">\n      <th></th>\n      <th>instrument_scope</th>\n      <th>instrument_uid</th>\n      <th>properties.Instrument/default/Name.value.label_value</th>\n      <th>units</th>\n      <th>cost.amount</th>\n      <th>holding_type_name</th>\n    </tr>\n  </thead>\n  <tbody>\n    <tr>\n      <th>0</th>\n      <td>default</td>\n      <td>LUID_00003DET</td>\n      <td>TD Example Inst A</td>\n      <td>1,000,000.0000</td>\n      <td>1,000,000.0000</td>\n      <td>Position</td>\n    </tr>\n    <tr>\n      <th>1</th>\n      <td>default</td>\n      <td>CCY_USD</td>\n      <td>USD</td>\n      <td>1,015,333,333.3333</td>\n      <td>1,015,333,333.3300</td>\n      <td>Balance</td>\n    </tr>\n  </tbody>\n</table>\n</div>"
     },
     "execution_count": 46,
     "metadata": {},
     "output_type": "execute_result"
    }
   ],
   "source": [
    "get_holdings(maturity_date+timedelta(3))"
   ],
   "metadata": {
    "collapsed": false,
    "pycharm": {
     "name": "#%%\n"
    }
   }
  },
  {
   "cell_type": "code",
   "execution_count": 48,
   "outputs": [
    {
     "data": {
      "text/plain": "  Instrument/default/LusidInstrumentId Instrument/default/Name  \\\n0                        LUID_00003DET       TD Example Inst A   \n1                              CCY_USD                     USD   \n\n      Analytic/default/ValuationDate  Sum(Valuation/PV)  \n0  2020-09-18T00:00:00.0000000+00:00 1,015,333,333.3333  \n1  2020-09-18T00:00:00.0000000+00:00 1,015,333,333.3333  ",
      "text/html": "<div>\n<style scoped>\n    .dataframe tbody tr th:only-of-type {\n        vertical-align: middle;\n    }\n\n    .dataframe tbody tr th {\n        vertical-align: top;\n    }\n\n    .dataframe thead th {\n        text-align: right;\n    }\n</style>\n<table border=\"1\" class=\"dataframe\">\n  <thead>\n    <tr style=\"text-align: right;\">\n      <th></th>\n      <th>Instrument/default/LusidInstrumentId</th>\n      <th>Instrument/default/Name</th>\n      <th>Analytic/default/ValuationDate</th>\n      <th>Sum(Valuation/PV)</th>\n    </tr>\n  </thead>\n  <tbody>\n    <tr>\n      <th>0</th>\n      <td>LUID_00003DET</td>\n      <td>TD Example Inst A</td>\n      <td>2020-09-18T00:00:00.0000000+00:00</td>\n      <td>1,015,333,333.3333</td>\n    </tr>\n    <tr>\n      <th>1</th>\n      <td>CCY_USD</td>\n      <td>USD</td>\n      <td>2020-09-18T00:00:00.0000000+00:00</td>\n      <td>1,015,333,333.3333</td>\n    </tr>\n  </tbody>\n</table>\n</div>"
     },
     "execution_count": 48,
     "metadata": {},
     "output_type": "execute_result"
    }
   ],
   "source": [
    "perform_valuation(CTVoMRecipe, maturity_date)"
   ],
   "metadata": {
    "collapsed": false,
    "pycharm": {
     "name": "#%%\n"
    }
   }
  },
  {
   "cell_type": "markdown",
   "source": [
    "### 6.1.2 Buy term deposit back with a decrease to market value\n",
    "In the cell below we will define a new Term Deposit B Instrument which has a start date at the end of the first Term Deposit A and a maturity date 6 months later. In all other aspects it is the same as the first term deposit instrument which was sold above.\n"
   ],
   "metadata": {
    "collapsed": false,
    "pycharm": {
     "name": "#%% md\n"
    }
   }
  },
  {
   "cell_type": "code",
   "execution_count": 35,
   "outputs": [
    {
     "name": "stdout",
     "output_type": "stream",
     "text": [
      "Created instrument with LUID:LUID_00003DEU and ClientInternal:TD_Inst_B\n",
      "Created instrument with LUID: LUID_00003DEU\n"
     ]
    }
   ],
   "source": [
    "td_luid_b  = create_td_instrument(\n",
    "    \"TD Example Inst B\",\n",
    "    \"TD_Inst_B\",\n",
    "    roll1_start_date,\n",
    "    roll1_maturity_date,\n",
    "    1000,\n",
    "    flow_conventions,\n",
    "    0.03,\n",
    "    \"USD\"\n",
    ")\n",
    "\n",
    "print(f\"Created instrument with LUID: {td_luid_b}\")"
   ],
   "metadata": {
    "collapsed": false,
    "pycharm": {
     "name": "#%%\n"
    }
   }
  },
  {
   "cell_type": "markdown",
   "source": [
    "We will now buy the new Term Deposit B at a price lower than the value it was sold at in the previous transaction."
   ],
   "metadata": {
    "collapsed": false,
    "pycharm": {
     "name": "#%% md\n"
    }
   }
  },
  {
   "cell_type": "code",
   "execution_count": 36,
   "outputs": [
    {
     "ename": "NameError",
     "evalue": "name 'pre_maturity_valuation' is not defined",
     "output_type": "error",
     "traceback": [
      "\u001B[0;31m---------------------------------------------------------------------------\u001B[0m",
      "\u001B[0;31mNameError\u001B[0m                                 Traceback (most recent call last)",
      "Input \u001B[0;32mIn [36]\u001B[0m, in \u001B[0;36m<module>\u001B[0;34m\u001B[0m\n\u001B[0;32m----> 1\u001B[0m buy_back_price \u001B[38;5;241m=\u001B[39m \u001B[43mpre_maturity_valuation\u001B[49m \u001B[38;5;241m-\u001B[39m \u001B[38;5;241m1000\u001B[39m\n\u001B[1;32m      2\u001B[0m buy_back_date \u001B[38;5;241m=\u001B[39m pre_maturity_sale_date\u001B[38;5;241m+\u001B[39mtimedelta(\u001B[38;5;241m1\u001B[39m)\n\u001B[1;32m      4\u001B[0m buy_td \u001B[38;5;241m=\u001B[39m lm\u001B[38;5;241m.\u001B[39mTransactionRequest(\n\u001B[1;32m      5\u001B[0m     transaction_id\u001B[38;5;241m=\u001B[39m\u001B[38;5;124m\"\u001B[39m\u001B[38;5;124mtxn003\u001B[39m\u001B[38;5;124m\"\u001B[39m,\n\u001B[1;32m      6\u001B[0m     \u001B[38;5;28mtype\u001B[39m\u001B[38;5;241m=\u001B[39m\u001B[38;5;124m\"\u001B[39m\u001B[38;5;124mBuy\u001B[39m\u001B[38;5;124m\"\u001B[39m,\n\u001B[0;32m   (...)\u001B[0m\n\u001B[1;32m     14\u001B[0m     transaction_currency\u001B[38;5;241m=\u001B[39m\u001B[38;5;124m\"\u001B[39m\u001B[38;5;124mUSD\u001B[39m\u001B[38;5;124m\"\u001B[39m\n\u001B[1;32m     15\u001B[0m )\n",
      "\u001B[0;31mNameError\u001B[0m: name 'pre_maturity_valuation' is not defined"
     ]
    }
   ],
   "source": [
    "buy_back_price = pre_maturity_valuation - 1000\n",
    "buy_back_date = pre_maturity_sale_date+timedelta(1)\n",
    "\n",
    "buy_td = lm.TransactionRequest(\n",
    "    transaction_id=\"txn003\",\n",
    "    type=\"Buy\",\n",
    "    instrument_identifiers={\"Instrument/default/LusidInstrumentId\": td_luid_b},\n",
    "    transaction_date=buy_back_date.isoformat(),\n",
    "    settlement_date=(buy_back_date+timedelta(3)).isoformat(),\n",
    "    units=1000000,\n",
    "    transaction_price=lm.TransactionPrice(price=1,type=\"Price\"),\n",
    "    total_consideration=lm.CurrencyAndAmount(amount=buy_back_price,currency=\"USD\"),\n",
    "    exchange_rate=1,\n",
    "    transaction_currency=\"USD\"\n",
    ")\n",
    "\n",
    "transaction_portfolios_api.upsert_transactions(\n",
    "    scope=scope, code=portfolio_code, transaction_request=[buy_td]\n",
    ")"
   ],
   "metadata": {
    "collapsed": false,
    "pycharm": {
     "name": "#%%\n"
    }
   }
  },
  {
   "cell_type": "code",
   "execution_count": null,
   "outputs": [],
   "source": [
    "get_transactions_todate(buy_back_date + timedelta(days=4))"
   ],
   "metadata": {
    "collapsed": false,
    "pycharm": {
     "name": "#%%\n"
    }
   }
  },
  {
   "cell_type": "code",
   "execution_count": null,
   "outputs": [],
   "source": [
    "get_holdings(buy_back_date)"
   ],
   "metadata": {
    "collapsed": false,
    "pycharm": {
     "name": "#%%\n"
    }
   }
  },
  {
   "cell_type": "code",
   "execution_count": null,
   "outputs": [],
   "source": [
    "# ?? Whats going on with the dates here\n",
    "perform_valuation(CTVoMRecipe, buy_back_date+timedelta(3))"
   ],
   "metadata": {
    "collapsed": false,
    "pycharm": {
     "name": "#%%\n"
    }
   }
  },
  {
   "cell_type": "markdown",
   "source": [
    "## 6.2 Rolling with an increase to interest\n",
    "### 6.2.1 Sell Term Deposit just before maturity\n",
    "As in the previous rolling example, we first sell the deposit before maturity. We use the instrument valuation calculated on the sale transaction date for the sale price."
   ],
   "metadata": {
    "collapsed": false,
    "pycharm": {
     "name": "#%% md\n"
    }
   }
  },
  {
   "cell_type": "code",
   "execution_count": null,
   "outputs": [],
   "source": [
    "# For rolling term deposits we will define new start dates and maturity dates.\n",
    "roll2_start_date = roll1_maturity_date - timedelta(1)\n",
    "roll2_maturity_date = roll2_start_date + timedelta(7)"
   ],
   "metadata": {
    "collapsed": false,
    "pycharm": {
     "name": "#%%\n"
    }
   }
  },
  {
   "cell_type": "code",
   "execution_count": null,
   "outputs": [],
   "source": [
    "pre_maturity_sale_date = roll1_maturity_date - timedelta(days=2)\n",
    "pre_maturity_valuation = get_instr_valuation(CTVoMRecipe, pre_maturity_sale_date, td_luid_b)\n",
    "\n",
    "sell_td = lm.TransactionRequest(\n",
    "    transaction_id=\"txn004\",\n",
    "    type=\"Sell\",\n",
    "    instrument_identifiers={\"Instrument/default/LusidInstrumentId\": td_luid_b},\n",
    "    transaction_date=  pre_maturity_sale_date.isoformat(),\n",
    "    settlement_date=(pre_maturity_sale_date+timedelta(3)).isoformat(),\n",
    "    units=1000000,\n",
    "    transaction_price=lm.TransactionPrice(price=1,type=\"Price\"),\n",
    "    total_consideration=lm.CurrencyAndAmount(amount=pre_maturity_valuation,currency=\"USD\")\n",
    ")\n",
    "\n",
    "transaction_portfolios_api.upsert_transactions(\n",
    "    scope=scope, code=portfolio_code, transaction_request=[sell_td]\n",
    ")"
   ],
   "metadata": {
    "collapsed": false,
    "pycharm": {
     "name": "#%%\n"
    }
   }
  },
  {
   "cell_type": "code",
   "execution_count": null,
   "outputs": [],
   "source": [
    "get_transactions_todate(pre_maturity_sale_date)"
   ],
   "metadata": {
    "collapsed": false,
    "pycharm": {
     "name": "#%%\n"
    }
   }
  },
  {
   "cell_type": "code",
   "execution_count": null,
   "outputs": [],
   "source": [
    "get_holdings(pre_maturity_sale_date)"
   ],
   "metadata": {
    "collapsed": false,
    "pycharm": {
     "name": "#%%\n"
    }
   }
  },
  {
   "cell_type": "markdown",
   "source": [],
   "metadata": {
    "collapsed": false
   }
  },
  {
   "cell_type": "code",
   "execution_count": null,
   "outputs": [],
   "source": [
    "perform_valuation(CTVoMRecipe, pre_maturity_sale_date)"
   ],
   "metadata": {
    "collapsed": false,
    "pycharm": {
     "name": "#%%\n"
    }
   }
  },
  {
   "cell_type": "markdown",
   "source": [
    "### 6.2.2 Buy term deposit back with an Increased Rate\n",
    "We will create a new instrument below with a higher rate of 0.05 -> 5% (the original Term Deposit had a rate of 3%)."
   ],
   "metadata": {
    "collapsed": false,
    "pycharm": {
     "name": "#%% md\n"
    }
   }
  },
  {
   "cell_type": "code",
   "execution_count": null,
   "outputs": [],
   "source": [
    "# Define a new instrument with a higher rate\n",
    "td_luid_c = create_td_instrument(\n",
    "    \"TD Example Instrument C\",\n",
    "    \"TD_EXAMPLE_C\",\n",
    "    roll2_start_date,\n",
    "    roll2_maturity_date,\n",
    "    1000,\n",
    "    flow_conventions,\n",
    "    0.05,\n",
    "    \"GBP\"\n",
    ")"
   ],
   "metadata": {
    "collapsed": false,
    "pycharm": {
     "name": "#%%\n"
    }
   }
  },
  {
   "cell_type": "markdown",
   "source": [
    "This new instrument will be purchased at the same price the previous term deposit was sold at."
   ],
   "metadata": {
    "collapsed": false,
    "pycharm": {
     "name": "#%% md\n"
    }
   }
  },
  {
   "cell_type": "code",
   "execution_count": null,
   "outputs": [],
   "source": [
    "buy_back_date = pre_maturity_sale_date+timedelta(1)\n",
    "\n",
    "buy_td = lm.TransactionRequest(\n",
    "    transaction_id=\"txn005\",\n",
    "    type=\"Buy\",\n",
    "    instrument_identifiers={\"Instrument/default/LusidInstrumentId\": td_luid_c},\n",
    "    transaction_date=buy_back_date.isoformat(),\n",
    "    settlement_date=(buy_back_date+timedelta(3)).isoformat(),\n",
    "    units=1000000,\n",
    "    transaction_price=lm.TransactionPrice(price=1,type=\"Price\"),\n",
    "    total_consideration=lm.CurrencyAndAmount(amount=pre_maturity_valuation,currency=\"USD\"),\n",
    "    exchange_rate=1,\n",
    "    transaction_currency=\"USD\"\n",
    ")\n",
    "\n",
    "transaction_portfolios_api.upsert_transactions(\n",
    "    scope=scope, code=portfolio_code, transaction_request=[buy_td]\n",
    ")"
   ],
   "metadata": {
    "collapsed": false,
    "pycharm": {
     "name": "#%%\n"
    }
   }
  },
  {
   "cell_type": "code",
   "execution_count": null,
   "outputs": [],
   "source": [
    "get_transactions_todate(buy_back_date + timedelta(days=4))"
   ],
   "metadata": {
    "collapsed": false,
    "pycharm": {
     "name": "#%%\n"
    }
   }
  },
  {
   "cell_type": "markdown",
   "source": [
    "The holdings shown below reflect the $1,000 price difference in the sell price of Term Deposit A and the buy price of Term Deposit B, in the USD cash holding."
   ],
   "metadata": {
    "collapsed": false,
    "pycharm": {
     "name": "#%% md\n"
    }
   }
  },
  {
   "cell_type": "code",
   "execution_count": null,
   "outputs": [],
   "source": [
    "get_holdings(buy_back_date)"
   ],
   "metadata": {
    "collapsed": false,
    "pycharm": {
     "name": "#%%\n"
    }
   }
  },
  {
   "cell_type": "code",
   "execution_count": null,
   "outputs": [],
   "source": [
    "perform_valuation(CTVoMRecipe, buy_back_date+timedelta(3))"
   ],
   "metadata": {
    "collapsed": false,
    "pycharm": {
     "name": "#%%\n"
    }
   }
  },
  {
   "cell_type": "code",
   "execution_count": null,
   "outputs": [],
   "source": [],
   "metadata": {
    "collapsed": false,
    "pycharm": {
     "name": "#%%\n"
    }
   }
  },
  {
   "cell_type": "code",
   "execution_count": null,
   "outputs": [],
   "source": [],
   "metadata": {
    "collapsed": false,
    "pycharm": {
     "name": "#%%\n"
    }
   }
  },
  {
   "cell_type": "code",
   "execution_count": null,
   "outputs": [],
   "source": [],
   "metadata": {
    "collapsed": false,
    "pycharm": {
     "name": "#%%\n"
    }
   }
  },
  {
   "cell_type": "code",
   "execution_count": null,
   "outputs": [],
   "source": [],
   "metadata": {
    "collapsed": false,
    "pycharm": {
     "name": "#%%\n"
    }
   }
  },
  {
   "cell_type": "code",
   "execution_count": null,
   "outputs": [],
   "source": [],
   "metadata": {
    "collapsed": false,
    "pycharm": {
     "name": "#%%\n"
    }
   }
  },
  {
   "cell_type": "code",
   "execution_count": null,
   "outputs": [],
   "source": [],
   "metadata": {
    "collapsed": false,
    "pycharm": {
     "name": "#%%\n"
    }
   }
  },
  {
   "cell_type": "code",
   "execution_count": null,
   "outputs": [],
   "source": [],
   "metadata": {
    "collapsed": false,
    "pycharm": {
     "name": "#%%\n"
    }
   }
  },
  {
   "cell_type": "code",
   "execution_count": null,
   "outputs": [],
   "source": [],
   "metadata": {
    "collapsed": false,
    "pycharm": {
     "name": "#%%\n"
    }
   }
  },
  {
   "cell_type": "code",
   "execution_count": null,
   "outputs": [],
   "source": [],
   "metadata": {
    "collapsed": false,
    "pycharm": {
     "name": "#%%\n"
    }
   }
  },
  {
   "cell_type": "code",
   "execution_count": null,
   "outputs": [],
   "source": [],
   "metadata": {
    "collapsed": false,
    "pycharm": {
     "name": "#%%\n"
    }
   }
  },
  {
   "cell_type": "code",
   "execution_count": null,
   "outputs": [],
   "source": [],
   "metadata": {
    "collapsed": false,
    "pycharm": {
     "name": "#%%\n"
    }
   }
  },
  {
   "cell_type": "markdown",
   "source": [
    "### 5.2 Valuations using CTVoM"
   ],
   "metadata": {
    "collapsed": false,
    "pycharm": {
     "name": "#%% md\n"
    }
   }
  },
  {
   "cell_type": "code",
   "execution_count": null,
   "outputs": [],
   "source": [
    "# Before first roll\n",
    "perform_valuation(CTVoMRecipe, datetime(2034,12,1,00, tzinfo=pytz.utc))"
   ],
   "metadata": {
    "collapsed": false,
    "pycharm": {
     "name": "#%%\n"
    }
   }
  },
  {
   "cell_type": "code",
   "execution_count": null,
   "outputs": [],
   "source": [
    "# After first roll\n",
    "perform_valuation(CTVoMRecipe, datetime(2034,12,14,00, tzinfo=pytz.utc))"
   ],
   "metadata": {
    "collapsed": false,
    "pycharm": {
     "name": "#%%\n"
    }
   }
  },
  {
   "cell_type": "code",
   "execution_count": null,
   "outputs": [],
   "source": [
    "# After second roll\n",
    "perform_valuation(CTVoMRecipe, portfolio_code,  datetime(2034,12,24,00, tzinfo=pytz.utc))"
   ],
   "metadata": {
    "collapsed": false,
    "pycharm": {
     "name": "#%%\n"
    }
   }
  },
  {
   "cell_type": "code",
   "execution_count": null,
   "outputs": [],
   "source": [
    "# After maturity\n",
    "perform_valuation(CTVoMRecipe, portfolio_code,  datetime(2035,1,1,00, tzinfo=pytz.utc))"
   ],
   "metadata": {
    "collapsed": false,
    "pycharm": {
     "name": "#%%\n"
    }
   }
  },
  {
   "cell_type": "markdown",
   "source": [
    "### 5.3 Valuations using SS"
   ],
   "metadata": {
    "collapsed": false,
    "pycharm": {
     "name": "#%% md\n"
    }
   }
  },
  {
   "cell_type": "code",
   "execution_count": null,
   "outputs": [],
   "source": [
    "# Before first roll\n",
    "perform_valuation(SSRecipe, portfolio_code,  datetime(2034,12,1,00, tzinfo=pytz.utc))"
   ],
   "metadata": {
    "collapsed": false,
    "pycharm": {
     "name": "#%%\n"
    }
   }
  },
  {
   "cell_type": "code",
   "execution_count": null,
   "outputs": [],
   "source": [
    "# After first roll\n",
    "perform_valuation(SSRecipe, portfolio_code,  datetime(2034,12,14,00, tzinfo=pytz.utc))"
   ],
   "metadata": {
    "collapsed": false,
    "pycharm": {
     "name": "#%%\n"
    }
   }
  },
  {
   "cell_type": "code",
   "execution_count": null,
   "outputs": [],
   "source": [
    "# After second roll\n",
    "perform_valuation(SSRecipe, portfolio_code,  datetime(2034,12,24,00, tzinfo=pytz.utc))"
   ],
   "metadata": {
    "collapsed": false,
    "pycharm": {
     "name": "#%%\n"
    }
   }
  },
  {
   "cell_type": "code",
   "execution_count": null,
   "outputs": [],
   "source": [
    "# After maturity\n",
    "perform_valuation(CTVoMRecipe, portfolio_code,  datetime(2035,1,1,00, tzinfo=pytz.utc))"
   ],
   "metadata": {
    "collapsed": false,
    "pycharm": {
     "name": "#%%\n"
    }
   }
  },
  {
   "cell_type": "markdown",
   "source": [
    "? How do I feed valuation price into sale price\n",
    "? Should valuation prices change with time\n",
    "? Does the second purchase after the roll need to have a later maturity"
   ],
   "metadata": {
    "collapsed": false,
    "pycharm": {
     "name": "#%% md\n"
    }
   }
  },
  {
   "cell_type": "code",
   "execution_count": null,
   "outputs": [],
   "source": [
    "# Book a sell transaction against the term deposit\n",
    "preMaturityValuation = instA_valuation(rolling_date)\n",
    "\n",
    "sell_td = lm.TransactionRequest(\n",
    "    transaction_id=\"txn003\",\n",
    "    type=\"Sell\",\n",
    "    instrument_identifiers={\"Instrument/default/ClientInternal\": \"TD_EXAMPLE_A\"},\n",
    "    transaction_date=rolling_date.isoformat(),\n",
    "    settlement_date=(rolling_date + timedelta(days=30)).isoformat(),\n",
    "    units=75,\n",
    "    transaction_price=lm.TransactionPrice(price=0,type=\"Price\"),\n",
    "    total_consideration=lm.CurrencyAndAmount(amount=preMaturityValuation,currency=\"USD\"),\n",
    "    exchange_rate=1,\n",
    "    transaction_currency=\"USD\"\n",
    ")\n",
    "\n",
    "response = transaction_portfolios_api.upsert_transactions(scope=scope,\n",
    "                                                    code=portfolio_code,\n",
    "                                                    transaction_request=[sell_td])\n",
    "response"
   ],
   "metadata": {
    "collapsed": false,
    "pycharm": {
     "name": "#%%\n"
    }
   }
  },
  {
   "cell_type": "code",
   "source": [
    "# # Buy TD back with lower market value\n",
    "#\n",
    "# sell_td = lm.TransactionRequest(\n",
    "#     transaction_id=\"txn004\",\n",
    "#     type=\"Sell\",\n",
    "#     instrument_identifiers={\"Instrument/default/ClientInternal\": \"TD_EXAMPLE_A\"},\n",
    "#     transaction_date=rolling_date.isoformat(),\n",
    "#     settlement_date=(rolling_date + timedelta(days=30)).isoformat(),\n",
    "#     units=75,\n",
    "#     transaction_price=lm.TransactionPrice(price=0,type=\"Price\"),\n",
    "#     total_consideration=lm.CurrencyAndAmount(amount=preMaturityValuation,currency=\"USD\"),\n",
    "#     exchange_rate=1,\n",
    "#     transaction_currency=\"USD\"\n",
    "# )"
   ],
   "metadata": {
    "collapsed": false,
    "pycharm": {
     "name": "#%%\n"
    }
   },
   "execution_count": null,
   "outputs": []
  },
  {
   "cell_type": "code",
   "execution_count": null,
   "outputs": [],
   "source": [
    "\n"
   ],
   "metadata": {
    "collapsed": false,
    "pycharm": {
     "name": "#%%\n"
    }
   }
  }
 ],
 "metadata": {
  "kernelspec": {
   "display_name": "Python 3",
   "language": "python",
   "name": "python3"
  },
  "language_info": {
   "codemirror_mode": {
    "name": "ipython",
    "version": 2
   },
   "file_extension": ".py",
   "mimetype": "text/x-python",
   "name": "python",
   "nbconvert_exporter": "python",
   "pygments_lexer": "ipython2",
   "version": "2.7.6"
  }
 },
 "nbformat": 4,
 "nbformat_minor": 0
}